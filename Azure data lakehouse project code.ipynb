{
 "cells": [
  {
   "cell_type": "markdown",
   "metadata": {
    "application/vnd.databricks.v1+cell": {
     "cellMetadata": {},
     "inputWidgets": {},
     "nuid": "1ae22470-123c-4d77-a7ae-b5b2277f1bb3",
     "showTitle": false,
     "tableResultSettingsMap": {},
     "title": ""
    }
   },
   "source": [
    "#Read in csv files and turn into delta"
   ]
  },
  {
   "cell_type": "markdown",
   "metadata": {
    "application/vnd.databricks.v1+cell": {
     "cellMetadata": {},
     "inputWidgets": {},
     "nuid": "66b80f25-c47f-4688-9b11-2ab36cd6ed0c",
     "showTitle": false,
     "tableResultSettingsMap": {},
     "title": ""
    }
   },
   "source": [
    "#To Payments delta\n"
   ]
  },
  {
   "cell_type": "code",
   "execution_count": 0,
   "metadata": {
    "application/vnd.databricks.v1+cell": {
     "cellMetadata": {
      "byteLimit": 2048000,
      "rowLimit": 10000
     },
     "inputWidgets": {},
     "nuid": "3db81105-118c-465a-b30f-04c828d0f406",
     "showTitle": false,
     "tableResultSettingsMap": {},
     "title": ""
    }
   },
   "outputs": [
    {
     "output_type": "stream",
     "name": "stdout",
     "output_type": "stream",
     "text": [
      "root\n |-- payment_id: string (nullable = true)\n |-- date: string (nullable = true)\n |-- amount: string (nullable = true)\n |-- account_number: string (nullable = true)\n\n"
     ]
    }
   ],
   "source": [
    "payments_df = spark.read.format(\"csv\") \\\n",
    "    .option(\"inferSchema\", \"false\") \\\n",
    "    .option(\"header\", \"false\") \\\n",
    "    .option(\"sep\", \",\") \\\n",
    "    .load(\"/FileStore/payments.csv\")\n",
    "\n",
    "columns = ['payment_id','date','amount','account_number']\n",
    "payments_df = payments_df.toDF(*columns)\n",
    "\n",
    "payments_df.write.format(\"delta\").mode(\"overwrite\").save(\"/delta/payments_delta\")\n",
    "\n",
    "payments_df.printSchema()"
   ]
  },
  {
   "cell_type": "markdown",
   "metadata": {
    "application/vnd.databricks.v1+cell": {
     "cellMetadata": {},
     "inputWidgets": {},
     "nuid": "0668c5dc-38ce-413a-904c-245aaa97ce47",
     "showTitle": false,
     "tableResultSettingsMap": {},
     "title": ""
    }
   },
   "source": [
    "#To Trips delta\n"
   ]
  },
  {
   "cell_type": "code",
   "execution_count": 0,
   "metadata": {
    "application/vnd.databricks.v1+cell": {
     "cellMetadata": {
      "byteLimit": 2048000,
      "rowLimit": 10000
     },
     "inputWidgets": {},
     "nuid": "44c654a7-9285-4620-b759-b1c57bcbe2a1",
     "showTitle": false,
     "tableResultSettingsMap": {},
     "title": ""
    }
   },
   "outputs": [
    {
     "output_type": "stream",
     "name": "stdout",
     "output_type": "stream",
     "text": [
      "root\n |-- trip_id: string (nullable = true)\n |-- rideable_type: string (nullable = true)\n |-- started_at: string (nullable = true)\n |-- ended_at: string (nullable = true)\n |-- start_station_id: string (nullable = true)\n |-- end_station_id: string (nullable = true)\n |-- rider_id: string (nullable = true)\n\n"
     ]
    }
   ],
   "source": [
    "trips_df = spark.read.format(\"csv\") \\\n",
    "    .option(\"inferSchema\", \"false\") \\\n",
    "    .option(\"header\", \"false\") \\\n",
    "    .option(\"sep\", \",\") \\\n",
    "    .load(\"/FileStore/trips.csv\")\n",
    "\n",
    "columns = ['trip_id','rideable_type','started_at','ended_at','start_station_id','end_station_id','rider_id']\n",
    "trips_df = trips_df.toDF(*columns)\n",
    "\n",
    "trips_df.write.format(\"delta\").mode(\"overwrite\").save(\"/delta/trips_delta\")\n",
    "trips_df.printSchema()\n",
    "\n"
   ]
  },
  {
   "cell_type": "markdown",
   "metadata": {
    "application/vnd.databricks.v1+cell": {
     "cellMetadata": {},
     "inputWidgets": {},
     "nuid": "125677e5-e4f3-40a2-9889-d51158d6ae5d",
     "showTitle": false,
     "tableResultSettingsMap": {},
     "title": ""
    }
   },
   "source": [
    "#To Riders delta\n"
   ]
  },
  {
   "cell_type": "code",
   "execution_count": 0,
   "metadata": {
    "application/vnd.databricks.v1+cell": {
     "cellMetadata": {
      "byteLimit": 2048000,
      "rowLimit": 10000
     },
     "inputWidgets": {},
     "nuid": "c77da8e3-610a-41d4-af6a-4876ec2160c4",
     "showTitle": false,
     "tableResultSettingsMap": {},
     "title": ""
    }
   },
   "outputs": [
    {
     "output_type": "stream",
     "name": "stdout",
     "output_type": "stream",
     "text": [
      "root\n |-- rider_id: string (nullable = true)\n |-- first: string (nullable = true)\n |-- last: string (nullable = true)\n |-- address: string (nullable = true)\n |-- birthday: string (nullable = true)\n |-- account_start_date: string (nullable = true)\n |-- account_end_date: string (nullable = true)\n |-- is_member: string (nullable = true)\n\n"
     ]
    }
   ],
   "source": [
    "riders_df = spark.read.format(\"csv\") \\\n",
    "    .option(\"inferSchema\", \"false\") \\\n",
    "    .option(\"header\", \"false\") \\\n",
    "    .option(\"sep\", \",\") \\\n",
    "    .load(\"/FileStore/riders.csv\")\n",
    "    \n",
    "columns = ['rider_id','first','last','address','birthday','account_start_date','account_end_date','is_member']\n",
    "riders_df = riders_df.toDF(*columns)\n",
    "\n",
    "riders_df.write.format(\"delta\").mode(\"overwrite\").save(\"/delta/riders_delta\")\n",
    "riders_df.printSchema()\n"
   ]
  },
  {
   "cell_type": "markdown",
   "metadata": {
    "application/vnd.databricks.v1+cell": {
     "cellMetadata": {},
     "inputWidgets": {},
     "nuid": "b7c4dedf-c79b-4601-ac55-c293ec276af8",
     "showTitle": false,
     "tableResultSettingsMap": {},
     "title": ""
    }
   },
   "source": [
    "#To Stations delta\n"
   ]
  },
  {
   "cell_type": "code",
   "execution_count": 0,
   "metadata": {
    "application/vnd.databricks.v1+cell": {
     "cellMetadata": {
      "byteLimit": 2048000,
      "rowLimit": 10000
     },
     "inputWidgets": {},
     "nuid": "11c31fdb-3380-431b-b002-432946fce3ce",
     "showTitle": false,
     "tableResultSettingsMap": {},
     "title": ""
    }
   },
   "outputs": [],
   "source": [
    "\n",
    "stations_df = spark.read.format(\"csv\") \\\n",
    "    .option(\"inferSchema\", \"false\") \\\n",
    "    .option(\"header\", \"false\") \\\n",
    "    .option(\"sep\", \",\") \\\n",
    "    .load(\"/FileStore/stations.csv\")\n",
    "\n",
    "columns = ['station_id','name','latitude','longitude']\n",
    "stations_df = stations_df.toDF(*columns)\n",
    "\n",
    "stations_df.write.format(\"delta\").mode(\"overwrite\").save(\"/delta/stations_delta\")"
   ]
  },
  {
   "cell_type": "code",
   "execution_count": 0,
   "metadata": {
    "application/vnd.databricks.v1+cell": {
     "cellMetadata": {
      "byteLimit": 2048000,
      "implicitDf": true,
      "rowLimit": 10000
     },
     "inputWidgets": {},
     "nuid": "762d1874-4b44-4a41-92fb-78fb0649fba8",
     "showTitle": false,
     "tableResultSettingsMap": {},
     "title": ""
    }
   },
   "outputs": [
    {
     "output_type": "execute_result",
     "data": {
      "text/plain": [
       "True"
      ]
     },
     "execution_count": 77,
     "metadata": {},
     "output_type": "execute_result"
    }
   ],
   "source": [
    "#delete tables\n",
    "dbutils.fs.rm(\"/delta/trips_delta\", recurse=True)\n",
    "\n",
    "#show\n",
    "dbutils.fs.ls(\"/delta/\")"
   ]
  },
  {
   "cell_type": "markdown",
   "metadata": {
    "application/vnd.databricks.v1+cell": {
     "cellMetadata": {},
     "inputWidgets": {},
     "nuid": "89b8cd40-f00c-499d-b8dc-b8704649f65c",
     "showTitle": false,
     "tableResultSettingsMap": {},
     "title": ""
    }
   },
   "source": [
    "#Riders and Stations to dim"
   ]
  },
  {
   "cell_type": "code",
   "execution_count": 0,
   "metadata": {
    "application/vnd.databricks.v1+cell": {
     "cellMetadata": {
      "byteLimit": 2048000,
      "rowLimit": 10000
     },
     "inputWidgets": {},
     "nuid": "39d63b23-6a48-4d30-939f-232647faa2b0",
     "showTitle": false,
     "tableResultSettingsMap": {},
     "title": ""
    }
   },
   "outputs": [],
   "source": [
    "riders_df = spark.read.format(\"delta\").load(\"/delta/riders_delta\")\n",
    "riders_df.write.format(\"delta\").mode(\"overwrite\").save(\"/delta/riders_dim\")\n",
    "\n",
    "stations_df = spark.read.format(\"delta\").load(\"/delta/stations_delta\")\n",
    "stations_df.write.format(\"delta\").mode(\"overwrite\").save(\"/delta/stations_dim\")"
   ]
  },
  {
   "cell_type": "markdown",
   "metadata": {
    "application/vnd.databricks.v1+cell": {
     "cellMetadata": {},
     "inputWidgets": {},
     "nuid": "f0e83205-46da-4511-b0b2-87522f952b97",
     "showTitle": false,
     "tableResultSettingsMap": {},
     "title": ""
    }
   },
   "source": [
    "#Create Time Table, dim"
   ]
  },
  {
   "cell_type": "code",
   "execution_count": 0,
   "metadata": {
    "application/vnd.databricks.v1+cell": {
     "cellMetadata": {
      "byteLimit": 2048000,
      "rowLimit": 10000
     },
     "inputWidgets": {},
     "nuid": "fc3d32b0-e77e-43f9-a082-e51fa578d297",
     "showTitle": false,
     "tableResultSettingsMap": {},
     "title": ""
    }
   },
   "outputs": [],
   "source": [
    "#creates time table\n",
    "# \n",
    "# \n",
    "# \n",
    "from pyspark.sql.functions import col, to_date, explode, sequence, year, month, dayofweek, quarter\n",
    "\n",
    "# Generate a date range\n",
    "start_date = \"2020-01-01\"\n",
    "end_date = \"2022-12-31\"\n",
    "\n",
    "dates_df = spark.sql(f\"\"\"\n",
    "    SELECT explode(sequence(to_date('{start_date}'), to_date('{end_date}'), interval 1 day)) AS date\n",
    "\"\"\")\n",
    "\n",
    "# Add date attributes properly using functions\n",
    "time_dim_df = dates_df \\\n",
    "    .withColumn(\"year\", year(col(\"date\"))) \\\n",
    "    .withColumn(\"month\", month(col(\"date\"))) \\\n",
    "    .withColumn(\"day_of_week\", dayofweek(col(\"date\"))) \\\n",
    "    .withColumn(\"quarter\", quarter(col(\"date\")))\n",
    "\n",
    "# Save to delta\n",
    "time_dim_df.write.format(\"delta\").mode(\"overwrite\").save(\"/delta/time_dim\")"
   ]
  },
  {
   "cell_type": "markdown",
   "metadata": {
    "application/vnd.databricks.v1+cell": {
     "cellMetadata": {},
     "inputWidgets": {},
     "nuid": "b23a4565-4f4f-4f0c-9fa7-ade05254cefd",
     "showTitle": false,
     "tableResultSettingsMap": {},
     "title": ""
    }
   },
   "source": [
    "#Trip delta to dim, with trip duration"
   ]
  },
  {
   "cell_type": "code",
   "execution_count": 0,
   "metadata": {
    "application/vnd.databricks.v1+cell": {
     "cellMetadata": {
      "byteLimit": 2048000,
      "rowLimit": 10000
     },
     "inputWidgets": {},
     "nuid": "7252f631-b222-4f7e-827b-ebd45abd9412",
     "showTitle": false,
     "tableResultSettingsMap": {},
     "title": ""
    }
   },
   "outputs": [],
   "source": [
    "#Creates column of trip with minutes duration and adds to trips\n",
    "# \n",
    "# \n",
    "from pyspark.sql.functions import to_timestamp, unix_timestamp, col\n",
    "\n",
    "trips_df = spark.read.format(\"delta\").load(\"/delta/trips_delta\")\n",
    "\n",
    "# Calculate duration in minutes\n",
    "from pyspark.sql.functions import unix_timestamp\n",
    "\n",
    "trips_df = trips_df.withColumn(\n",
    "    \"trip_duration_minutes\",\n",
    "    (unix_timestamp(\"ended_at\") - unix_timestamp(\"started_at\")) / 60\n",
    ")\n",
    "\n",
    "# Save trips fact table\n",
    "trips_df.write.format(\"delta\").mode(\"overwrite\").save(\"/delta/trips_dim\")"
   ]
  },
  {
   "cell_type": "markdown",
   "metadata": {
    "application/vnd.databricks.v1+cell": {
     "cellMetadata": {},
     "inputWidgets": {},
     "nuid": "f907e975-2822-4fcf-8753-2f534882ad98",
     "showTitle": false,
     "tableResultSettingsMap": {},
     "title": ""
    }
   },
   "source": [
    "#Joins payments dim on date table"
   ]
  },
  {
   "cell_type": "code",
   "execution_count": 0,
   "metadata": {
    "application/vnd.databricks.v1+cell": {
     "cellMetadata": {
      "byteLimit": 2048000,
      "rowLimit": 10000
     },
     "inputWidgets": {},
     "nuid": "cae4569d-e23e-41c3-81be-fa2ff29394ad",
     "showTitle": false,
     "tableResultSettingsMap": {},
     "title": ""
    }
   },
   "outputs": [],
   "source": [
    "# 1. Read payments_delta table\n",
    "payments_df = spark.read.format(\"delta\").load(\"/delta/payments_delta\")\n",
    "\n",
    "# 2. Load your time_dim table\n",
    "time_dim = spark.read.format(\"delta\").load(\"/delta/time_dim\")\n",
    "\n",
    "# 3. Prepare for join with payments date. For some reason GenAI suggested to copy the date column\n",
    "time_dim_payments_dim = time_dim.withColumnRenamed(\"date\", \"date_for_payments\") \n",
    "\n",
    "# 4. Join for the new time table with the payments table\n",
    "payments_df = payments_df.join(\n",
    "    time_dim_payments_dim,\n",
    "    payments_df.date == time_dim_payments_dim.date_for_payments,\n",
    "    \"left\"\n",
    ")\n",
    "\n",
    "# Save payments fact table\n",
    "payments_df.write.format(\"delta\").mode(\"overwrite\").save(\"/delta/payments_dim\")"
   ]
  },
  {
   "cell_type": "markdown",
   "metadata": {
    "application/vnd.databricks.v1+cell": {
     "cellMetadata": {},
     "inputWidgets": {},
     "nuid": "790d7378-f594-414a-92e8-36ba014e052c",
     "showTitle": false,
     "tableResultSettingsMap": {},
     "title": ""
    }
   },
   "source": [
    "#Joins Trips dim on date table\n"
   ]
  },
  {
   "cell_type": "code",
   "execution_count": 0,
   "metadata": {
    "application/vnd.databricks.v1+cell": {
     "cellMetadata": {
      "byteLimit": 2048000,
      "rowLimit": 10000
     },
     "inputWidgets": {},
     "nuid": "aef3911d-18e5-49a0-b511-62c6b49f60dd",
     "showTitle": false,
     "tableResultSettingsMap": {},
     "title": ""
    }
   },
   "outputs": [],
   "source": [
    "#Based on date and time factors such as day of week and time of day\n",
    "# \n",
    "# \n",
    "\n",
    "from pyspark.sql.functions import to_date, col\n",
    "trips_df = spark.read.format(\"delta\").load(\"/delta/trips_dim\")\n",
    "\n",
    "# 1. Extract date from start_time \n",
    "#trips_df = trips_df.withColumn(\"start_date\", to_date(\"started_at\")) \n",
    "\n",
    "# 2. Load your time_dim table\n",
    "time_dim = spark.read.format(\"delta\").load(\"/delta/time_dim\")\n",
    "\n",
    "# 3.  Prepare for join with trips start date. For some reason GenAI suggested to copy the date column\n",
    "start_time_dim = time_dim.withColumnRenamed(\"date\", \"start_date_temp\")  \n",
    "\n",
    "# 4. Join for start_time_id\n",
    "trips_df = trips_df.join(\n",
    "    start_time_dim,\n",
    "    trips_df.started_at == start_time_dim.start_date_temp,\n",
    "    \"left\"\n",
    ")\n",
    "\n",
    "# 5. Prepare for join with end_time\n",
    "#end_time_dim = time_dim.withColumnRenamed(\"date\", \"end_date_temp\") \\\n",
    " #                      .withColumnRenamed(\"time_id\", \"end_time_id\") \n",
    "\n",
    "# 6. Join for end_time_id\n",
    "#trips_df = trips_df.join(\n",
    "  #  end_time_dim,\n",
    " #   trips_df.end_date == end_time_dim.end_date_temp,\n",
    "  #  \"left\"\n",
    "#)"
   ]
  },
  {
   "cell_type": "markdown",
   "metadata": {
    "application/vnd.databricks.v1+cell": {
     "cellMetadata": {},
     "inputWidgets": {},
     "nuid": "1586a205-9231-4e4e-83bb-129622860851",
     "showTitle": false,
     "tableResultSettingsMap": {},
     "title": ""
    }
   },
   "source": [
    "#Create trips view for SQL"
   ]
  },
  {
   "cell_type": "code",
   "execution_count": 0,
   "metadata": {
    "application/vnd.databricks.v1+cell": {
     "cellMetadata": {
      "byteLimit": 2048000,
      "rowLimit": 10000
     },
     "inputWidgets": {},
     "nuid": "95a5c8f3-0755-4d9f-baeb-b1fa50cc6f41",
     "showTitle": false,
     "tableResultSettingsMap": {},
     "title": ""
    }
   },
   "outputs": [],
   "source": [
    "trips_df.createOrReplaceTempView(\"trips_view\")"
   ]
  },
  {
   "cell_type": "code",
   "execution_count": 0,
   "metadata": {
    "application/vnd.databricks.v1+cell": {
     "cellMetadata": {
      "byteLimit": 2048000,
      "implicitDf": true,
      "rowLimit": 10000
     },
     "inputWidgets": {},
     "nuid": "8fc86ae1-a736-4572-9b05-990262856508",
     "showTitle": false,
     "tableResultSettingsMap": {
      "0": {
       "dataGridStateBlob": "{\"version\":1,\"tableState\":{\"columnPinning\":{\"left\":[\"#row_number#\"],\"right\":[]},\"columnSizing\":{},\"columnVisibility\":{}},\"settings\":{\"columns\":{}},\"syncTimestamp\":1756841060657}",
       "filterBlob": null,
       "queryPlanFiltersBlob": null,
       "tableResultIndex": 0
      }
     },
     "title": ""
    }
   },
   "outputs": [
    {
     "output_type": "display_data",
     "data": {
      "text/html": [
       "<style scoped>\n",
       "  .table-result-container {\n",
       "    max-height: 300px;\n",
       "    overflow: auto;\n",
       "  }\n",
       "  table, th, td {\n",
       "    border: 1px solid black;\n",
       "    border-collapse: collapse;\n",
       "  }\n",
       "  th, td {\n",
       "    padding: 5px;\n",
       "  }\n",
       "  th {\n",
       "    text-align: left;\n",
       "  }\n",
       "</style><div class='table-result-container'><table class='table-result'><thead style='background-color: white'><tr><th>col_name</th><th>data_type</th><th>comment</th></tr></thead><tbody><tr><td>trip_id</td><td>string</td><td>null</td></tr><tr><td>rideable_type</td><td>string</td><td>null</td></tr><tr><td>started_at</td><td>string</td><td>null</td></tr><tr><td>ended_at</td><td>string</td><td>null</td></tr><tr><td>start_station_id</td><td>string</td><td>null</td></tr><tr><td>end_station_id</td><td>string</td><td>null</td></tr><tr><td>rider_id</td><td>string</td><td>null</td></tr><tr><td>trip_duration_minutes</td><td>double</td><td>null</td></tr><tr><td>start_date_temp</td><td>date</td><td>null</td></tr><tr><td>year</td><td>int</td><td>null</td></tr><tr><td>month</td><td>int</td><td>null</td></tr><tr><td>day_of_week</td><td>int</td><td>null</td></tr><tr><td>quarter</td><td>int</td><td>null</td></tr></tbody></table></div>"
      ]
     },
     "metadata": {
      "application/vnd.databricks.v1+output": {
       "addedWidgets": {},
       "aggData": [],
       "aggError": "",
       "aggOverflow": false,
       "aggSchema": [],
       "aggSeriesLimitReached": false,
       "aggType": "",
       "arguments": {},
       "columnCustomDisplayInfos": {},
       "data": [
        [
         "trip_id",
         "string",
         null
        ],
        [
         "rideable_type",
         "string",
         null
        ],
        [
         "started_at",
         "string",
         null
        ],
        [
         "ended_at",
         "string",
         null
        ],
        [
         "start_station_id",
         "string",
         null
        ],
        [
         "end_station_id",
         "string",
         null
        ],
        [
         "rider_id",
         "string",
         null
        ],
        [
         "trip_duration_minutes",
         "double",
         null
        ],
        [
         "start_date_temp",
         "date",
         null
        ],
        [
         "year",
         "int",
         null
        ],
        [
         "month",
         "int",
         null
        ],
        [
         "day_of_week",
         "int",
         null
        ],
        [
         "quarter",
         "int",
         null
        ]
       ],
       "datasetInfos": [
        {
         "name": "_sqldf",
         "schema": {
          "fields": [
           {
            "metadata": {
             "comment": "name of the column"
            },
            "name": "col_name",
            "nullable": false,
            "type": "string"
           },
           {
            "metadata": {
             "comment": "data type of the column"
            },
            "name": "data_type",
            "nullable": false,
            "type": "string"
           },
           {
            "metadata": {
             "comment": "comment of the column"
            },
            "name": "comment",
            "nullable": true,
            "type": "string"
           }
          ],
          "type": "struct"
         },
         "tableIdentifier": null,
         "typeStr": "pyspark.sql.dataframe.DataFrame"
        }
       ],
       "dbfsResultPath": null,
       "isJsonSchema": true,
       "metadata": {
        "createTempViewForImplicitDf": true,
        "dataframeName": "_sqldf",
        "executionCount": 14
       },
       "overflow": false,
       "plotOptions": {
        "customPlotOptions": {},
        "displayType": "table",
        "pivotAggregation": null,
        "pivotColumns": null,
        "xColumns": null,
        "yColumns": null
       },
       "removedWidgets": [],
       "schema": [
        {
         "metadata": "{\"comment\":\"name of the column\"}",
         "name": "col_name",
         "type": "\"string\""
        },
        {
         "metadata": "{\"comment\":\"data type of the column\"}",
         "name": "data_type",
         "type": "\"string\""
        },
        {
         "metadata": "{\"comment\":\"comment of the column\"}",
         "name": "comment",
         "type": "\"string\""
        }
       ],
       "type": "table"
      }
     },
     "output_type": "display_data"
    }
   ],
   "source": [
    "%sql\n",
    "DESCRIBE trips_view;"
   ]
  },
  {
   "cell_type": "markdown",
   "metadata": {
    "application/vnd.databricks.v1+cell": {
     "cellMetadata": {},
     "inputWidgets": {},
     "nuid": "ba398d80-c7e7-489f-9150-c9aa3fa24ff0",
     "showTitle": false,
     "tableResultSettingsMap": {},
     "title": ""
    }
   },
   "source": [
    "#Query to group by day of week\n"
   ]
  },
  {
   "cell_type": "code",
   "execution_count": 0,
   "metadata": {
    "application/vnd.databricks.v1+cell": {
     "cellMetadata": {
      "byteLimit": 2048000,
      "implicitDf": true,
      "rowLimit": 10000
     },
     "inputWidgets": {},
     "nuid": "37980c8b-265f-49cc-877d-8ac9a65633d0",
     "showTitle": false,
     "tableResultSettingsMap": {},
     "title": ""
    }
   },
   "outputs": [
    {
     "output_type": "display_data",
     "data": {
      "text/html": [
       "<style scoped>\n",
       "  .table-result-container {\n",
       "    max-height: 300px;\n",
       "    overflow: auto;\n",
       "  }\n",
       "  table, th, td {\n",
       "    border: 1px solid black;\n",
       "    border-collapse: collapse;\n",
       "  }\n",
       "  th, td {\n",
       "    padding: 5px;\n",
       "  }\n",
       "  th {\n",
       "    text-align: left;\n",
       "  }\n",
       "</style><div class='table-result-container'><table class='table-result'><thead style='background-color: white'><tr><th>trip_count</th><th>avg_duration</th></tr></thead><tbody><tr><td>713526</td><td>27.825023334818823</td></tr><tr><td>576105</td><td>20.622928632801287</td></tr><tr><td>604777</td><td>18.176753332219565</td></tr><tr><td>616336</td><td>18.035415828379506</td></tr><tr><td>598289</td><td>18.242422809043646</td></tr><tr><td>653418</td><td>20.805768665693318</td></tr><tr><td>822470</td><td>26.19423184634876</td></tr></tbody></table></div>"
      ]
     },
     "metadata": {
      "application/vnd.databricks.v1+output": {
       "addedWidgets": {},
       "aggData": [],
       "aggError": "",
       "aggOverflow": false,
       "aggSchema": [],
       "aggSeriesLimitReached": false,
       "aggType": "",
       "arguments": {},
       "columnCustomDisplayInfos": {},
       "data": [
        [
         713526,
         27.825023334818823
        ],
        [
         576105,
         20.622928632801287
        ],
        [
         604777,
         18.176753332219565
        ],
        [
         616336,
         18.035415828379506
        ],
        [
         598289,
         18.242422809043646
        ],
        [
         653418,
         20.805768665693318
        ],
        [
         822470,
         26.19423184634876
        ]
       ],
       "datasetInfos": [
        {
         "name": "_sqldf",
         "schema": {
          "fields": [
           {
            "metadata": {},
            "name": "trip_count",
            "nullable": false,
            "type": "long"
           },
           {
            "metadata": {},
            "name": "avg_duration",
            "nullable": true,
            "type": "double"
           }
          ],
          "type": "struct"
         },
         "tableIdentifier": null,
         "typeStr": "pyspark.sql.dataframe.DataFrame"
        }
       ],
       "dbfsResultPath": null,
       "isJsonSchema": true,
       "metadata": {
        "createTempViewForImplicitDf": true,
        "dataframeName": "_sqldf",
        "executionCount": 15
       },
       "overflow": false,
       "plotOptions": {
        "customPlotOptions": {},
        "displayType": "table",
        "pivotAggregation": null,
        "pivotColumns": null,
        "xColumns": null,
        "yColumns": null
       },
       "removedWidgets": [],
       "schema": [
        {
         "metadata": "{}",
         "name": "trip_count",
         "type": "\"long\""
        },
        {
         "metadata": "{}",
         "name": "avg_duration",
         "type": "\"double\""
        }
       ],
       "type": "table"
      }
     },
     "output_type": "display_data"
    }
   ],
   "source": [
    "%sql\n",
    "--Query to group by hour of day\n",
    "\n",
    "SELECT  COUNT(*) AS trip_count, AVG(trip_duration_minutes) AS avg_duration\n",
    "FROM trips_view\n",
    "GROUP BY day_of_week\n",
    "ORDER BY day_of_week;\n"
   ]
  },
  {
   "cell_type": "markdown",
   "metadata": {
    "application/vnd.databricks.v1+cell": {
     "cellMetadata": {},
     "inputWidgets": {},
     "nuid": "cd491478-0d3e-4caf-9df8-c1aed2061de0",
     "showTitle": false,
     "tableResultSettingsMap": {},
     "title": ""
    }
   },
   "source": [
    "#Query to group by hour of day"
   ]
  },
  {
   "cell_type": "code",
   "execution_count": 0,
   "metadata": {
    "application/vnd.databricks.v1+cell": {
     "cellMetadata": {
      "byteLimit": 2048000,
      "implicitDf": true,
      "rowLimit": 10000
     },
     "inputWidgets": {},
     "nuid": "c32c9464-ebd7-4de3-b3ee-e7d46cd76774",
     "showTitle": false,
     "tableResultSettingsMap": {},
     "title": ""
    }
   },
   "outputs": [
    {
     "output_type": "display_data",
     "data": {
      "text/html": [
       "<style scoped>\n",
       "  .table-result-container {\n",
       "    max-height: 300px;\n",
       "    overflow: auto;\n",
       "  }\n",
       "  table, th, td {\n",
       "    border: 1px solid black;\n",
       "    border-collapse: collapse;\n",
       "  }\n",
       "  th, td {\n",
       "    padding: 5px;\n",
       "  }\n",
       "  th {\n",
       "    text-align: left;\n",
       "  }\n",
       "</style><div class='table-result-container'><table class='table-result'><thead style='background-color: white'><tr><th>hour_of_day</th><th>trip_count</th><th>avg_duration</th></tr></thead><tbody><tr><td>0</td><td>67744</td><td>26.179483545898247</td></tr><tr><td>1</td><td>47310</td><td>29.96362396956245</td></tr><tr><td>2</td><td>28751</td><td>33.69535900200584</td></tr><tr><td>3</td><td>15372</td><td>34.422843481654965</td></tr><tr><td>4</td><td>12719</td><td>31.058859449118092</td></tr><tr><td>5</td><td>34706</td><td>14.049470312530019</td></tr><tr><td>6</td><td>90930</td><td>13.521314747608075</td></tr><tr><td>7</td><td>166642</td><td>13.863389281613737</td></tr><tr><td>8</td><td>199719</td><td>14.77647661631257</td></tr><tr><td>9</td><td>169069</td><td>18.42869351172209</td></tr><tr><td>10</td><td>190224</td><td>22.477649420332533</td></tr><tr><td>11</td><td>238547</td><td>23.199713613390088</td></tr><tr><td>12</td><td>279494</td><td>23.275188853189505</td></tr><tr><td>13</td><td>284931</td><td>24.467768629363885</td></tr><tr><td>14</td><td>286975</td><td>24.96350930685028</td></tr><tr><td>15</td><td>317514</td><td>23.93290700042648</td></tr><tr><td>16</td><td>384642</td><td>21.593217849324695</td></tr><tr><td>17</td><td>470168</td><td>20.43637866322949</td></tr><tr><td>18</td><td>404513</td><td>20.7709095875782</td></tr><tr><td>19</td><td>296199</td><td>21.29156631183772</td></tr><tr><td>20</td><td>204400</td><td>22.31744430854539</td></tr><tr><td>21</td><td>160411</td><td>22.934926324670165</td></tr><tr><td>22</td><td>135190</td><td>24.13419126168109</td></tr><tr><td>23</td><td>98751</td><td>25.745322072687813</td></tr></tbody></table></div>"
      ]
     },
     "metadata": {
      "application/vnd.databricks.v1+output": {
       "addedWidgets": {},
       "aggData": [],
       "aggError": "",
       "aggOverflow": false,
       "aggSchema": [],
       "aggSeriesLimitReached": false,
       "aggType": "",
       "arguments": {},
       "columnCustomDisplayInfos": {},
       "data": [
        [
         0,
         67744,
         26.179483545898247
        ],
        [
         1,
         47310,
         29.96362396956245
        ],
        [
         2,
         28751,
         33.69535900200584
        ],
        [
         3,
         15372,
         34.422843481654965
        ],
        [
         4,
         12719,
         31.058859449118092
        ],
        [
         5,
         34706,
         14.049470312530019
        ],
        [
         6,
         90930,
         13.521314747608075
        ],
        [
         7,
         166642,
         13.863389281613737
        ],
        [
         8,
         199719,
         14.77647661631257
        ],
        [
         9,
         169069,
         18.42869351172209
        ],
        [
         10,
         190224,
         22.477649420332533
        ],
        [
         11,
         238547,
         23.199713613390088
        ],
        [
         12,
         279494,
         23.275188853189505
        ],
        [
         13,
         284931,
         24.467768629363885
        ],
        [
         14,
         286975,
         24.96350930685028
        ],
        [
         15,
         317514,
         23.93290700042648
        ],
        [
         16,
         384642,
         21.593217849324695
        ],
        [
         17,
         470168,
         20.43637866322949
        ],
        [
         18,
         404513,
         20.7709095875782
        ],
        [
         19,
         296199,
         21.29156631183772
        ],
        [
         20,
         204400,
         22.31744430854539
        ],
        [
         21,
         160411,
         22.934926324670165
        ],
        [
         22,
         135190,
         24.13419126168109
        ],
        [
         23,
         98751,
         25.745322072687813
        ]
       ],
       "datasetInfos": [
        {
         "name": "_sqldf",
         "schema": {
          "fields": [
           {
            "metadata": {},
            "name": "hour_of_day",
            "nullable": true,
            "type": "integer"
           },
           {
            "metadata": {},
            "name": "trip_count",
            "nullable": false,
            "type": "long"
           },
           {
            "metadata": {},
            "name": "avg_duration",
            "nullable": true,
            "type": "double"
           }
          ],
          "type": "struct"
         },
         "tableIdentifier": null,
         "typeStr": "pyspark.sql.dataframe.DataFrame"
        }
       ],
       "dbfsResultPath": null,
       "isJsonSchema": true,
       "metadata": {
        "createTempViewForImplicitDf": true,
        "dataframeName": "_sqldf",
        "executionCount": 16
       },
       "overflow": false,
       "plotOptions": {
        "customPlotOptions": {},
        "displayType": "table",
        "pivotAggregation": null,
        "pivotColumns": null,
        "xColumns": null,
        "yColumns": null
       },
       "removedWidgets": [],
       "schema": [
        {
         "metadata": "{}",
         "name": "hour_of_day",
         "type": "\"integer\""
        },
        {
         "metadata": "{}",
         "name": "trip_count",
         "type": "\"long\""
        },
        {
         "metadata": "{}",
         "name": "avg_duration",
         "type": "\"double\""
        }
       ],
       "type": "table"
      }
     },
     "output_type": "display_data"
    }
   ],
   "source": [
    "\n",
    "%sql\n",
    "\n",
    "\n",
    "SELECT  HOUR(started_at) AS hour_of_day, COUNT(*) AS trip_count, AVG(trip_duration_minutes) AS avg_duration\n",
    "FROM trips_view\n",
    "GROUP BY hour_of_day\n",
    "ORDER BY hour_of_day;"
   ]
  },
  {
   "cell_type": "markdown",
   "metadata": {
    "application/vnd.databricks.v1+cell": {
     "cellMetadata": {},
     "inputWidgets": {},
     "nuid": "1fa4b5c3-b7d5-4598-b646-5732a8043046",
     "showTitle": false,
     "tableResultSettingsMap": {},
     "title": ""
    }
   },
   "source": [
    "#Query to group by start station"
   ]
  },
  {
   "cell_type": "code",
   "execution_count": 0,
   "metadata": {
    "application/vnd.databricks.v1+cell": {
     "cellMetadata": {
      "byteLimit": 2048000,
      "implicitDf": true,
      "rowLimit": 10000
     },
     "inputWidgets": {},
     "nuid": "ae74c7d3-1da6-497d-916b-4dc88d2dfef2",
     "showTitle": false,
     "tableResultSettingsMap": {},
     "title": ""
    }
   },
   "outputs": [
    {
     "output_type": "display_data",
     "data": {
      "text/html": [
       "<style scoped>\n",
       "  .table-result-container {\n",
       "    max-height: 300px;\n",
       "    overflow: auto;\n",
       "  }\n",
       "  table, th, td {\n",
       "    border: 1px solid black;\n",
       "    border-collapse: collapse;\n",
       "  }\n",
       "  th, td {\n",
       "    padding: 5px;\n",
       "  }\n",
       "  th {\n",
       "    text-align: left;\n",
       "  }\n",
       "</style><div class='table-result-container'><table class='table-result'><thead style='background-color: white'><tr><th>start_station_id</th><th>trip_count</th><th>avg_duration</th></tr></thead><tbody><tr><td>13001</td><td>24369</td><td>32.94646135117016</td></tr><tr><td>13006</td><td>9856</td><td>22.37495941558442</td></tr><tr><td>13008</td><td>40505</td><td>48.27992346623867</td></tr><tr><td>13011</td><td>16776</td><td>18.896163169607398</td></tr><tr><td>13016</td><td>28497</td><td>23.801775625504444</td></tr><tr><td>13017</td><td>14247</td><td>19.448744764979775</td></tr><tr><td>13021</td><td>17212</td><td>12.894366333565733</td></tr><tr><td>13022</td><td>80344</td><td>38.98157837963413</td></tr><tr><td>13028</td><td>8196</td><td>15.079856027330381</td></tr><tr><td>13029</td><td>8359</td><td>33.619882761095816</td></tr><tr><td>13033</td><td>18590</td><td>14.936048054509591</td></tr><tr><td>13034</td><td>13166</td><td>31.695101017773062</td></tr><tr><td>13036</td><td>11873</td><td>28.016064459979226</td></tr><tr><td>13037</td><td>3269</td><td>13.924207198939525</td></tr><tr><td>13042</td><td>42722</td><td>36.32646021565784</td></tr><tr><td>13045</td><td>30271</td><td>17.925353748912606</td></tr><tr><td>13050</td><td>20213</td><td>25.60986741206154</td></tr><tr><td>13053</td><td>20195</td><td>17.752282743253307</td></tr><tr><td>13056</td><td>8698</td><td>16.67332720165556</td></tr><tr><td>13058</td><td>12064</td><td>15.141756465517252</td></tr><tr><td>13059</td><td>19279</td><td>15.075208776388802</td></tr><tr><td>13061</td><td>23757</td><td>16.412707131933004</td></tr><tr><td>13063</td><td>14129</td><td>15.765207492863363</td></tr><tr><td>13068</td><td>8717</td><td>21.398736185996714</td></tr><tr><td>13071</td><td>19050</td><td>17.39405599300089</td></tr><tr><td>13073</td><td>4951</td><td>16.07000605938194</td></tr><tr><td>13074</td><td>9083</td><td>21.802449631179115</td></tr><tr><td>13075</td><td>8857</td><td>29.73074780776032</td></tr><tr><td>13080</td><td>1410</td><td>15.07075650118202</td></tr><tr><td>13081</td><td>2679</td><td>16.469292024387215</td></tr><tr><td>13083</td><td>548</td><td>23.3360097323601</td></tr><tr><td>13084</td><td>9980</td><td>18.412538410153665</td></tr><tr><td>13085</td><td>9524</td><td>37.60300993980121</td></tr><tr><td>13089</td><td>2463</td><td>19.56057653268371</td></tr><tr><td>13091</td><td>1672</td><td>22.449681020733653</td></tr><tr><td>13096</td><td>1207</td><td>26.93673018503175</td></tr><tr><td>13099</td><td>3221</td><td>29.20513815585219</td></tr><tr><td>13102</td><td>9462</td><td>26.38853131825549</td></tr><tr><td>13108</td><td>8582</td><td>20.581482560397745</td></tr><tr><td>13109</td><td>8018</td><td>20.524684044233783</td></tr><tr><td>13124</td><td>7579</td><td>43.18535866649073</td></tr><tr><td>13128</td><td>13604</td><td>24.062593109869663</td></tr><tr><td>13132</td><td>11523</td><td>18.776733489542654</td></tr><tr><td>13133</td><td>12306</td><td>19.824302508261535</td></tr><tr><td>13134</td><td>3423</td><td>28.44475606193397</td></tr><tr><td>13135</td><td>5454</td><td>19.36850629507395</td></tr><tr><td>13136</td><td>10423</td><td>20.179890626499084</td></tr><tr><td>13137</td><td>28980</td><td>17.546064527260178</td></tr><tr><td>13138</td><td>6516</td><td>14.814277675465506</td></tr><tr><td>13139</td><td>7051</td><td>12.608755259301272</td></tr><tr><td>13143</td><td>3575</td><td>28.427095571095563</td></tr><tr><td>13144</td><td>5453</td><td>18.866712512989796</td></tr><tr><td>13146</td><td>31332</td><td>19.148458445040177</td></tr><tr><td>13150</td><td>9624</td><td>21.525240717650316</td></tr><tr><td>13154</td><td>13851</td><td>14.061552715808736</td></tr><tr><td>13155</td><td>5328</td><td>15.159684684684693</td></tr><tr><td>13156</td><td>10781</td><td>19.598438611136892</td></tr><tr><td>13157</td><td>11569</td><td>14.486898896476216</td></tr><tr><td>13158</td><td>15252</td><td>16.017078634496023</td></tr><tr><td>13160</td><td>9624</td><td>15.073948808534222</td></tr><tr><td>13162</td><td>1923</td><td>20.332527301092036</td></tr><tr><td>13163</td><td>4637</td><td>19.15683631658399</td></tr><tr><td>13164</td><td>6987</td><td>19.596441009493816</td></tr><tr><td>13165</td><td>1137</td><td>21.70513046027558</td></tr><tr><td>13179</td><td>31901</td><td>19.82836170234999</td></tr><tr><td>13191</td><td>15505</td><td>16.36857035364937</td></tr><tr><td>13192</td><td>16917</td><td>16.477776792575504</td></tr><tr><td>13193</td><td>26661</td><td>16.559422002175467</td></tr><tr><td>13194</td><td>10442</td><td>15.046055991827869</td></tr><tr><td>13196</td><td>10602</td><td>13.610887882789418</td></tr><tr><td>13197</td><td>5464</td><td>14.3037701317716</td></tr><tr><td>13206</td><td>6800</td><td>14.268950980392155</td></tr><tr><td>13213</td><td>764</td><td>43.3007635253054</td></tr><tr><td>13215</td><td>4154</td><td>23.265378751404278</td></tr><tr><td>13216</td><td>9528</td><td>12.685518122026323</td></tr><tr><td>13217</td><td>5272</td><td>12.206382776934738</td></tr><tr><td>13221</td><td>15267</td><td>19.168629505905972</td></tr><tr><td>13224</td><td>10449</td><td>16.80495581714357</td></tr><tr><td>13229</td><td>10302</td><td>16.35720410276322</td></tr><tr><td>13235</td><td>17954</td><td>15.693869518398841</td></tr><tr><td>13241</td><td>5234</td><td>18.622130938733903</td></tr><tr><td>13242</td><td>4498</td><td>19.981273158440796</td></tr><tr><td>13243</td><td>12676</td><td>19.95135426527821</td></tr><tr><td>13245</td><td>2464</td><td>16.997436417748915</td></tr><tr><td>13247</td><td>9206</td><td>15.181888623361568</td></tr><tr><td>13248</td><td>7767</td><td>15.119220205141406</td></tr><tr><td>13249</td><td>2996</td><td>18.037333110814426</td></tr><tr><td>13253</td><td>5035</td><td>18.804005296259522</td></tr><tr><td>13256</td><td>3742</td><td>42.73148939960809</td></tr><tr><td>13257</td><td>5656</td><td>25.928279702970283</td></tr><tr><td>13258</td><td>4425</td><td>22.128237288135608</td></tr><tr><td>13259</td><td>4127</td><td>20.979286810435358</td></tr><tr><td>13263</td><td>22754</td><td>26.144964255369054</td></tr><tr><td>13265</td><td>19426</td><td>11.905142592401926</td></tr><tr><td>13266</td><td>4371</td><td>22.547834210325632</td></tr><tr><td>13268</td><td>4725</td><td>16.93935449735449</td></tr><tr><td>13269</td><td>5962</td><td>15.939849603041482</td></tr><tr><td>13271</td><td>4875</td><td>21.787018803418814</td></tr><tr><td>13276</td><td>17812</td><td>23.296564114080397</td></tr><tr><td>13277</td><td>16407</td><td>20.14079051624309</td></tr><tr><td>13278</td><td>20499</td><td>18.182167422801083</td></tr><tr><td>13285</td><td>6825</td><td>13.905252747252735</td></tr><tr><td>13288</td><td>6109</td><td>18.85352212582529</td></tr><tr><td>13289</td><td>9908</td><td>16.434892679316373</td></tr><tr><td>13290</td><td>9231</td><td>15.607695085400643</td></tr><tr><td>13292</td><td>4134</td><td>21.336018384131584</td></tr><tr><td>13294</td><td>7252</td><td>15.31276889134032</td></tr><tr><td>13296</td><td>6986</td><td>18.72540557305086</td></tr><tr><td>13300</td><td>44672</td><td>39.91281973794186</td></tr><tr><td>13303</td><td>14528</td><td>17.372355680983876</td></tr><tr><td>13304</td><td>2982</td><td>17.490945674044266</td></tr><tr><td>13307</td><td>2380</td><td>22.084803921568632</td></tr><tr><td>13319</td><td>7117</td><td>16.670444007306457</td></tr><tr><td>13323</td><td>13713</td><td>17.004911397943555</td></tr><tr><td>13325</td><td>20480</td><td>16.4286124674479</td></tr><tr><td>13326</td><td>3002</td><td>18.786975349766827</td></tr><tr><td>13331</td><td>2036</td><td>20.101178781925345</td></tr><tr><td>13332</td><td>16416</td><td>12.331748497400909</td></tr><tr><td>13338</td><td>16374</td><td>22.832316477342143</td></tr><tr><td>13341</td><td>12919</td><td>16.373651211394076</td></tr><tr><td>13345</td><td>2061</td><td>19.95066310852337</td></tr><tr><td>13353</td><td>8775</td><td>15.045832858499518</td></tr><tr><td>13354</td><td>2649</td><td>15.94535044670945</td></tr><tr><td>13379</td><td>12796</td><td>18.019093206210268</td></tr><tr><td>13389</td><td>11630</td><td>19.418895098882174</td></tr><tr><td>13398</td><td>4565</td><td>24.915001825483746</td></tr><tr><td>13409</td><td>10301</td><td>14.913438824709552</td></tr><tr><td>13420</td><td>1192</td><td>29.867086129753908</td></tr><tr><td>13427</td><td>13536</td><td>24.914040336879427</td></tr><tr><td>13430</td><td>24088</td><td>19.427753099745395</td></tr><tr><td>13431</td><td>15098</td><td>36.435864573674266</td></tr><tr><td>13432</td><td>4265</td><td>15.289660023446649</td></tr><tr><td>13434</td><td>6174</td><td>17.089552964042767</td></tr><tr><td>15442</td><td>1036</td><td>24.054536679536678</td></tr><tr><td>15443</td><td>1614</td><td>18.690561751342404</td></tr><tr><td>15445</td><td>2678</td><td>15.511712720936025</td></tr><tr><td>15446</td><td>1052</td><td>19.543235107731302</td></tr><tr><td>15449</td><td>273</td><td>24.047680097680097</td></tr><tr><td>15470</td><td>932</td><td>27.646870529327618</td></tr><tr><td>15491</td><td>1963</td><td>62.448361351672624</td></tr><tr><td>15529</td><td>18071</td><td>24.285620607603338</td></tr><tr><td>15530</td><td>19659</td><td>22.401638774437473</td></tr><tr><td>15534</td><td>13088</td><td>27.129479930725353</td></tr><tr><td>15535</td><td>12473</td><td>16.048944386541592</td></tr><tr><td>15539</td><td>11726</td><td>14.57186309625333</td></tr><tr><td>15541</td><td>13969</td><td>51.12902259765668</td></tr><tr><td>15542</td><td>1307</td><td>23.227135934710518</td></tr><tr><td>15544</td><td>27422</td><td>36.52914265917877</td></tr><tr><td>15545</td><td>13328</td><td>32.078742747098815</td></tr><tr><td>15546</td><td>3814</td><td>32.79202499563013</td></tr><tr><td>15550</td><td>5773</td><td>19.194543564870933</td></tr><tr><td>15571</td><td>7157</td><td>30.843179171906304</td></tr><tr><td>15575</td><td>6676</td><td>28.675229678450172</td></tr><tr><td>15578</td><td>6541</td><td>21.98392702441012</td></tr><tr><td>15585</td><td>936</td><td>27.930733618233603</td></tr><tr><td>15597</td><td>74</td><td>39.74684684684684</td></tr><tr><td>15599</td><td>74</td><td>53.10315315315315</td></tr><tr><td>15615</td><td>1247</td><td>26.187142475273987</td></tr><tr><td>15621</td><td>1769</td><td>22.74078575466367</td></tr><tr><td>15622</td><td>2761</td><td>26.84471206084751</td></tr><tr><td>15623</td><td>2567</td><td>18.22319828593689</td></tr><tr><td>15624</td><td>1205</td><td>22.5676071922545</td></tr><tr><td>15628</td><td>2027</td><td>25.235775365893765</td></tr><tr><td>15631</td><td>2018</td><td>27.55782953419225</td></tr><tr><td>15632</td><td>2620</td><td>32.27937659033077</td></tr><tr><td>15634</td><td>2434</td><td>19.42052862229526</td></tr><tr><td>15640</td><td>1630</td><td>34.02819018404909</td></tr><tr><td>15642</td><td>2895</td><td>20.933293033966603</td></tr><tr><td>15643</td><td>1737</td><td>26.401919017463054</td></tr><tr><td>15644</td><td>1744</td><td>24.278000764525988</td></tr><tr><td>15645</td><td>1981</td><td>20.911694430422344</td></tr><tr><td>15646</td><td>3737</td><td>18.81012398537151</td></tr><tr><td>15648</td><td>3381</td><td>21.92237010746327</td></tr><tr><td>15650</td><td>3380</td><td>24.454255424063117</td></tr><tr><td>15651</td><td>5258</td><td>22.522077469253208</td></tr><tr><td>15652</td><td>1028</td><td>35.025081063553834</td></tr><tr><td>15653</td><td>2740</td><td>26.88905717761557</td></tr><tr><td>15654</td><td>1775</td><td>29.67774647887324</td></tr><tr><td>15655</td><td>4522</td><td>24.274837829868762</td></tr><tr><td>15664</td><td>2338</td><td>18.641930424864555</td></tr><tr><td>15666</td><td>812</td><td>26.50069786535303</td></tr><tr><td>15667</td><td>2055</td><td>22.97257907542579</td></tr><tr><td>15668</td><td>2975</td><td>19.087876750700282</td></tr><tr><td>15682</td><td>253</td><td>60.023451910408454</td></tr><tr><td>15685</td><td>524</td><td>21.673823155216287</td></tr><tr><td>15686</td><td>279</td><td>35.31708482676225</td></tr><tr><td>15687</td><td>145</td><td>30.5503448275862</td></tr><tr><td>15689</td><td>777</td><td>26.744744744744747</td></tr><tr><td>15691</td><td>254</td><td>31.18510498687664</td></tr><tr><td>15692</td><td>274</td><td>23.60018248175182</td></tr><tr><td>16010</td><td>723</td><td>28.488220378054407</td></tr><tr><td>16806</td><td>902</td><td>20.254157427937912</td></tr><tr><td>16903</td><td>146</td><td>71.42442922374428</td></tr><tr><td>16905</td><td>267</td><td>146.57933832709114</td></tr><tr><td>16906</td><td>471</td><td>42.2590941259731</td></tr><tr><td>16907</td><td>239</td><td>60.508716875871684</td></tr><tr><td>16912</td><td>78</td><td>31.476068376068376</td></tr><tr><td>16913</td><td>76</td><td>84.74144736842106</td></tr><tr><td>16915</td><td>142</td><td>317.65246478873235</td></tr><tr><td>16916</td><td>218</td><td>45.984327217125376</td></tr><tr><td>16918</td><td>278</td><td>77.1898081534772</td></tr><tr><td>16920</td><td>533</td><td>50.44449656035022</td></tr><tr><td>16921</td><td>258</td><td>78.35432816537468</td></tr><tr><td>16932</td><td>336</td><td>23.248561507936504</td></tr><tr><td>16933</td><td>193</td><td>15.807599309153714</td></tr><tr><td>16937</td><td>294</td><td>20.51734693877551</td></tr><tr><td>16940</td><td>132</td><td>36.560227272727275</td></tr><tr><td>16943</td><td>100</td><td>32.210499999999996</td></tr><tr><td>16948</td><td>129</td><td>57.54289405684755</td></tr><tr><td>16950</td><td>71</td><td>132.7863849765258</td></tr><tr><td>16953</td><td>65</td><td>29.36948717948718</td></tr><tr><td>16970</td><td>82</td><td>204.89654471544716</td></tr><tr><td>16991</td><td>649</td><td>44.549897277863366</td></tr><tr><td>16994</td><td>288</td><td>56.742361111111116</td></tr><tr><td>17660</td><td>4737</td><td>18.437393568362527</td></tr><tr><td>18003</td><td>9259</td><td>28.334679771033596</td></tr><tr><td>18016</td><td>1075</td><td>34.20404651162791</td></tr><tr><td>18017</td><td>3006</td><td>33.817941893989804</td></tr><tr><td>18022</td><td>474</td><td>34.13857243319268</td></tr><tr><td>18025</td><td>34</td><td>168.56911764705885</td></tr><tr><td>18058</td><td>4468</td><td>17.493867502238135</td></tr><tr><td>18062</td><td>9699</td><td>19.101469223631316</td></tr><tr><td>18067</td><td>7953</td><td>22.038478142420054</td></tr><tr><td>18069</td><td>1707</td><td>15.25017574692443</td></tr><tr><td>20.0</td><td>742</td><td>14.040206648697218</td></tr><tr><td>20101</td><td>81</td><td>32.25576131687243</td></tr><tr><td>20102</td><td>7</td><td>13.204761904761906</td></tr><tr><td>201022</td><td>76</td><td>26.343640350877195</td></tr><tr><td>20103</td><td>217</td><td>212.2249615975422</td></tr><tr><td>20104</td><td>382</td><td>136.56819371727744</td></tr><tr><td>20105</td><td>100</td><td>59.42166666666666</td></tr><tr><td>20106</td><td>465</td><td>39.14168458781362</td></tr><tr><td>20107</td><td>181</td><td>128.75405156537752</td></tr><tr><td>20108</td><td>195</td><td>46.17162393162391</td></tr><tr><td>20109</td><td>81</td><td>98.15411522633747</td></tr><tr><td>20110</td><td>169</td><td>48.70631163708088</td></tr><tr><td>20111</td><td>2</td><td>41.766666666666666</td></tr><tr><td>20112</td><td>98</td><td>207.39251700680273</td></tr><tr><td>20113</td><td>96</td><td>94.16927083333333</td></tr><tr><td>20114</td><td>9</td><td>8.362962962962962</td></tr><tr><td>20116</td><td>202</td><td>52.242904290429045</td></tr><tr><td>20118</td><td>130</td><td>23.078717948717948</td></tr><tr><td>20119</td><td>134</td><td>215.52363184079604</td></tr><tr><td>20120</td><td>149</td><td>35.18501118568233</td></tr><tr><td>20121</td><td>157</td><td>145.18535031847136</td></tr><tr><td>20123</td><td>134</td><td>29.215671641791044</td></tr><tr><td>20124</td><td>94</td><td>41.02145390070922</td></tr><tr><td>20125</td><td>76</td><td>45.81074561403508</td></tr><tr><td>20126</td><td>16</td><td>28.351041666666667</td></tr><tr><td>20127</td><td>81</td><td>45.09876543209877</td></tr><tr><td>20128</td><td>5</td><td>17.566666666666666</td></tr><tr><td>20129</td><td>56</td><td>55.560714285714276</td></tr><tr><td>20130</td><td>75</td><td>36.755555555555546</td></tr><tr><td>20131</td><td>148</td><td>103.22905405405409</td></tr><tr><td>20133</td><td>16</td><td>17.373958333333334</td></tr><tr><td>20134</td><td>24</td><td>21.080555555555556</td></tr><tr><td>20201</td><td>19</td><td>32.977192982456145</td></tr><tr><td>20202</td><td>53</td><td>29.448113207547173</td></tr><tr><td>20203</td><td>221</td><td>93.08355957767726</td></tr><tr><td>20204</td><td>82</td><td>54.72256097560978</td></tr><tr><td>20205</td><td>168</td><td>308.6353174603175</td></tr><tr><td>20206</td><td>138</td><td>62.01268115942029</td></tr><tr><td>20207</td><td>131</td><td>42.564122137404574</td></tr><tr><td>20208</td><td>99</td><td>52.678956228956224</td></tr><tr><td>20209</td><td>6</td><td>24.102777777777774</td></tr><tr><td>20210</td><td>165</td><td>37.68373737373738</td></tr><tr><td>20211</td><td>75</td><td>266.1299999999999</td></tr><tr><td>20212</td><td>53</td><td>52.51383647798741</td></tr><tr><td>20213</td><td>134</td><td>39.317786069651746</td></tr><tr><td>20214</td><td>93</td><td>51.623297491039445</td></tr><tr><td>20215</td><td>61</td><td>31.333333333333336</td></tr><tr><td>20217</td><td>41</td><td>33.43008130081301</td></tr><tr><td>20218</td><td>81</td><td>38.050000000000004</td></tr><tr><td>20220</td><td>8</td><td>15.433333333333332</td></tr><tr><td>20221</td><td>47</td><td>40.80035460992907</td></tr><tr><td>20222</td><td>196</td><td>92.66488095238094</td></tr><tr><td>20223</td><td>89</td><td>56.32977528089888</td></tr><tr><td>20224</td><td>379</td><td>145.96961301671064</td></tr><tr><td>20225</td><td>43</td><td>69.07868217054263</td></tr><tr><td>20226</td><td>93</td><td>40.372580645161285</td></tr><tr><td>20227</td><td>101</td><td>33.0937293729373</td></tr><tr><td>20228</td><td>77</td><td>31.817532467532466</td></tr><tr><td>20229</td><td>167</td><td>44.155588822355284</td></tr><tr><td>20230</td><td>143</td><td>285.3741258741258</td></tr><tr><td>20231</td><td>132</td><td>186.20366161616158</td></tr><tr><td>20232</td><td>276</td><td>63.87596618357488</td></tr><tr><td>20233</td><td>82</td><td>39.62459349593496</td></tr><tr><td>20234</td><td>86</td><td>24.45174418604651</td></tr><tr><td>20235</td><td>43</td><td>127.68449612403099</td></tr><tr><td>20236</td><td>141</td><td>54.90319148936172</td></tr><tr><td>20237</td><td>81</td><td>135.66234567901236</td></tr><tr><td>20238</td><td>211</td><td>38.04960505529226</td></tr><tr><td>20239</td><td>121</td><td>48.65495867768595</td></tr><tr><td>20240</td><td>1</td><td>10.0</td></tr><tr><td>20242</td><td>100</td><td>39.632666666666665</td></tr><tr><td>20243</td><td>76</td><td>44.492105263157896</td></tr><tr><td>20244</td><td>77</td><td>41.080735930735926</td></tr><tr><td>20245</td><td>100</td><td>57.656499999999994</td></tr><tr><td>20246.0</td><td>1974</td><td>13.799932455251597</td></tr><tr><td>20247.0</td><td>157</td><td>13.210615711252656</td></tr><tr><td>20248.0</td><td>1</td><td>16.1</td></tr><tr><td>202480.0</td><td>489</td><td>10.81281526925699</td></tr><tr><td>20249.0</td><td>11</td><td>7.65</td></tr><tr><td>20251.0</td><td>284</td><td>11.173239436619719</td></tr><tr><td>20252.0</td><td>1476</td><td>14.532780036133694</td></tr><tr><td>20253.0</td><td>128</td><td>12.849739583333333</td></tr><tr><td>20254.0</td><td>752</td><td>11.233156028368798</td></tr><tr><td>20255.0</td><td>11</td><td>12.969696969696969</td></tr><tr><td>20256.0</td><td>548</td><td>11.441788321167888</td></tr><tr><td>20257.0</td><td>345</td><td>10.92594202898551</td></tr><tr><td>20260.0</td><td>18</td><td>10.169444444444444</td></tr><tr><td>20999</td><td>1</td><td>7.75</td></tr><tr><td>21544</td><td>208</td><td>13.121955128205123</td></tr><tr><td>301</td><td>16</td><td>19.167708333333337</td></tr><tr><td>302</td><td>6</td><td>38.791666666666664</td></tr><tr><td>303</td><td>17</td><td>20.323529411764707</td></tr><tr><td>304</td><td>23</td><td>28.877536231884054</td></tr><tr><td>305</td><td>23</td><td>34.04637681159421</td></tr><tr><td>307</td><td>10</td><td>21.93333333333333</td></tr><tr><td>308</td><td>33</td><td>23.390404040404036</td></tr><tr><td>309</td><td>17</td><td>18.015686274509804</td></tr><tr><td>310</td><td>25</td><td>14.24</td></tr><tr><td>312</td><td>110</td><td>18.231666666666673</td></tr><tr><td>313</td><td>39</td><td>15.634188034188034</td></tr><tr><td>314</td><td>71</td><td>22.41455399061033</td></tr><tr><td>316</td><td>67</td><td>17.549751243781095</td></tr><tr><td>317</td><td>87</td><td>15.064942528735633</td></tr><tr><td>318</td><td>69</td><td>27.517391304347825</td></tr><tr><td>319</td><td>23</td><td>29.531159420289857</td></tr><tr><td>320</td><td>36</td><td>25.244444444444444</td></tr><tr><td>321</td><td>86</td><td>19.26802325581395</td></tr><tr><td>322</td><td>21</td><td>19.323015873015873</td></tr><tr><td>323</td><td>40</td><td>26.013750000000005</td></tr><tr><td>324</td><td>72</td><td>16.265972222222224</td></tr><tr><td>325</td><td>24</td><td>26.014583333333334</td></tr><tr><td>326</td><td>44</td><td>14.698106060606062</td></tr><tr><td>327</td><td>51</td><td>38.36895424836602</td></tr><tr><td>329.0</td><td>54</td><td>24.3429012345679</td></tr><tr><td>330.0</td><td>36</td><td>32.08009259259259</td></tr><tr><td>331</td><td>18752</td><td>14.633307558304903</td></tr><tr><td>331.0</td><td>28</td><td>11.2375</td></tr><tr><td>332.0</td><td>20</td><td>9.136666666666667</td></tr><tr><td>334.0</td><td>59</td><td>22.514406779661016</td></tr><tr><td>335.0</td><td>31</td><td>21.156989247311827</td></tr><tr><td>337</td><td>20</td><td>30.958333333333343</td></tr><tr><td>338</td><td>9</td><td>28.39444444444445</td></tr><tr><td>339</td><td>23</td><td>18.589130434782607</td></tr><tr><td>340</td><td>6</td><td>14.783333333333333</td></tr><tr><td>341</td><td>15</td><td>17.788888888888888</td></tr><tr><td>342</td><td>3</td><td>12.02222222222222</td></tr><tr><td>343</td><td>24</td><td>12.444444444444445</td></tr><tr><td>344</td><td>15</td><td>10.865555555555556</td></tr><tr><td>345</td><td>21</td><td>15.746825396825395</td></tr><tr><td>346</td><td>20</td><td>28.964999999999996</td></tr><tr><td>347</td><td>8</td><td>19.858333333333334</td></tr><tr><td>348</td><td>10</td><td>14.465</td></tr><tr><td>349</td><td>15</td><td>30.723333333333336</td></tr><tr><td>350</td><td>9</td><td>25.23148148148148</td></tr><tr><td>351</td><td>70</td><td>17.087857142857143</td></tr><tr><td>352</td><td>38</td><td>24.430701754385968</td></tr><tr><td>353</td><td>43</td><td>27.04031007751938</td></tr><tr><td>354</td><td>14</td><td>32.459523809523816</td></tr><tr><td>355</td><td>39</td><td>19.26709401709402</td></tr><tr><td>356</td><td>48</td><td>26.389236111111114</td></tr><tr><td>357</td><td>48</td><td>21.851388888888888</td></tr><tr><td>358</td><td>67</td><td>15.67139303482587</td></tr><tr><td>359</td><td>69</td><td>14.098067632850245</td></tr><tr><td>360</td><td>97</td><td>23.011683848797254</td></tr><tr><td>361</td><td>20</td><td>20.31666666666667</td></tr><tr><td>362.0</td><td>18</td><td>37.76851851851852</td></tr><tr><td>363.0</td><td>18</td><td>19.38888888888889</td></tr><tr><td>364.0</td><td>48</td><td>21.310069444444448</td></tr><tr><td>365.0</td><td>8</td><td>26.729166666666664</td></tr><tr><td>366.0</td><td>61</td><td>22.926775956284153</td></tr><tr><td>368.0</td><td>40</td><td>17.695</td></tr><tr><td>369</td><td>11</td><td>34.41818181818182</td></tr><tr><td>370</td><td>16</td><td>37.854166666666664</td></tr><tr><td>371</td><td>11</td><td>28.49242424242424</td></tr><tr><td>373</td><td>4</td><td>23.4875</td></tr><tr><td>374</td><td>10</td><td>16.536666666666665</td></tr><tr><td>375</td><td>15</td><td>16.56</td></tr><tr><td>376</td><td>5</td><td>18.263333333333332</td></tr><tr><td>377</td><td>21</td><td>26.607142857142858</td></tr><tr><td>378</td><td>61</td><td>30.78606557377049</td></tr><tr><td>379</td><td>27</td><td>17.112962962962964</td></tr><tr><td>380</td><td>12</td><td>16.708333333333332</td></tr><tr><td>381</td><td>8</td><td>28.041666666666664</td></tr><tr><td>382</td><td>37</td><td>8.333333333333334</td></tr><tr><td>383</td><td>3</td><td>9.755555555555555</td></tr><tr><td>384</td><td>31</td><td>15.386559139784946</td></tr><tr><td>385</td><td>11</td><td>16.965151515151515</td></tr><tr><td>386</td><td>21</td><td>18.03174603174603</td></tr><tr><td>387</td><td>5</td><td>13.293333333333333</td></tr><tr><td>388</td><td>15</td><td>51.06666666666667</td></tr><tr><td>389</td><td>12</td><td>21.60972222222222</td></tr><tr><td>390</td><td>4</td><td>37.454166666666666</td></tr><tr><td>393</td><td>41</td><td>28.639024390243897</td></tr><tr><td>394</td><td>17</td><td>49.65</td></tr><tr><td>396</td><td>49</td><td>18.543197278911563</td></tr><tr><td>397</td><td>51</td><td>28.07777777777778</td></tr><tr><td>398</td><td>149</td><td>21.42181208053691</td></tr><tr><td>399</td><td>11</td><td>26.85151515151515</td></tr><tr><td>400</td><td>28</td><td>33.19285714285715</td></tr><tr><td>401</td><td>3</td><td>10.416666666666666</td></tr><tr><td>402</td><td>11</td><td>17.418181818181818</td></tr><tr><td>403</td><td>5</td><td>18.033333333333335</td></tr><tr><td>404</td><td>8</td><td>40.70625</td></tr><tr><td>406</td><td>11</td><td>30.236363636363638</td></tr><tr><td>407</td><td>18</td><td>33.1037037037037</td></tr><tr><td>414</td><td>12</td><td>15.37777777777778</td></tr><tr><td>415</td><td>7</td><td>7.507142857142857</td></tr><tr><td>416</td><td>2</td><td>23.908333333333335</td></tr><tr><td>418</td><td>12</td><td>12.152777777777779</td></tr><tr><td>419</td><td>1</td><td>13.616666666666667</td></tr><tr><td>420</td><td>2</td><td>14.408333333333333</td></tr><tr><td>424</td><td>3</td><td>7.572222222222223</td></tr><tr><td>425</td><td>24</td><td>12.466666666666667</td></tr><tr><td>427</td><td>1</td><td>0.1</td></tr><tr><td>428</td><td>103</td><td>12.90194174757282</td></tr><tr><td>429</td><td>18</td><td>12.383333333333333</td></tr><tr><td>430</td><td>45</td><td>19.874444444444446</td></tr><tr><td>431</td><td>25</td><td>18.754</td></tr><tr><td>432</td><td>17</td><td>9.190196078431374</td></tr><tr><td>433</td><td>30</td><td>25.32055555555555</td></tr><tr><td>434</td><td>49</td><td>12.71768707482993</td></tr><tr><td>435</td><td>61</td><td>13.057377049180328</td></tr><tr><td>436</td><td>61</td><td>7.836885245901643</td></tr><tr><td>441</td><td>21</td><td>17.43015873015873</td></tr><tr><td>442</td><td>38</td><td>12.866228070175438</td></tr><tr><td>443</td><td>34</td><td>12.613725490196082</td></tr><tr><td>444</td><td>2</td><td>16.483333333333334</td></tr><tr><td>445</td><td>52</td><td>13.012179487179488</td></tr><tr><td>446</td><td>14</td><td>9.76547619047619</td></tr><tr><td>452</td><td>15</td><td>14.614444444444446</td></tr><tr><td>458</td><td>5</td><td>13.653333333333332</td></tr><tr><td>460</td><td>3</td><td>8.622222222222222</td></tr><tr><td>462</td><td>6</td><td>11.108333333333334</td></tr><tr><td>464</td><td>7</td><td>12.235714285714286</td></tr><tr><td>466</td><td>3</td><td>25.344444444444445</td></tr><tr><td>471</td><td>21</td><td>17.498412698412704</td></tr><tr><td>472</td><td>65</td><td>15.459230769230762</td></tr><tr><td>473</td><td>64</td><td>23.569791666666667</td></tr><tr><td>474</td><td>1</td><td>1.0833333333333333</td></tr><tr><td>475</td><td>14</td><td>42.53095238095238</td></tr><tr><td>514</td><td>723</td><td>15.530636237897651</td></tr><tr><td>515</td><td>1979</td><td>28.32970355398351</td></tr><tr><td>517</td><td>1046</td><td>15.97259400892288</td></tr><tr><td>518</td><td>743</td><td>38.44389860924181</td></tr><tr><td>519</td><td>455</td><td>31.65098901098901</td></tr><tr><td>520</td><td>2905</td><td>21.658462421113025</td></tr><tr><td>523</td><td>2354</td><td>26.436661002548867</td></tr><tr><td>525</td><td>2019</td><td>25.830700016509827</td></tr><tr><td>527</td><td>711</td><td>24.717018284106892</td></tr><tr><td>528</td><td>197</td><td>30.820304568527913</td></tr><tr><td>530</td><td>150</td><td>30.78355555555556</td></tr><tr><td>534</td><td>101</td><td>107.84554455445543</td></tr><tr><td>535</td><td>133</td><td>41.94736842105263</td></tr><tr><td>536</td><td>82</td><td>41.75894308943089</td></tr><tr><td>537</td><td>86</td><td>280.01996124031007</td></tr><tr><td>540</td><td>149</td><td>130.941163310962</td></tr><tr><td>543</td><td>63</td><td>28.74206349206349</td></tr><tr><td>545</td><td>127</td><td>43.06430446194225</td></tr><tr><td>546</td><td>447</td><td>32.713870246085015</td></tr><tr><td>549</td><td>282</td><td>21.420803782505907</td></tr><tr><td>553</td><td>81</td><td>23.211316872427986</td></tr><tr><td>554</td><td>88</td><td>32.48162878787879</td></tr><tr><td>556</td><td>78</td><td>538.0380341880341</td></tr><tr><td>557</td><td>63</td><td>34.77407407407407</td></tr><tr><td>559</td><td>109</td><td>32.369113149847095</td></tr><tr><td>560</td><td>53</td><td>34.659433962264146</td></tr><tr><td>561</td><td>114</td><td>46.69926900584795</td></tr><tr><td>562</td><td>41</td><td>37.50609756097561</td></tr><tr><td>564</td><td>45</td><td>353.39111111111106</td></tr><tr><td>567</td><td>106</td><td>53.184433962264144</td></tr><tr><td>569</td><td>45</td><td>23.854814814814816</td></tr><tr><td>570</td><td>118</td><td>55.10141242937853</td></tr><tr><td>571</td><td>125</td><td>32.11653333333333</td></tr><tr><td>572</td><td>35</td><td>19.454761904761906</td></tr><tr><td>573</td><td>275</td><td>19.529878787878783</td></tr><tr><td>574</td><td>176</td><td>54.91107954545455</td></tr><tr><td>575</td><td>153</td><td>32.503921568627455</td></tr><tr><td>576</td><td>148</td><td>28.63018018018018</td></tr><tr><td>577</td><td>150</td><td>21.950888888888894</td></tr><tr><td>579</td><td>277</td><td>93.50312876052949</td></tr><tr><td>580</td><td>193</td><td>41.69248704663213</td></tr><tr><td>582</td><td>88</td><td>51.4657196969697</td></tr><tr><td>583</td><td>192</td><td>24.240104166666658</td></tr><tr><td>584</td><td>172</td><td>41.14089147286821</td></tr><tr><td>585</td><td>201</td><td>159.30663349917083</td></tr><tr><td>586</td><td>63</td><td>40.30449735449736</td></tr><tr><td>587</td><td>55</td><td>409.700606060606</td></tr><tr><td>588</td><td>101</td><td>22.47359735973597</td></tr><tr><td>590</td><td>346</td><td>31.594508670520227</td></tr><tr><td>592</td><td>438</td><td>30.523097412480976</td></tr><tr><td>593</td><td>40</td><td>24.700416666666662</td></tr><tr><td>594</td><td>284</td><td>64.42241784037559</td></tr><tr><td>595</td><td>268</td><td>35.706218905472646</td></tr><tr><td>596</td><td>5736</td><td>30.397271617852166</td></tr><tr><td>598</td><td>940</td><td>23.347234042553197</td></tr><tr><td>599</td><td>976</td><td>22.19989754098361</td></tr><tr><td>600</td><td>745</td><td>67.53852348993291</td></tr><tr><td>604</td><td>5299</td><td>24.55101276970497</td></tr><tr><td>605</td><td>2814</td><td>30.468869936034114</td></tr><tr><td>620</td><td>11332</td><td>13.3124352865043</td></tr><tr><td>623</td><td>18727</td><td>37.01825706199605</td></tr><tr><td>624</td><td>7934</td><td>24.88595916309552</td></tr><tr><td>631</td><td>1759</td><td>22.61027098730338</td></tr><tr><td>632</td><td>21846</td><td>18.353658183038835</td></tr><tr><td>636</td><td>10044</td><td>16.476649409265928</td></tr><tr><td>637</td><td>6933</td><td>14.915899802875137</td></tr><tr><td>638</td><td>13565</td><td>15.712942621943736</td></tr><tr><td>639</td><td>9291</td><td>33.455460481469544</td></tr><tr><td>642</td><td>105</td><td>283.12603174603174</td></tr><tr><td>643</td><td>2015</td><td>19.672233250620337</td></tr><tr><td>644</td><td>4776</td><td>15.081194165270796</td></tr><tr><td>646</td><td>202</td><td>28.038283828382838</td></tr><tr><td>647</td><td>39</td><td>29.073931623931628</td></tr><tr><td>649</td><td>121</td><td>26.033195592286503</td></tr><tr><td>650</td><td>113</td><td>102.02389380530974</td></tr><tr><td>651</td><td>92</td><td>69.51394927536234</td></tr><tr><td>652</td><td>72</td><td>49.78703703703704</td></tr><tr><td>653</td><td>512</td><td>41.472037760416676</td></tr><tr><td>654</td><td>5172</td><td>15.2594837587007</td></tr><tr><td>655</td><td>1959</td><td>17.022094606091546</td></tr><tr><td>657</td><td>5588</td><td>15.813910761154848</td></tr><tr><td>658</td><td>4338</td><td>15.270078377132316</td></tr><tr><td>660</td><td>3837</td><td>24.5652245678047</td></tr><tr><td>661</td><td>1444</td><td>27.633483379501374</td></tr><tr><td>662</td><td>489</td><td>38.70047716428086</td></tr><tr><td>665</td><td>31</td><td>535.639247311828</td></tr><tr><td>DIVVY 001</td><td>82</td><td>1.5920731707317068</td></tr><tr><td>DIVVY CASSETTE REPAIR MOBILE STATION</td><td>4</td><td>94.325</td></tr><tr><td>E002</td><td>3595</td><td>25.0443625405656</td></tr><tr><td>E006</td><td>1276</td><td>28.941105015673987</td></tr><tr><td>E007</td><td>1067</td><td>32.92691346454232</td></tr><tr><td>E008</td><td>4184</td><td>33.808229764181</td></tr><tr><td>E011</td><td>411</td><td>28.112895377128957</td></tr><tr><td>E014</td><td>702</td><td>71.54083570750235</td></tr><tr><td>Hastings WH 2</td><td>1</td><td>0.65</td></tr><tr><td>Hubbard Bike-checking (LBS-WH-TEST)</td><td>168</td><td>11.927083333333336</td></tr><tr><td>KA1503000001</td><td>121</td><td>27.511294765840223</td></tr><tr><td>KA1503000002</td><td>1626</td><td>47.790662156621586</td></tr><tr><td>KA1503000003</td><td>146</td><td>37.71940639269407</td></tr><tr><td>KA1503000004</td><td>3263</td><td>54.75316681989991</td></tr><tr><td>KA1503000005</td><td>1671</td><td>20.577099541192897</td></tr><tr><td>KA1503000007</td><td>7182</td><td>28.00287292304836</td></tr><tr><td>KA1503000009</td><td>365</td><td>16.904383561643836</td></tr><tr><td>KA1503000010</td><td>96</td><td>101.96579861111111</td></tr><tr><td>KA1503000011</td><td>88</td><td>34.5280303030303</td></tr><tr><td>KA1503000012</td><td>15933</td><td>26.62787401410069</td></tr><tr><td>KA1503000013</td><td>309</td><td>19.76628910463862</td></tr><tr><td>KA1503000014</td><td>16962</td><td>11.263212867979414</td></tr><tr><td>KA1503000015</td><td>10601</td><td>32.77078105839067</td></tr><tr><td>KA1503000018</td><td>337</td><td>36.604747774480714</td></tr><tr><td>KA1503000019</td><td>316</td><td>33.335126582278484</td></tr><tr><td>KA1503000020</td><td>488</td><td>55.790573770491804</td></tr><tr><td>KA1503000021</td><td>466</td><td>38.69134477825465</td></tr><tr><td>KA1503000022</td><td>6097</td><td>16.473161664206444</td></tr><tr><td>KA1503000023</td><td>386</td><td>43.01450777202074</td></tr><tr><td>KA1503000024</td><td>182</td><td>91.38177655677657</td></tr><tr><td>KA1503000025</td><td>217</td><td>20.051996927803376</td></tr><tr><td>KA1503000027</td><td>926</td><td>27.994762419006477</td></tr><tr><td>KA1503000028</td><td>181</td><td>156.46832412523017</td></tr><tr><td>KA1503000029</td><td>1256</td><td>42.3980626326964</td></tr><tr><td>KA1503000030</td><td>659</td><td>57.94575113808802</td></tr><tr><td>KA1503000031</td><td>260</td><td>35.526217948717935</td></tr><tr><td>KA1503000032</td><td>515</td><td>27.984077669902913</td></tr><tr><td>KA1503000033</td><td>425</td><td>42.13835294117646</td></tr><tr><td>KA1503000034</td><td>5578</td><td>27.424614557188953</td></tr><tr><td>KA1503000038</td><td>3119</td><td>13.249850379395108</td></tr><tr><td>KA1503000040</td><td>1187</td><td>28.702148272957025</td></tr><tr><td>KA1503000041</td><td>20124</td><td>23.72416351951237</td></tr><tr><td>KA1503000043</td><td>32422</td><td>11.876643431414868</td></tr><tr><td>KA1503000044</td><td>9755</td><td>23.69236459935076</td></tr><tr><td>KA1503000045</td><td>343</td><td>55.27555879494656</td></tr><tr><td>KA1503000046</td><td>785</td><td>31.375626326963904</td></tr><tr><td>KA1503000047</td><td>172</td><td>105.71337209302328</td></tr><tr><td>KA1503000049</td><td>248</td><td>75.47526881720431</td></tr><tr><td>KA1503000051</td><td>615</td><td>19.560108401084012</td></tr><tr><td>KA1503000052</td><td>5727</td><td>17.176564227926207</td></tr><tr><td>KA1503000053</td><td>329</td><td>20.20141843971631</td></tr><tr><td>KA1503000054</td><td>760</td><td>26.699868421052635</td></tr><tr><td>KA1503000055</td><td>193</td><td>22.522625215889466</td></tr><tr><td>KA1503000059</td><td>6181</td><td>33.5945289327509</td></tr><tr><td>KA1503000064</td><td>20039</td><td>47.26198828950206</td></tr><tr><td>KA1503000065</td><td>1634</td><td>39.160791513667895</td></tr><tr><td>KA1503000066</td><td>634</td><td>28.086514195583604</td></tr><tr><td>KA1503000068</td><td>746</td><td>37.986505808757805</td></tr><tr><td>KA1503000069</td><td>1211</td><td>31.27225433526011</td></tr><tr><td>KA1503000070</td><td>3728</td><td>19.2972907725322</td></tr><tr><td>KA1503000071</td><td>15220</td><td>12.636226456416974</td></tr><tr><td>KA1503000072</td><td>8511</td><td>15.865509340853004</td></tr><tr><td>KA1503000073</td><td>384</td><td>37.9127170138889</td></tr><tr><td>KA1503000074</td><td>5177</td><td>49.87061683085438</td></tr><tr><td>KA1503000075</td><td>780</td><td>28.948653846153853</td></tr><tr><td>KA1504000076</td><td>11975</td><td>11.815053583855262</td></tr><tr><td>KA1504000078</td><td>2209</td><td>24.938976912630146</td></tr><tr><td>KA1504000079</td><td>12049</td><td>13.03606385038869</td></tr><tr><td>KA1504000080</td><td>2738</td><td>30.851174823472125</td></tr><tr><td>KA1504000082</td><td>166</td><td>42.020080321285135</td></tr><tr><td>KA1504000086</td><td>167</td><td>25.619361277445112</td></tr><tr><td>KA1504000090</td><td>2497</td><td>25.357275397143237</td></tr><tr><td>KA1504000091</td><td>256</td><td>35.98489583333333</td></tr><tr><td>KA1504000093</td><td>2622</td><td>17.833193490973805</td></tr><tr><td>KA1504000096</td><td>955</td><td>23.42619546247819</td></tr><tr><td>KA1504000097</td><td>1215</td><td>29.020644718792855</td></tr><tr><td>KA150400009X</td><td>1825</td><td>22.2156894977169</td></tr><tr><td>KA1504000101</td><td>1491</td><td>18.572345182204337</td></tr><tr><td>KA1504000102</td><td>528</td><td>30.708775252525257</td></tr><tr><td>KA1504000103</td><td>7043</td><td>16.56231246154575</td></tr><tr><td>KA1504000104</td><td>10054</td><td>14.670563954644921</td></tr><tr><td>KA1504000106</td><td>614</td><td>45.58862649294247</td></tr><tr><td>KA1504000109</td><td>1104</td><td>23.741062801932376</td></tr><tr><td>KA1504000110</td><td>243</td><td>18.621947873799726</td></tr><tr><td>KA1504000113</td><td>362</td><td>94.55059852670354</td></tr><tr><td>KA1504000114</td><td>635</td><td>29.83918635170604</td></tr><tr><td>KA1504000116</td><td>7842</td><td>18.9530349400663</td></tr><tr><td>KA1504000117</td><td>2483</td><td>16.31500872600349</td></tr><tr><td>KA1504000126</td><td>1074</td><td>25.569630664183748</td></tr><tr><td>KA1504000127</td><td>1698</td><td>20.795268943855522</td></tr><tr><td>KA1504000128</td><td>1071</td><td>32.18390911920323</td></tr><tr><td>KA1504000129</td><td>1043</td><td>29.570405880473004</td></tr><tr><td>KA1504000130</td><td>564</td><td>31.753664302600484</td></tr><tr><td>KA1504000133</td><td>20068</td><td>19.923766693242975</td></tr><tr><td>KA1504000134</td><td>13981</td><td>21.249606608969334</td></tr><tr><td>KA1504000135</td><td>35955</td><td>13.905837852871668</td></tr><tr><td>KA1504000139</td><td>1132</td><td>24.627370435806828</td></tr><tr><td>KA1504000140</td><td>3400</td><td>20.97832352941177</td></tr><tr><td>KA1504000141</td><td>439</td><td>30.90937737281702</td></tr><tr><td>KA1504000142</td><td>809</td><td>17.937721466831487</td></tr><tr><td>KA1504000143</td><td>2473</td><td>19.67544143415555</td></tr><tr><td>KA1504000146</td><td>9636</td><td>19.493652276186513</td></tr><tr><td>KA1504000147</td><td>1719</td><td>33.75123133604809</td></tr><tr><td>KA1504000148</td><td>3139</td><td>23.850318572793896</td></tr><tr><td>KA1504000149</td><td>3614</td><td>21.03961907397159</td></tr><tr><td>KA1504000151</td><td>6742</td><td>18.648007515079602</td></tr><tr><td>KA1504000152</td><td>16090</td><td>34.02521131137354</td></tr><tr><td>KA1504000155</td><td>851</td><td>21.771347434390915</td></tr><tr><td>KA1504000156</td><td>2649</td><td>18.95053479300366</td></tr><tr><td>KA1504000158</td><td>2173</td><td>20.67421383647799</td></tr><tr><td>KA1504000159</td><td>2205</td><td>29.626258503401377</td></tr><tr><td>KA1504000160</td><td>1935</td><td>28.472342807924196</td></tr><tr><td>KA1504000161</td><td>770</td><td>43.09186147186145</td></tr><tr><td>KA1504000162</td><td>2364</td><td>15.824915397631136</td></tr><tr><td>KA1504000164</td><td>690</td><td>30.059299516908215</td></tr><tr><td>KA1504000167</td><td>891</td><td>31.289113355780025</td></tr><tr><td>KA1504000168</td><td>123</td><td>38.27791327913279</td></tr><tr><td>KA1504000171</td><td>8287</td><td>28.715146212943964</td></tr><tr><td>KA1504000175</td><td>4013</td><td>24.948280588088714</td></tr><tr><td>KA17018054</td><td>2695</td><td>16.69808905380333</td></tr><tr><td>KA17018068</td><td>3859</td><td>19.8768592899715</td></tr><tr><td>KA1706005007</td><td>6750</td><td>21.29840493827162</td></tr><tr><td>KA1706005015</td><td>615</td><td>25.183794037940384</td></tr><tr><td>KP1705001026</td><td>14909</td><td>17.53700561182285</td></tr><tr><td>LF-005</td><td>46380</td><td>29.179207273249965</td></tr><tr><td>LP-</td><td>14836</td><td>30.633054731733633</td></tr><tr><td>Lincoln Ave & Roscoe St - Charging</td><td>3</td><td>0.5222222222222223</td></tr><tr><td>Pawel Bialowas - Test- PBSC charging station</td><td>1</td><td>2.5833333333333335</td></tr><tr><td>RN-</td><td>16837</td><td>13.953186434638003</td></tr><tr><td>RP-001</td><td>1080</td><td>33.01074074074073</td></tr><tr><td>RP-002</td><td>888</td><td>21.01007882882883</td></tr><tr><td>RP-004</td><td>501</td><td>26.946806387225546</td></tr><tr><td>RP-005</td><td>1278</td><td>24.588993218570693</td></tr><tr><td>RP-006</td><td>632</td><td>17.519725738396616</td></tr><tr><td>RP-007</td><td>894</td><td>18.474981357196125</td></tr><tr><td>RP-008</td><td>2087</td><td>15.885090241175527</td></tr><tr><td>RP-009</td><td>4544</td><td>30.72413072183097</td></tr><tr><td>SL-005</td><td>28382</td><td>31.247366875719358</td></tr><tr><td>SL-006</td><td>2683</td><td>30.754112312088456</td></tr><tr><td>SL-007</td><td>8774</td><td>27.288340551629794</td></tr><tr><td>SL-008</td><td>18803</td><td>18.544155188001962</td></tr><tr><td>SL-009</td><td>6501</td><td>21.56710506075989</td></tr><tr><td>SL-010</td><td>7136</td><td>17.19683062406578</td></tr><tr><td>SL-011</td><td>12542</td><td>18.27027055759317</td></tr><tr><td>SL-012</td><td>9360</td><td>18.117348646723656</td></tr><tr><td>SL-013</td><td>3103</td><td>34.395010205177776</td></tr><tr><td>TA1305000001</td><td>3514</td><td>27.87911686586987</td></tr><tr><td>TA1305000002</td><td>22370</td><td>24.917166592162165</td></tr><tr><td>TA1305000003</td><td>25191</td><td>26.25507456366689</td></tr><tr><td>TA1305000004</td><td>4138</td><td>32.4865393910102</td></tr><tr><td>TA1305000005</td><td>8964</td><td>23.41977353859884</td></tr><tr><td>TA1305000006</td><td>17525</td><td>18.600582025677625</td></tr><tr><td>TA1305000009</td><td>5341</td><td>21.32477688323036</td></tr><tr><td>TA1305000010</td><td>7779</td><td>38.13579294682265</td></tr><tr><td>TA1305000011</td><td>24729</td><td>32.62543572324</td></tr><tr><td>TA1305000014</td><td>24160</td><td>17.312520005518753</td></tr><tr><td>TA1305000017</td><td>4716</td><td>14.113114927904997</td></tr><tr><td>TA1305000020</td><td>11096</td><td>15.757298425859176</td></tr><tr><td>TA1305000022</td><td>18591</td><td>12.960971258494256</td></tr><tr><td>TA1305000025</td><td>16755</td><td>20.155526708445265</td></tr><tr><td>TA1305000029</td><td>19492</td><td>25.11567138655177</td></tr><tr><td>TA1305000030</td><td>15549</td><td>19.728445559199933</td></tr><tr><td>TA1305000032</td><td>23953</td><td>15.139441127764117</td></tr><tr><td>TA1305000034</td><td>11075</td><td>22.36067118133937</td></tr><tr><td>TA1305000035</td><td>8519</td><td>30.890480103298536</td></tr><tr><td>TA1305000037</td><td>9554</td><td>20.18806433605471</td></tr><tr><td>TA1305000039</td><td>8226</td><td>15.499440797471419</td></tr><tr><td>TA1305000041</td><td>20206</td><td>18.241045564023857</td></tr><tr><td>TA1306000002</td><td>4767</td><td>15.307279211243973</td></tr><tr><td>TA1306000003</td><td>24544</td><td>13.29329910908302</td></tr><tr><td>TA1306000006</td><td>5580</td><td>14.363431899641562</td></tr><tr><td>TA1306000007</td><td>6018</td><td>15.830165060374425</td></tr><tr><td>TA1306000008</td><td>7948</td><td>13.697800285187036</td></tr><tr><td>TA1306000009</td><td>16004</td><td>11.85267849704242</td></tr><tr><td>TA1306000010</td><td>18109</td><td>17.066826808032836</td></tr><tr><td>TA1306000011</td><td>9441</td><td>13.395828478621631</td></tr><tr><td>TA1306000012</td><td>29602</td><td>13.376560705357743</td></tr><tr><td>TA1306000013</td><td>26071</td><td>26.98940393540717</td></tr><tr><td>TA1306000014</td><td>19002</td><td>14.010312072413438</td></tr><tr><td>TA1306000015</td><td>19025</td><td>17.610573806395127</td></tr><tr><td>TA1306000016</td><td>18206</td><td>13.26734592991322</td></tr><tr><td>TA1306000025</td><td>5481</td><td>14.254552089034854</td></tr><tr><td>TA1306000026</td><td>14691</td><td>13.76301703991106</td></tr><tr><td>TA1306000029</td><td>20684</td><td>40.75475407722557</td></tr><tr><td>TA1306000032</td><td>13399</td><td>13.373048983755</td></tr><tr><td>TA1307000001</td><td>12897</td><td>17.707172210591597</td></tr><tr><td>TA1307000005</td><td>2901</td><td>24.121992416408133</td></tr><tr><td>TA1307000006</td><td>12904</td><td>14.819807811531295</td></tr><tr><td>TA1307000038</td><td>16749</td><td>16.47831810854379</td></tr><tr><td>TA1307000039</td><td>39346</td><td>17.43638955251695</td></tr><tr><td>TA1307000041</td><td>21575</td><td>23.430016994978775</td></tr><tr><td>TA1307000044</td><td>2886</td><td>19.30505313005313</td></tr><tr><td>TA1307000048</td><td>10504</td><td>50.96948781416599</td></tr><tr><td>TA1307000052</td><td>17715</td><td>15.133843259008364</td></tr><tr><td>TA1307000061</td><td>11905</td><td>19.13592748145034</td></tr><tr><td>TA1307000062</td><td>13592</td><td>13.014558809103383</td></tr><tr><td>TA1307000064</td><td>15863</td><td>13.357747588728502</td></tr><tr><td>TA1307000066</td><td>554</td><td>23.565102286401924</td></tr><tr><td>TA1307000070</td><td>7880</td><td>18.282804568527936</td></tr><tr><td>TA1307000107</td><td>14667</td><td>17.6504340810436</td></tr><tr><td>TA1307000111</td><td>15578</td><td>16.155034878247104</td></tr><tr><td>TA1307000113</td><td>12330</td><td>13.992573668559057</td></tr><tr><td>TA1307000115</td><td>6861</td><td>13.493742408783937</td></tr><tr><td>TA1307000117</td><td>31306</td><td>28.436581379501263</td></tr><tr><td>TA1307000119</td><td>6726</td><td>24.718312022995356</td></tr><tr><td>TA1307000120</td><td>25748</td><td>15.854423644554945</td></tr><tr><td>TA1307000121</td><td>9815</td><td>11.853504839531329</td></tr><tr><td>TA1307000124</td><td>13791</td><td>21.543417204457022</td></tr><tr><td>TA1307000126</td><td>18971</td><td>21.335735245023116</td></tr><tr><td>TA1307000127</td><td>16439</td><td>18.149819534846007</td></tr><tr><td>TA1307000128</td><td>23164</td><td>17.459832786507768</td></tr><tr><td>TA1307000129</td><td>3836</td><td>17.400377997914493</td></tr><tr><td>TA1307000130</td><td>10286</td><td>11.6725354851254</td></tr><tr><td>TA1307000131</td><td>15863</td><td>36.115667486183796</td></tr><tr><td>TA1307000134</td><td>26237</td><td>18.062565588037238</td></tr><tr><td>TA1307000136</td><td>18944</td><td>16.311848958333357</td></tr><tr><td>TA1307000138</td><td>11519</td><td>15.07058627774402</td></tr><tr><td>TA1307000139</td><td>7601</td><td>18.492972415910177</td></tr><tr><td>TA1307000140</td><td>5918</td><td>19.868170553114787</td></tr><tr><td>TA1307000142</td><td>22842</td><td>16.679705513235835</td></tr><tr><td>TA1307000143</td><td>5831</td><td>19.03402503858686</td></tr><tr><td>TA1307000144</td><td>4643</td><td>15.672309569961952</td></tr><tr><td>TA1307000149</td><td>5347</td><td>17.86814724767781</td></tr><tr><td>TA1307000150</td><td>19591</td><td>21.24832065744477</td></tr><tr><td>TA1307000151</td><td>23677</td><td>15.594229280173423</td></tr><tr><td>TA1307000153</td><td>2472</td><td>18.716053128371087</td></tr><tr><td>TA1307000156</td><td>5120</td><td>16.849423828124998</td></tr><tr><td>TA1307000158</td><td>5450</td><td>16.664972477064214</td></tr><tr><td>TA1307000159</td><td>3941</td><td>24.203996447602144</td></tr><tr><td>TA1307000160</td><td>1122</td><td>39.70778371954842</td></tr><tr><td>TA1307000161</td><td>575</td><td>36.78527536231883</td></tr><tr><td>TA1307000163</td><td>11313</td><td>14.676138071245475</td></tr><tr><td>TA1307000164</td><td>6699</td><td>17.51354679802958</td></tr><tr><td>TA1307000166</td><td>11902</td><td>15.683114882652761</td></tr><tr><td>TA1308000001</td><td>35704</td><td>29.26679036895961</td></tr><tr><td>TA1308000002</td><td>1840</td><td>29.56442934782609</td></tr><tr><td>TA1308000005</td><td>6630</td><td>18.912254901960768</td></tr><tr><td>TA1308000006</td><td>5188</td><td>16.50723464405037</td></tr><tr><td>TA1308000007</td><td>823</td><td>72.69515998379912</td></tr><tr><td>TA1308000009</td><td>12423</td><td>34.35680458289733</td></tr><tr><td>TA1308000012</td><td>19289</td><td>34.79800577185613</td></tr><tr><td>TA1308000013</td><td>1703</td><td>35.78071051086318</td></tr><tr><td>TA1308000014</td><td>1150</td><td>16.986202898550726</td></tr><tr><td>TA1308000019</td><td>14225</td><td>15.477572349150563</td></tr><tr><td>TA1308000021</td><td>6251</td><td>18.41963952434277</td></tr><tr><td>TA1308000022</td><td>14166</td><td>19.621642194926824</td></tr><tr><td>TA1308000023</td><td>769</td><td>31.970329432162973</td></tr><tr><td>TA1308000026</td><td>1921</td><td>27.33816588582335</td></tr><tr><td>TA1308000029</td><td>12587</td><td>23.44335028203702</td></tr><tr><td>TA1308000031</td><td>5340</td><td>18.79415730337078</td></tr><tr><td>TA1308000035</td><td>2535</td><td>36.17733727810652</td></tr><tr><td>TA1308000036</td><td>3964</td><td>24.100121930709697</td></tr><tr><td>TA1308000038</td><td>1718</td><td>59.70520954598369</td></tr><tr><td>TA1308000043</td><td>1771</td><td>21.78916807829852</td></tr><tr><td>TA1308000045</td><td>2556</td><td>16.25048904538342</td></tr><tr><td>TA1308000046</td><td>3231</td><td>20.059300526152892</td></tr><tr><td>TA1308000047</td><td>3344</td><td>18.450627990430622</td></tr><tr><td>TA1308000049</td><td>25550</td><td>15.331628832354857</td></tr><tr><td>TA1308000050</td><td>41604</td><td>15.84666338172612</td></tr><tr><td>TA1309000001</td><td>7918</td><td>16.496760545592306</td></tr><tr><td>TA1309000002</td><td>11539</td><td>43.35386804171361</td></tr><tr><td>TA1309000003</td><td>776</td><td>20.062457044673536</td></tr><tr><td>TA1309000004</td><td>11770</td><td>16.564524214103653</td></tr><tr><td>TA1309000006</td><td>11035</td><td>15.89266425011329</td></tr><tr><td>TA1309000007</td><td>13027</td><td>15.568448862618677</td></tr><tr><td>TA1309000008</td><td>9608</td><td>18.613126214265897</td></tr><tr><td>TA1309000010</td><td>16977</td><td>24.584009738666026</td></tr><tr><td>TA1309000011</td><td>7085</td><td>14.578863796753721</td></tr><tr><td>TA1309000012</td><td>3303</td><td>16.558199616510237</td></tr><tr><td>TA1309000014</td><td>8961</td><td>16.752198415355423</td></tr><tr><td>TA1309000015</td><td>2718</td><td>16.7165869511896</td></tr><tr><td>TA1309000018</td><td>3501</td><td>16.18276682852519</td></tr><tr><td>TA1309000019</td><td>24157</td><td>20.962226269818334</td></tr><tr><td>TA1309000021</td><td>3206</td><td>17.500696610521945</td></tr><tr><td>TA1309000023</td><td>15998</td><td>15.433854231778993</td></tr><tr><td>TA1309000024</td><td>21818</td><td>16.823903810309535</td></tr><tr><td>TA1309000025</td><td>21438</td><td>17.73837500388723</td></tr><tr><td>TA1309000026</td><td>5765</td><td>18.65460537727668</td></tr><tr><td>TA1309000027</td><td>8780</td><td>16.180229688686413</td></tr><tr><td>TA1309000029</td><td>5405</td><td>17.74310514955289</td></tr><tr><td>TA1309000030</td><td>9701</td><td>16.3769405215957</td></tr><tr><td>TA1309000032</td><td>2999</td><td>17.5847338001556</td></tr><tr><td>TA1309000033</td><td>17076</td><td>14.758587100804249</td></tr><tr><td>TA1309000035</td><td>11835</td><td>18.87701591325163</td></tr><tr><td>TA1309000036</td><td>14192</td><td>16.17585494175122</td></tr><tr><td>TA1309000037</td><td>11412</td><td>17.765241266503093</td></tr><tr><td>TA1309000039</td><td>21897</td><td>25.022650743633083</td></tr><tr><td>TA1309000041</td><td>6044</td><td>19.61969170527244</td></tr><tr><td>TA1309000042</td><td>11117</td><td>15.142382537255237</td></tr><tr><td>TA1309000043</td><td>7636</td><td>15.217107560677498</td></tr><tr><td>TA1309000049</td><td>21414</td><td>25.548449612403047</td></tr><tr><td>TA1309000050</td><td>3269</td><td>22.749291322524716</td></tr><tr><td>TA1309000051</td><td>106</td><td>43.879716981132084</td></tr><tr><td>TA1309000053</td><td>1063</td><td>34.08491690185012</td></tr><tr><td>TA1309000055</td><td>5298</td><td>14.849178935447336</td></tr><tr><td>TA1309000058</td><td>23151</td><td>16.224520179113952</td></tr><tr><td>TA1309000059</td><td>8546</td><td>13.522562212341054</td></tr><tr><td>TA1309000061</td><td>18951</td><td>14.713296571860758</td></tr><tr><td>TA1309000063</td><td>6013</td><td>22.145287987138964</td></tr><tr><td>TA1309000064</td><td>9646</td><td>13.527707512613164</td></tr><tr><td>TA1309000066</td><td>11891</td><td>15.298993636643951</td></tr><tr><td>TA1309000067</td><td>1071</td><td>23.32732648615001</td></tr><tr><td>Throop/Hastings Mobile Station</td><td>1</td><td>0.05</td></tr><tr><td>WL-008</td><td>7846</td><td>17.38735661483559</td></tr><tr><td>WL-011</td><td>8546</td><td>15.583362586785222</td></tr><tr><td>WL-012</td><td>20052</td><td>14.05965406609483</td></tr></tbody></table></div>"
      ]
     },
     "metadata": {
      "application/vnd.databricks.v1+output": {
       "addedWidgets": {},
       "aggData": [],
       "aggError": "",
       "aggOverflow": false,
       "aggSchema": [],
       "aggSeriesLimitReached": false,
       "aggType": "",
       "arguments": {},
       "columnCustomDisplayInfos": {},
       "data": [
        [
         "13001",
         24369,
         32.94646135117016
        ],
        [
         "13006",
         9856,
         22.37495941558442
        ],
        [
         "13008",
         40505,
         48.27992346623867
        ],
        [
         "13011",
         16776,
         18.896163169607398
        ],
        [
         "13016",
         28497,
         23.801775625504444
        ],
        [
         "13017",
         14247,
         19.448744764979775
        ],
        [
         "13021",
         17212,
         12.894366333565733
        ],
        [
         "13022",
         80344,
         38.98157837963413
        ],
        [
         "13028",
         8196,
         15.079856027330381
        ],
        [
         "13029",
         8359,
         33.619882761095816
        ],
        [
         "13033",
         18590,
         14.936048054509591
        ],
        [
         "13034",
         13166,
         31.695101017773062
        ],
        [
         "13036",
         11873,
         28.016064459979226
        ],
        [
         "13037",
         3269,
         13.924207198939525
        ],
        [
         "13042",
         42722,
         36.32646021565784
        ],
        [
         "13045",
         30271,
         17.925353748912606
        ],
        [
         "13050",
         20213,
         25.60986741206154
        ],
        [
         "13053",
         20195,
         17.752282743253307
        ],
        [
         "13056",
         8698,
         16.67332720165556
        ],
        [
         "13058",
         12064,
         15.141756465517252
        ],
        [
         "13059",
         19279,
         15.075208776388802
        ],
        [
         "13061",
         23757,
         16.412707131933004
        ],
        [
         "13063",
         14129,
         15.765207492863363
        ],
        [
         "13068",
         8717,
         21.398736185996714
        ],
        [
         "13071",
         19050,
         17.39405599300089
        ],
        [
         "13073",
         4951,
         16.07000605938194
        ],
        [
         "13074",
         9083,
         21.802449631179115
        ],
        [
         "13075",
         8857,
         29.73074780776032
        ],
        [
         "13080",
         1410,
         15.07075650118202
        ],
        [
         "13081",
         2679,
         16.469292024387215
        ],
        [
         "13083",
         548,
         23.3360097323601
        ],
        [
         "13084",
         9980,
         18.412538410153665
        ],
        [
         "13085",
         9524,
         37.60300993980121
        ],
        [
         "13089",
         2463,
         19.56057653268371
        ],
        [
         "13091",
         1672,
         22.449681020733653
        ],
        [
         "13096",
         1207,
         26.93673018503175
        ],
        [
         "13099",
         3221,
         29.20513815585219
        ],
        [
         "13102",
         9462,
         26.38853131825549
        ],
        [
         "13108",
         8582,
         20.581482560397745
        ],
        [
         "13109",
         8018,
         20.524684044233783
        ],
        [
         "13124",
         7579,
         43.18535866649073
        ],
        [
         "13128",
         13604,
         24.062593109869663
        ],
        [
         "13132",
         11523,
         18.776733489542654
        ],
        [
         "13133",
         12306,
         19.824302508261535
        ],
        [
         "13134",
         3423,
         28.44475606193397
        ],
        [
         "13135",
         5454,
         19.36850629507395
        ],
        [
         "13136",
         10423,
         20.179890626499084
        ],
        [
         "13137",
         28980,
         17.546064527260178
        ],
        [
         "13138",
         6516,
         14.814277675465506
        ],
        [
         "13139",
         7051,
         12.608755259301272
        ],
        [
         "13143",
         3575,
         28.427095571095563
        ],
        [
         "13144",
         5453,
         18.866712512989796
        ],
        [
         "13146",
         31332,
         19.148458445040177
        ],
        [
         "13150",
         9624,
         21.525240717650316
        ],
        [
         "13154",
         13851,
         14.061552715808736
        ],
        [
         "13155",
         5328,
         15.159684684684693
        ],
        [
         "13156",
         10781,
         19.598438611136892
        ],
        [
         "13157",
         11569,
         14.486898896476216
        ],
        [
         "13158",
         15252,
         16.017078634496023
        ],
        [
         "13160",
         9624,
         15.073948808534222
        ],
        [
         "13162",
         1923,
         20.332527301092036
        ],
        [
         "13163",
         4637,
         19.15683631658399
        ],
        [
         "13164",
         6987,
         19.596441009493816
        ],
        [
         "13165",
         1137,
         21.70513046027558
        ],
        [
         "13179",
         31901,
         19.82836170234999
        ],
        [
         "13191",
         15505,
         16.36857035364937
        ],
        [
         "13192",
         16917,
         16.477776792575504
        ],
        [
         "13193",
         26661,
         16.559422002175467
        ],
        [
         "13194",
         10442,
         15.046055991827869
        ],
        [
         "13196",
         10602,
         13.610887882789418
        ],
        [
         "13197",
         5464,
         14.3037701317716
        ],
        [
         "13206",
         6800,
         14.268950980392155
        ],
        [
         "13213",
         764,
         43.3007635253054
        ],
        [
         "13215",
         4154,
         23.265378751404278
        ],
        [
         "13216",
         9528,
         12.685518122026323
        ],
        [
         "13217",
         5272,
         12.206382776934738
        ],
        [
         "13221",
         15267,
         19.168629505905972
        ],
        [
         "13224",
         10449,
         16.80495581714357
        ],
        [
         "13229",
         10302,
         16.35720410276322
        ],
        [
         "13235",
         17954,
         15.693869518398841
        ],
        [
         "13241",
         5234,
         18.622130938733903
        ],
        [
         "13242",
         4498,
         19.981273158440796
        ],
        [
         "13243",
         12676,
         19.95135426527821
        ],
        [
         "13245",
         2464,
         16.997436417748915
        ],
        [
         "13247",
         9206,
         15.181888623361568
        ],
        [
         "13248",
         7767,
         15.119220205141406
        ],
        [
         "13249",
         2996,
         18.037333110814426
        ],
        [
         "13253",
         5035,
         18.804005296259522
        ],
        [
         "13256",
         3742,
         42.73148939960809
        ],
        [
         "13257",
         5656,
         25.928279702970283
        ],
        [
         "13258",
         4425,
         22.128237288135608
        ],
        [
         "13259",
         4127,
         20.979286810435358
        ],
        [
         "13263",
         22754,
         26.144964255369054
        ],
        [
         "13265",
         19426,
         11.905142592401926
        ],
        [
         "13266",
         4371,
         22.547834210325632
        ],
        [
         "13268",
         4725,
         16.93935449735449
        ],
        [
         "13269",
         5962,
         15.939849603041482
        ],
        [
         "13271",
         4875,
         21.787018803418814
        ],
        [
         "13276",
         17812,
         23.296564114080397
        ],
        [
         "13277",
         16407,
         20.14079051624309
        ],
        [
         "13278",
         20499,
         18.182167422801083
        ],
        [
         "13285",
         6825,
         13.905252747252735
        ],
        [
         "13288",
         6109,
         18.85352212582529
        ],
        [
         "13289",
         9908,
         16.434892679316373
        ],
        [
         "13290",
         9231,
         15.607695085400643
        ],
        [
         "13292",
         4134,
         21.336018384131584
        ],
        [
         "13294",
         7252,
         15.31276889134032
        ],
        [
         "13296",
         6986,
         18.72540557305086
        ],
        [
         "13300",
         44672,
         39.91281973794186
        ],
        [
         "13303",
         14528,
         17.372355680983876
        ],
        [
         "13304",
         2982,
         17.490945674044266
        ],
        [
         "13307",
         2380,
         22.084803921568632
        ],
        [
         "13319",
         7117,
         16.670444007306457
        ],
        [
         "13323",
         13713,
         17.004911397943555
        ],
        [
         "13325",
         20480,
         16.4286124674479
        ],
        [
         "13326",
         3002,
         18.786975349766827
        ],
        [
         "13331",
         2036,
         20.101178781925345
        ],
        [
         "13332",
         16416,
         12.331748497400909
        ],
        [
         "13338",
         16374,
         22.832316477342143
        ],
        [
         "13341",
         12919,
         16.373651211394076
        ],
        [
         "13345",
         2061,
         19.95066310852337
        ],
        [
         "13353",
         8775,
         15.045832858499518
        ],
        [
         "13354",
         2649,
         15.94535044670945
        ],
        [
         "13379",
         12796,
         18.019093206210268
        ],
        [
         "13389",
         11630,
         19.418895098882174
        ],
        [
         "13398",
         4565,
         24.915001825483746
        ],
        [
         "13409",
         10301,
         14.913438824709552
        ],
        [
         "13420",
         1192,
         29.867086129753908
        ],
        [
         "13427",
         13536,
         24.914040336879427
        ],
        [
         "13430",
         24088,
         19.427753099745395
        ],
        [
         "13431",
         15098,
         36.435864573674266
        ],
        [
         "13432",
         4265,
         15.289660023446649
        ],
        [
         "13434",
         6174,
         17.089552964042767
        ],
        [
         "15442",
         1036,
         24.054536679536678
        ],
        [
         "15443",
         1614,
         18.690561751342404
        ],
        [
         "15445",
         2678,
         15.511712720936025
        ],
        [
         "15446",
         1052,
         19.543235107731302
        ],
        [
         "15449",
         273,
         24.047680097680097
        ],
        [
         "15470",
         932,
         27.646870529327618
        ],
        [
         "15491",
         1963,
         62.448361351672624
        ],
        [
         "15529",
         18071,
         24.285620607603338
        ],
        [
         "15530",
         19659,
         22.401638774437473
        ],
        [
         "15534",
         13088,
         27.129479930725353
        ],
        [
         "15535",
         12473,
         16.048944386541592
        ],
        [
         "15539",
         11726,
         14.57186309625333
        ],
        [
         "15541",
         13969,
         51.12902259765668
        ],
        [
         "15542",
         1307,
         23.227135934710518
        ],
        [
         "15544",
         27422,
         36.52914265917877
        ],
        [
         "15545",
         13328,
         32.078742747098815
        ],
        [
         "15546",
         3814,
         32.79202499563013
        ],
        [
         "15550",
         5773,
         19.194543564870933
        ],
        [
         "15571",
         7157,
         30.843179171906304
        ],
        [
         "15575",
         6676,
         28.675229678450172
        ],
        [
         "15578",
         6541,
         21.98392702441012
        ],
        [
         "15585",
         936,
         27.930733618233603
        ],
        [
         "15597",
         74,
         39.74684684684684
        ],
        [
         "15599",
         74,
         53.10315315315315
        ],
        [
         "15615",
         1247,
         26.187142475273987
        ],
        [
         "15621",
         1769,
         22.74078575466367
        ],
        [
         "15622",
         2761,
         26.84471206084751
        ],
        [
         "15623",
         2567,
         18.22319828593689
        ],
        [
         "15624",
         1205,
         22.5676071922545
        ],
        [
         "15628",
         2027,
         25.235775365893765
        ],
        [
         "15631",
         2018,
         27.55782953419225
        ],
        [
         "15632",
         2620,
         32.27937659033077
        ],
        [
         "15634",
         2434,
         19.42052862229526
        ],
        [
         "15640",
         1630,
         34.02819018404909
        ],
        [
         "15642",
         2895,
         20.933293033966603
        ],
        [
         "15643",
         1737,
         26.401919017463054
        ],
        [
         "15644",
         1744,
         24.278000764525988
        ],
        [
         "15645",
         1981,
         20.911694430422344
        ],
        [
         "15646",
         3737,
         18.81012398537151
        ],
        [
         "15648",
         3381,
         21.92237010746327
        ],
        [
         "15650",
         3380,
         24.454255424063117
        ],
        [
         "15651",
         5258,
         22.522077469253208
        ],
        [
         "15652",
         1028,
         35.025081063553834
        ],
        [
         "15653",
         2740,
         26.88905717761557
        ],
        [
         "15654",
         1775,
         29.67774647887324
        ],
        [
         "15655",
         4522,
         24.274837829868762
        ],
        [
         "15664",
         2338,
         18.641930424864555
        ],
        [
         "15666",
         812,
         26.50069786535303
        ],
        [
         "15667",
         2055,
         22.97257907542579
        ],
        [
         "15668",
         2975,
         19.087876750700282
        ],
        [
         "15682",
         253,
         60.023451910408454
        ],
        [
         "15685",
         524,
         21.673823155216287
        ],
        [
         "15686",
         279,
         35.31708482676225
        ],
        [
         "15687",
         145,
         30.5503448275862
        ],
        [
         "15689",
         777,
         26.744744744744747
        ],
        [
         "15691",
         254,
         31.18510498687664
        ],
        [
         "15692",
         274,
         23.60018248175182
        ],
        [
         "16010",
         723,
         28.488220378054407
        ],
        [
         "16806",
         902,
         20.254157427937912
        ],
        [
         "16903",
         146,
         71.42442922374428
        ],
        [
         "16905",
         267,
         146.57933832709114
        ],
        [
         "16906",
         471,
         42.2590941259731
        ],
        [
         "16907",
         239,
         60.508716875871684
        ],
        [
         "16912",
         78,
         31.476068376068376
        ],
        [
         "16913",
         76,
         84.74144736842106
        ],
        [
         "16915",
         142,
         317.65246478873235
        ],
        [
         "16916",
         218,
         45.984327217125376
        ],
        [
         "16918",
         278,
         77.1898081534772
        ],
        [
         "16920",
         533,
         50.44449656035022
        ],
        [
         "16921",
         258,
         78.35432816537468
        ],
        [
         "16932",
         336,
         23.248561507936504
        ],
        [
         "16933",
         193,
         15.807599309153714
        ],
        [
         "16937",
         294,
         20.51734693877551
        ],
        [
         "16940",
         132,
         36.560227272727275
        ],
        [
         "16943",
         100,
         32.210499999999996
        ],
        [
         "16948",
         129,
         57.54289405684755
        ],
        [
         "16950",
         71,
         132.7863849765258
        ],
        [
         "16953",
         65,
         29.36948717948718
        ],
        [
         "16970",
         82,
         204.89654471544716
        ],
        [
         "16991",
         649,
         44.549897277863366
        ],
        [
         "16994",
         288,
         56.742361111111116
        ],
        [
         "17660",
         4737,
         18.437393568362527
        ],
        [
         "18003",
         9259,
         28.334679771033596
        ],
        [
         "18016",
         1075,
         34.20404651162791
        ],
        [
         "18017",
         3006,
         33.817941893989804
        ],
        [
         "18022",
         474,
         34.13857243319268
        ],
        [
         "18025",
         34,
         168.56911764705885
        ],
        [
         "18058",
         4468,
         17.493867502238135
        ],
        [
         "18062",
         9699,
         19.101469223631316
        ],
        [
         "18067",
         7953,
         22.038478142420054
        ],
        [
         "18069",
         1707,
         15.25017574692443
        ],
        [
         "20.0",
         742,
         14.040206648697218
        ],
        [
         "20101",
         81,
         32.25576131687243
        ],
        [
         "20102",
         7,
         13.204761904761906
        ],
        [
         "201022",
         76,
         26.343640350877195
        ],
        [
         "20103",
         217,
         212.2249615975422
        ],
        [
         "20104",
         382,
         136.56819371727744
        ],
        [
         "20105",
         100,
         59.42166666666666
        ],
        [
         "20106",
         465,
         39.14168458781362
        ],
        [
         "20107",
         181,
         128.75405156537752
        ],
        [
         "20108",
         195,
         46.17162393162391
        ],
        [
         "20109",
         81,
         98.15411522633747
        ],
        [
         "20110",
         169,
         48.70631163708088
        ],
        [
         "20111",
         2,
         41.766666666666666
        ],
        [
         "20112",
         98,
         207.39251700680273
        ],
        [
         "20113",
         96,
         94.16927083333333
        ],
        [
         "20114",
         9,
         8.362962962962962
        ],
        [
         "20116",
         202,
         52.242904290429045
        ],
        [
         "20118",
         130,
         23.078717948717948
        ],
        [
         "20119",
         134,
         215.52363184079604
        ],
        [
         "20120",
         149,
         35.18501118568233
        ],
        [
         "20121",
         157,
         145.18535031847136
        ],
        [
         "20123",
         134,
         29.215671641791044
        ],
        [
         "20124",
         94,
         41.02145390070922
        ],
        [
         "20125",
         76,
         45.81074561403508
        ],
        [
         "20126",
         16,
         28.351041666666667
        ],
        [
         "20127",
         81,
         45.09876543209877
        ],
        [
         "20128",
         5,
         17.566666666666666
        ],
        [
         "20129",
         56,
         55.560714285714276
        ],
        [
         "20130",
         75,
         36.755555555555546
        ],
        [
         "20131",
         148,
         103.22905405405409
        ],
        [
         "20133",
         16,
         17.373958333333334
        ],
        [
         "20134",
         24,
         21.080555555555556
        ],
        [
         "20201",
         19,
         32.977192982456145
        ],
        [
         "20202",
         53,
         29.448113207547173
        ],
        [
         "20203",
         221,
         93.08355957767726
        ],
        [
         "20204",
         82,
         54.72256097560978
        ],
        [
         "20205",
         168,
         308.6353174603175
        ],
        [
         "20206",
         138,
         62.01268115942029
        ],
        [
         "20207",
         131,
         42.564122137404574
        ],
        [
         "20208",
         99,
         52.678956228956224
        ],
        [
         "20209",
         6,
         24.102777777777774
        ],
        [
         "20210",
         165,
         37.68373737373738
        ],
        [
         "20211",
         75,
         266.1299999999999
        ],
        [
         "20212",
         53,
         52.51383647798741
        ],
        [
         "20213",
         134,
         39.317786069651746
        ],
        [
         "20214",
         93,
         51.623297491039445
        ],
        [
         "20215",
         61,
         31.333333333333336
        ],
        [
         "20217",
         41,
         33.43008130081301
        ],
        [
         "20218",
         81,
         38.050000000000004
        ],
        [
         "20220",
         8,
         15.433333333333332
        ],
        [
         "20221",
         47,
         40.80035460992907
        ],
        [
         "20222",
         196,
         92.66488095238094
        ],
        [
         "20223",
         89,
         56.32977528089888
        ],
        [
         "20224",
         379,
         145.96961301671064
        ],
        [
         "20225",
         43,
         69.07868217054263
        ],
        [
         "20226",
         93,
         40.372580645161285
        ],
        [
         "20227",
         101,
         33.0937293729373
        ],
        [
         "20228",
         77,
         31.817532467532466
        ],
        [
         "20229",
         167,
         44.155588822355284
        ],
        [
         "20230",
         143,
         285.3741258741258
        ],
        [
         "20231",
         132,
         186.20366161616158
        ],
        [
         "20232",
         276,
         63.87596618357488
        ],
        [
         "20233",
         82,
         39.62459349593496
        ],
        [
         "20234",
         86,
         24.45174418604651
        ],
        [
         "20235",
         43,
         127.68449612403099
        ],
        [
         "20236",
         141,
         54.90319148936172
        ],
        [
         "20237",
         81,
         135.66234567901236
        ],
        [
         "20238",
         211,
         38.04960505529226
        ],
        [
         "20239",
         121,
         48.65495867768595
        ],
        [
         "20240",
         1,
         10.0
        ],
        [
         "20242",
         100,
         39.632666666666665
        ],
        [
         "20243",
         76,
         44.492105263157896
        ],
        [
         "20244",
         77,
         41.080735930735926
        ],
        [
         "20245",
         100,
         57.656499999999994
        ],
        [
         "20246.0",
         1974,
         13.799932455251597
        ],
        [
         "20247.0",
         157,
         13.210615711252656
        ],
        [
         "20248.0",
         1,
         16.1
        ],
        [
         "202480.0",
         489,
         10.81281526925699
        ],
        [
         "20249.0",
         11,
         7.65
        ],
        [
         "20251.0",
         284,
         11.173239436619719
        ],
        [
         "20252.0",
         1476,
         14.532780036133694
        ],
        [
         "20253.0",
         128,
         12.849739583333333
        ],
        [
         "20254.0",
         752,
         11.233156028368798
        ],
        [
         "20255.0",
         11,
         12.969696969696969
        ],
        [
         "20256.0",
         548,
         11.441788321167888
        ],
        [
         "20257.0",
         345,
         10.92594202898551
        ],
        [
         "20260.0",
         18,
         10.169444444444444
        ],
        [
         "20999",
         1,
         7.75
        ],
        [
         "21544",
         208,
         13.121955128205123
        ],
        [
         "301",
         16,
         19.167708333333337
        ],
        [
         "302",
         6,
         38.791666666666664
        ],
        [
         "303",
         17,
         20.323529411764707
        ],
        [
         "304",
         23,
         28.877536231884054
        ],
        [
         "305",
         23,
         34.04637681159421
        ],
        [
         "307",
         10,
         21.93333333333333
        ],
        [
         "308",
         33,
         23.390404040404036
        ],
        [
         "309",
         17,
         18.015686274509804
        ],
        [
         "310",
         25,
         14.24
        ],
        [
         "312",
         110,
         18.231666666666673
        ],
        [
         "313",
         39,
         15.634188034188034
        ],
        [
         "314",
         71,
         22.41455399061033
        ],
        [
         "316",
         67,
         17.549751243781095
        ],
        [
         "317",
         87,
         15.064942528735633
        ],
        [
         "318",
         69,
         27.517391304347825
        ],
        [
         "319",
         23,
         29.531159420289857
        ],
        [
         "320",
         36,
         25.244444444444444
        ],
        [
         "321",
         86,
         19.26802325581395
        ],
        [
         "322",
         21,
         19.323015873015873
        ],
        [
         "323",
         40,
         26.013750000000005
        ],
        [
         "324",
         72,
         16.265972222222224
        ],
        [
         "325",
         24,
         26.014583333333334
        ],
        [
         "326",
         44,
         14.698106060606062
        ],
        [
         "327",
         51,
         38.36895424836602
        ],
        [
         "329.0",
         54,
         24.3429012345679
        ],
        [
         "330.0",
         36,
         32.08009259259259
        ],
        [
         "331",
         18752,
         14.633307558304903
        ],
        [
         "331.0",
         28,
         11.2375
        ],
        [
         "332.0",
         20,
         9.136666666666667
        ],
        [
         "334.0",
         59,
         22.514406779661016
        ],
        [
         "335.0",
         31,
         21.156989247311827
        ],
        [
         "337",
         20,
         30.958333333333343
        ],
        [
         "338",
         9,
         28.39444444444445
        ],
        [
         "339",
         23,
         18.589130434782607
        ],
        [
         "340",
         6,
         14.783333333333333
        ],
        [
         "341",
         15,
         17.788888888888888
        ],
        [
         "342",
         3,
         12.02222222222222
        ],
        [
         "343",
         24,
         12.444444444444445
        ],
        [
         "344",
         15,
         10.865555555555556
        ],
        [
         "345",
         21,
         15.746825396825395
        ],
        [
         "346",
         20,
         28.964999999999996
        ],
        [
         "347",
         8,
         19.858333333333334
        ],
        [
         "348",
         10,
         14.465
        ],
        [
         "349",
         15,
         30.723333333333336
        ],
        [
         "350",
         9,
         25.23148148148148
        ],
        [
         "351",
         70,
         17.087857142857143
        ],
        [
         "352",
         38,
         24.430701754385968
        ],
        [
         "353",
         43,
         27.04031007751938
        ],
        [
         "354",
         14,
         32.459523809523816
        ],
        [
         "355",
         39,
         19.26709401709402
        ],
        [
         "356",
         48,
         26.389236111111114
        ],
        [
         "357",
         48,
         21.851388888888888
        ],
        [
         "358",
         67,
         15.67139303482587
        ],
        [
         "359",
         69,
         14.098067632850245
        ],
        [
         "360",
         97,
         23.011683848797254
        ],
        [
         "361",
         20,
         20.31666666666667
        ],
        [
         "362.0",
         18,
         37.76851851851852
        ],
        [
         "363.0",
         18,
         19.38888888888889
        ],
        [
         "364.0",
         48,
         21.310069444444448
        ],
        [
         "365.0",
         8,
         26.729166666666664
        ],
        [
         "366.0",
         61,
         22.926775956284153
        ],
        [
         "368.0",
         40,
         17.695
        ],
        [
         "369",
         11,
         34.41818181818182
        ],
        [
         "370",
         16,
         37.854166666666664
        ],
        [
         "371",
         11,
         28.49242424242424
        ],
        [
         "373",
         4,
         23.4875
        ],
        [
         "374",
         10,
         16.536666666666665
        ],
        [
         "375",
         15,
         16.56
        ],
        [
         "376",
         5,
         18.263333333333332
        ],
        [
         "377",
         21,
         26.607142857142858
        ],
        [
         "378",
         61,
         30.78606557377049
        ],
        [
         "379",
         27,
         17.112962962962964
        ],
        [
         "380",
         12,
         16.708333333333332
        ],
        [
         "381",
         8,
         28.041666666666664
        ],
        [
         "382",
         37,
         8.333333333333334
        ],
        [
         "383",
         3,
         9.755555555555555
        ],
        [
         "384",
         31,
         15.386559139784946
        ],
        [
         "385",
         11,
         16.965151515151515
        ],
        [
         "386",
         21,
         18.03174603174603
        ],
        [
         "387",
         5,
         13.293333333333333
        ],
        [
         "388",
         15,
         51.06666666666667
        ],
        [
         "389",
         12,
         21.60972222222222
        ],
        [
         "390",
         4,
         37.454166666666666
        ],
        [
         "393",
         41,
         28.639024390243897
        ],
        [
         "394",
         17,
         49.65
        ],
        [
         "396",
         49,
         18.543197278911563
        ],
        [
         "397",
         51,
         28.07777777777778
        ],
        [
         "398",
         149,
         21.42181208053691
        ],
        [
         "399",
         11,
         26.85151515151515
        ],
        [
         "400",
         28,
         33.19285714285715
        ],
        [
         "401",
         3,
         10.416666666666666
        ],
        [
         "402",
         11,
         17.418181818181818
        ],
        [
         "403",
         5,
         18.033333333333335
        ],
        [
         "404",
         8,
         40.70625
        ],
        [
         "406",
         11,
         30.236363636363638
        ],
        [
         "407",
         18,
         33.1037037037037
        ],
        [
         "414",
         12,
         15.37777777777778
        ],
        [
         "415",
         7,
         7.507142857142857
        ],
        [
         "416",
         2,
         23.908333333333335
        ],
        [
         "418",
         12,
         12.152777777777779
        ],
        [
         "419",
         1,
         13.616666666666667
        ],
        [
         "420",
         2,
         14.408333333333333
        ],
        [
         "424",
         3,
         7.572222222222223
        ],
        [
         "425",
         24,
         12.466666666666667
        ],
        [
         "427",
         1,
         0.1
        ],
        [
         "428",
         103,
         12.90194174757282
        ],
        [
         "429",
         18,
         12.383333333333333
        ],
        [
         "430",
         45,
         19.874444444444446
        ],
        [
         "431",
         25,
         18.754
        ],
        [
         "432",
         17,
         9.190196078431374
        ],
        [
         "433",
         30,
         25.32055555555555
        ],
        [
         "434",
         49,
         12.71768707482993
        ],
        [
         "435",
         61,
         13.057377049180328
        ],
        [
         "436",
         61,
         7.836885245901643
        ],
        [
         "441",
         21,
         17.43015873015873
        ],
        [
         "442",
         38,
         12.866228070175438
        ],
        [
         "443",
         34,
         12.613725490196082
        ],
        [
         "444",
         2,
         16.483333333333334
        ],
        [
         "445",
         52,
         13.012179487179488
        ],
        [
         "446",
         14,
         9.76547619047619
        ],
        [
         "452",
         15,
         14.614444444444446
        ],
        [
         "458",
         5,
         13.653333333333332
        ],
        [
         "460",
         3,
         8.622222222222222
        ],
        [
         "462",
         6,
         11.108333333333334
        ],
        [
         "464",
         7,
         12.235714285714286
        ],
        [
         "466",
         3,
         25.344444444444445
        ],
        [
         "471",
         21,
         17.498412698412704
        ],
        [
         "472",
         65,
         15.459230769230762
        ],
        [
         "473",
         64,
         23.569791666666667
        ],
        [
         "474",
         1,
         1.0833333333333333
        ],
        [
         "475",
         14,
         42.53095238095238
        ],
        [
         "514",
         723,
         15.530636237897651
        ],
        [
         "515",
         1979,
         28.32970355398351
        ],
        [
         "517",
         1046,
         15.97259400892288
        ],
        [
         "518",
         743,
         38.44389860924181
        ],
        [
         "519",
         455,
         31.65098901098901
        ],
        [
         "520",
         2905,
         21.658462421113025
        ],
        [
         "523",
         2354,
         26.436661002548867
        ],
        [
         "525",
         2019,
         25.830700016509827
        ],
        [
         "527",
         711,
         24.717018284106892
        ],
        [
         "528",
         197,
         30.820304568527913
        ],
        [
         "530",
         150,
         30.78355555555556
        ],
        [
         "534",
         101,
         107.84554455445543
        ],
        [
         "535",
         133,
         41.94736842105263
        ],
        [
         "536",
         82,
         41.75894308943089
        ],
        [
         "537",
         86,
         280.01996124031007
        ],
        [
         "540",
         149,
         130.941163310962
        ],
        [
         "543",
         63,
         28.74206349206349
        ],
        [
         "545",
         127,
         43.06430446194225
        ],
        [
         "546",
         447,
         32.713870246085015
        ],
        [
         "549",
         282,
         21.420803782505907
        ],
        [
         "553",
         81,
         23.211316872427986
        ],
        [
         "554",
         88,
         32.48162878787879
        ],
        [
         "556",
         78,
         538.0380341880341
        ],
        [
         "557",
         63,
         34.77407407407407
        ],
        [
         "559",
         109,
         32.369113149847095
        ],
        [
         "560",
         53,
         34.659433962264146
        ],
        [
         "561",
         114,
         46.69926900584795
        ],
        [
         "562",
         41,
         37.50609756097561
        ],
        [
         "564",
         45,
         353.39111111111106
        ],
        [
         "567",
         106,
         53.184433962264144
        ],
        [
         "569",
         45,
         23.854814814814816
        ],
        [
         "570",
         118,
         55.10141242937853
        ],
        [
         "571",
         125,
         32.11653333333333
        ],
        [
         "572",
         35,
         19.454761904761906
        ],
        [
         "573",
         275,
         19.529878787878783
        ],
        [
         "574",
         176,
         54.91107954545455
        ],
        [
         "575",
         153,
         32.503921568627455
        ],
        [
         "576",
         148,
         28.63018018018018
        ],
        [
         "577",
         150,
         21.950888888888894
        ],
        [
         "579",
         277,
         93.50312876052949
        ],
        [
         "580",
         193,
         41.69248704663213
        ],
        [
         "582",
         88,
         51.4657196969697
        ],
        [
         "583",
         192,
         24.240104166666658
        ],
        [
         "584",
         172,
         41.14089147286821
        ],
        [
         "585",
         201,
         159.30663349917083
        ],
        [
         "586",
         63,
         40.30449735449736
        ],
        [
         "587",
         55,
         409.700606060606
        ],
        [
         "588",
         101,
         22.47359735973597
        ],
        [
         "590",
         346,
         31.594508670520227
        ],
        [
         "592",
         438,
         30.523097412480976
        ],
        [
         "593",
         40,
         24.700416666666662
        ],
        [
         "594",
         284,
         64.42241784037559
        ],
        [
         "595",
         268,
         35.706218905472646
        ],
        [
         "596",
         5736,
         30.397271617852166
        ],
        [
         "598",
         940,
         23.347234042553197
        ],
        [
         "599",
         976,
         22.19989754098361
        ],
        [
         "600",
         745,
         67.53852348993291
        ],
        [
         "604",
         5299,
         24.55101276970497
        ],
        [
         "605",
         2814,
         30.468869936034114
        ],
        [
         "620",
         11332,
         13.3124352865043
        ],
        [
         "623",
         18727,
         37.01825706199605
        ],
        [
         "624",
         7934,
         24.88595916309552
        ],
        [
         "631",
         1759,
         22.61027098730338
        ],
        [
         "632",
         21846,
         18.353658183038835
        ],
        [
         "636",
         10044,
         16.476649409265928
        ],
        [
         "637",
         6933,
         14.915899802875137
        ],
        [
         "638",
         13565,
         15.712942621943736
        ],
        [
         "639",
         9291,
         33.455460481469544
        ],
        [
         "642",
         105,
         283.12603174603174
        ],
        [
         "643",
         2015,
         19.672233250620337
        ],
        [
         "644",
         4776,
         15.081194165270796
        ],
        [
         "646",
         202,
         28.038283828382838
        ],
        [
         "647",
         39,
         29.073931623931628
        ],
        [
         "649",
         121,
         26.033195592286503
        ],
        [
         "650",
         113,
         102.02389380530974
        ],
        [
         "651",
         92,
         69.51394927536234
        ],
        [
         "652",
         72,
         49.78703703703704
        ],
        [
         "653",
         512,
         41.472037760416676
        ],
        [
         "654",
         5172,
         15.2594837587007
        ],
        [
         "655",
         1959,
         17.022094606091546
        ],
        [
         "657",
         5588,
         15.813910761154848
        ],
        [
         "658",
         4338,
         15.270078377132316
        ],
        [
         "660",
         3837,
         24.5652245678047
        ],
        [
         "661",
         1444,
         27.633483379501374
        ],
        [
         "662",
         489,
         38.70047716428086
        ],
        [
         "665",
         31,
         535.639247311828
        ],
        [
         "DIVVY 001",
         82,
         1.5920731707317068
        ],
        [
         "DIVVY CASSETTE REPAIR MOBILE STATION",
         4,
         94.325
        ],
        [
         "E002",
         3595,
         25.0443625405656
        ],
        [
         "E006",
         1276,
         28.941105015673987
        ],
        [
         "E007",
         1067,
         32.92691346454232
        ],
        [
         "E008",
         4184,
         33.808229764181
        ],
        [
         "E011",
         411,
         28.112895377128957
        ],
        [
         "E014",
         702,
         71.54083570750235
        ],
        [
         "Hastings WH 2",
         1,
         0.65
        ],
        [
         "Hubbard Bike-checking (LBS-WH-TEST)",
         168,
         11.927083333333336
        ],
        [
         "KA1503000001",
         121,
         27.511294765840223
        ],
        [
         "KA1503000002",
         1626,
         47.790662156621586
        ],
        [
         "KA1503000003",
         146,
         37.71940639269407
        ],
        [
         "KA1503000004",
         3263,
         54.75316681989991
        ],
        [
         "KA1503000005",
         1671,
         20.577099541192897
        ],
        [
         "KA1503000007",
         7182,
         28.00287292304836
        ],
        [
         "KA1503000009",
         365,
         16.904383561643836
        ],
        [
         "KA1503000010",
         96,
         101.96579861111111
        ],
        [
         "KA1503000011",
         88,
         34.5280303030303
        ],
        [
         "KA1503000012",
         15933,
         26.62787401410069
        ],
        [
         "KA1503000013",
         309,
         19.76628910463862
        ],
        [
         "KA1503000014",
         16962,
         11.263212867979414
        ],
        [
         "KA1503000015",
         10601,
         32.77078105839067
        ],
        [
         "KA1503000018",
         337,
         36.604747774480714
        ],
        [
         "KA1503000019",
         316,
         33.335126582278484
        ],
        [
         "KA1503000020",
         488,
         55.790573770491804
        ],
        [
         "KA1503000021",
         466,
         38.69134477825465
        ],
        [
         "KA1503000022",
         6097,
         16.473161664206444
        ],
        [
         "KA1503000023",
         386,
         43.01450777202074
        ],
        [
         "KA1503000024",
         182,
         91.38177655677657
        ],
        [
         "KA1503000025",
         217,
         20.051996927803376
        ],
        [
         "KA1503000027",
         926,
         27.994762419006477
        ],
        [
         "KA1503000028",
         181,
         156.46832412523017
        ],
        [
         "KA1503000029",
         1256,
         42.3980626326964
        ],
        [
         "KA1503000030",
         659,
         57.94575113808802
        ],
        [
         "KA1503000031",
         260,
         35.526217948717935
        ],
        [
         "KA1503000032",
         515,
         27.984077669902913
        ],
        [
         "KA1503000033",
         425,
         42.13835294117646
        ],
        [
         "KA1503000034",
         5578,
         27.424614557188953
        ],
        [
         "KA1503000038",
         3119,
         13.249850379395108
        ],
        [
         "KA1503000040",
         1187,
         28.702148272957025
        ],
        [
         "KA1503000041",
         20124,
         23.72416351951237
        ],
        [
         "KA1503000043",
         32422,
         11.876643431414868
        ],
        [
         "KA1503000044",
         9755,
         23.69236459935076
        ],
        [
         "KA1503000045",
         343,
         55.27555879494656
        ],
        [
         "KA1503000046",
         785,
         31.375626326963904
        ],
        [
         "KA1503000047",
         172,
         105.71337209302328
        ],
        [
         "KA1503000049",
         248,
         75.47526881720431
        ],
        [
         "KA1503000051",
         615,
         19.560108401084012
        ],
        [
         "KA1503000052",
         5727,
         17.176564227926207
        ],
        [
         "KA1503000053",
         329,
         20.20141843971631
        ],
        [
         "KA1503000054",
         760,
         26.699868421052635
        ],
        [
         "KA1503000055",
         193,
         22.522625215889466
        ],
        [
         "KA1503000059",
         6181,
         33.5945289327509
        ],
        [
         "KA1503000064",
         20039,
         47.26198828950206
        ],
        [
         "KA1503000065",
         1634,
         39.160791513667895
        ],
        [
         "KA1503000066",
         634,
         28.086514195583604
        ],
        [
         "KA1503000068",
         746,
         37.986505808757805
        ],
        [
         "KA1503000069",
         1211,
         31.27225433526011
        ],
        [
         "KA1503000070",
         3728,
         19.2972907725322
        ],
        [
         "KA1503000071",
         15220,
         12.636226456416974
        ],
        [
         "KA1503000072",
         8511,
         15.865509340853004
        ],
        [
         "KA1503000073",
         384,
         37.9127170138889
        ],
        [
         "KA1503000074",
         5177,
         49.87061683085438
        ],
        [
         "KA1503000075",
         780,
         28.948653846153853
        ],
        [
         "KA1504000076",
         11975,
         11.815053583855262
        ],
        [
         "KA1504000078",
         2209,
         24.938976912630146
        ],
        [
         "KA1504000079",
         12049,
         13.03606385038869
        ],
        [
         "KA1504000080",
         2738,
         30.851174823472125
        ],
        [
         "KA1504000082",
         166,
         42.020080321285135
        ],
        [
         "KA1504000086",
         167,
         25.619361277445112
        ],
        [
         "KA1504000090",
         2497,
         25.357275397143237
        ],
        [
         "KA1504000091",
         256,
         35.98489583333333
        ],
        [
         "KA1504000093",
         2622,
         17.833193490973805
        ],
        [
         "KA1504000096",
         955,
         23.42619546247819
        ],
        [
         "KA1504000097",
         1215,
         29.020644718792855
        ],
        [
         "KA150400009X",
         1825,
         22.2156894977169
        ],
        [
         "KA1504000101",
         1491,
         18.572345182204337
        ],
        [
         "KA1504000102",
         528,
         30.708775252525257
        ],
        [
         "KA1504000103",
         7043,
         16.56231246154575
        ],
        [
         "KA1504000104",
         10054,
         14.670563954644921
        ],
        [
         "KA1504000106",
         614,
         45.58862649294247
        ],
        [
         "KA1504000109",
         1104,
         23.741062801932376
        ],
        [
         "KA1504000110",
         243,
         18.621947873799726
        ],
        [
         "KA1504000113",
         362,
         94.55059852670354
        ],
        [
         "KA1504000114",
         635,
         29.83918635170604
        ],
        [
         "KA1504000116",
         7842,
         18.9530349400663
        ],
        [
         "KA1504000117",
         2483,
         16.31500872600349
        ],
        [
         "KA1504000126",
         1074,
         25.569630664183748
        ],
        [
         "KA1504000127",
         1698,
         20.795268943855522
        ],
        [
         "KA1504000128",
         1071,
         32.18390911920323
        ],
        [
         "KA1504000129",
         1043,
         29.570405880473004
        ],
        [
         "KA1504000130",
         564,
         31.753664302600484
        ],
        [
         "KA1504000133",
         20068,
         19.923766693242975
        ],
        [
         "KA1504000134",
         13981,
         21.249606608969334
        ],
        [
         "KA1504000135",
         35955,
         13.905837852871668
        ],
        [
         "KA1504000139",
         1132,
         24.627370435806828
        ],
        [
         "KA1504000140",
         3400,
         20.97832352941177
        ],
        [
         "KA1504000141",
         439,
         30.90937737281702
        ],
        [
         "KA1504000142",
         809,
         17.937721466831487
        ],
        [
         "KA1504000143",
         2473,
         19.67544143415555
        ],
        [
         "KA1504000146",
         9636,
         19.493652276186513
        ],
        [
         "KA1504000147",
         1719,
         33.75123133604809
        ],
        [
         "KA1504000148",
         3139,
         23.850318572793896
        ],
        [
         "KA1504000149",
         3614,
         21.03961907397159
        ],
        [
         "KA1504000151",
         6742,
         18.648007515079602
        ],
        [
         "KA1504000152",
         16090,
         34.02521131137354
        ],
        [
         "KA1504000155",
         851,
         21.771347434390915
        ],
        [
         "KA1504000156",
         2649,
         18.95053479300366
        ],
        [
         "KA1504000158",
         2173,
         20.67421383647799
        ],
        [
         "KA1504000159",
         2205,
         29.626258503401377
        ],
        [
         "KA1504000160",
         1935,
         28.472342807924196
        ],
        [
         "KA1504000161",
         770,
         43.09186147186145
        ],
        [
         "KA1504000162",
         2364,
         15.824915397631136
        ],
        [
         "KA1504000164",
         690,
         30.059299516908215
        ],
        [
         "KA1504000167",
         891,
         31.289113355780025
        ],
        [
         "KA1504000168",
         123,
         38.27791327913279
        ],
        [
         "KA1504000171",
         8287,
         28.715146212943964
        ],
        [
         "KA1504000175",
         4013,
         24.948280588088714
        ],
        [
         "KA17018054",
         2695,
         16.69808905380333
        ],
        [
         "KA17018068",
         3859,
         19.8768592899715
        ],
        [
         "KA1706005007",
         6750,
         21.29840493827162
        ],
        [
         "KA1706005015",
         615,
         25.183794037940384
        ],
        [
         "KP1705001026",
         14909,
         17.53700561182285
        ],
        [
         "LF-005",
         46380,
         29.179207273249965
        ],
        [
         "LP-",
         14836,
         30.633054731733633
        ],
        [
         "Lincoln Ave & Roscoe St - Charging",
         3,
         0.5222222222222223
        ],
        [
         "Pawel Bialowas - Test- PBSC charging station",
         1,
         2.5833333333333335
        ],
        [
         "RN-",
         16837,
         13.953186434638003
        ],
        [
         "RP-001",
         1080,
         33.01074074074073
        ],
        [
         "RP-002",
         888,
         21.01007882882883
        ],
        [
         "RP-004",
         501,
         26.946806387225546
        ],
        [
         "RP-005",
         1278,
         24.588993218570693
        ],
        [
         "RP-006",
         632,
         17.519725738396616
        ],
        [
         "RP-007",
         894,
         18.474981357196125
        ],
        [
         "RP-008",
         2087,
         15.885090241175527
        ],
        [
         "RP-009",
         4544,
         30.72413072183097
        ],
        [
         "SL-005",
         28382,
         31.247366875719358
        ],
        [
         "SL-006",
         2683,
         30.754112312088456
        ],
        [
         "SL-007",
         8774,
         27.288340551629794
        ],
        [
         "SL-008",
         18803,
         18.544155188001962
        ],
        [
         "SL-009",
         6501,
         21.56710506075989
        ],
        [
         "SL-010",
         7136,
         17.19683062406578
        ],
        [
         "SL-011",
         12542,
         18.27027055759317
        ],
        [
         "SL-012",
         9360,
         18.117348646723656
        ],
        [
         "SL-013",
         3103,
         34.395010205177776
        ],
        [
         "TA1305000001",
         3514,
         27.87911686586987
        ],
        [
         "TA1305000002",
         22370,
         24.917166592162165
        ],
        [
         "TA1305000003",
         25191,
         26.25507456366689
        ],
        [
         "TA1305000004",
         4138,
         32.4865393910102
        ],
        [
         "TA1305000005",
         8964,
         23.41977353859884
        ],
        [
         "TA1305000006",
         17525,
         18.600582025677625
        ],
        [
         "TA1305000009",
         5341,
         21.32477688323036
        ],
        [
         "TA1305000010",
         7779,
         38.13579294682265
        ],
        [
         "TA1305000011",
         24729,
         32.62543572324
        ],
        [
         "TA1305000014",
         24160,
         17.312520005518753
        ],
        [
         "TA1305000017",
         4716,
         14.113114927904997
        ],
        [
         "TA1305000020",
         11096,
         15.757298425859176
        ],
        [
         "TA1305000022",
         18591,
         12.960971258494256
        ],
        [
         "TA1305000025",
         16755,
         20.155526708445265
        ],
        [
         "TA1305000029",
         19492,
         25.11567138655177
        ],
        [
         "TA1305000030",
         15549,
         19.728445559199933
        ],
        [
         "TA1305000032",
         23953,
         15.139441127764117
        ],
        [
         "TA1305000034",
         11075,
         22.36067118133937
        ],
        [
         "TA1305000035",
         8519,
         30.890480103298536
        ],
        [
         "TA1305000037",
         9554,
         20.18806433605471
        ],
        [
         "TA1305000039",
         8226,
         15.499440797471419
        ],
        [
         "TA1305000041",
         20206,
         18.241045564023857
        ],
        [
         "TA1306000002",
         4767,
         15.307279211243973
        ],
        [
         "TA1306000003",
         24544,
         13.29329910908302
        ],
        [
         "TA1306000006",
         5580,
         14.363431899641562
        ],
        [
         "TA1306000007",
         6018,
         15.830165060374425
        ],
        [
         "TA1306000008",
         7948,
         13.697800285187036
        ],
        [
         "TA1306000009",
         16004,
         11.85267849704242
        ],
        [
         "TA1306000010",
         18109,
         17.066826808032836
        ],
        [
         "TA1306000011",
         9441,
         13.395828478621631
        ],
        [
         "TA1306000012",
         29602,
         13.376560705357743
        ],
        [
         "TA1306000013",
         26071,
         26.98940393540717
        ],
        [
         "TA1306000014",
         19002,
         14.010312072413438
        ],
        [
         "TA1306000015",
         19025,
         17.610573806395127
        ],
        [
         "TA1306000016",
         18206,
         13.26734592991322
        ],
        [
         "TA1306000025",
         5481,
         14.254552089034854
        ],
        [
         "TA1306000026",
         14691,
         13.76301703991106
        ],
        [
         "TA1306000029",
         20684,
         40.75475407722557
        ],
        [
         "TA1306000032",
         13399,
         13.373048983755
        ],
        [
         "TA1307000001",
         12897,
         17.707172210591597
        ],
        [
         "TA1307000005",
         2901,
         24.121992416408133
        ],
        [
         "TA1307000006",
         12904,
         14.819807811531295
        ],
        [
         "TA1307000038",
         16749,
         16.47831810854379
        ],
        [
         "TA1307000039",
         39346,
         17.43638955251695
        ],
        [
         "TA1307000041",
         21575,
         23.430016994978775
        ],
        [
         "TA1307000044",
         2886,
         19.30505313005313
        ],
        [
         "TA1307000048",
         10504,
         50.96948781416599
        ],
        [
         "TA1307000052",
         17715,
         15.133843259008364
        ],
        [
         "TA1307000061",
         11905,
         19.13592748145034
        ],
        [
         "TA1307000062",
         13592,
         13.014558809103383
        ],
        [
         "TA1307000064",
         15863,
         13.357747588728502
        ],
        [
         "TA1307000066",
         554,
         23.565102286401924
        ],
        [
         "TA1307000070",
         7880,
         18.282804568527936
        ],
        [
         "TA1307000107",
         14667,
         17.6504340810436
        ],
        [
         "TA1307000111",
         15578,
         16.155034878247104
        ],
        [
         "TA1307000113",
         12330,
         13.992573668559057
        ],
        [
         "TA1307000115",
         6861,
         13.493742408783937
        ],
        [
         "TA1307000117",
         31306,
         28.436581379501263
        ],
        [
         "TA1307000119",
         6726,
         24.718312022995356
        ],
        [
         "TA1307000120",
         25748,
         15.854423644554945
        ],
        [
         "TA1307000121",
         9815,
         11.853504839531329
        ],
        [
         "TA1307000124",
         13791,
         21.543417204457022
        ],
        [
         "TA1307000126",
         18971,
         21.335735245023116
        ],
        [
         "TA1307000127",
         16439,
         18.149819534846007
        ],
        [
         "TA1307000128",
         23164,
         17.459832786507768
        ],
        [
         "TA1307000129",
         3836,
         17.400377997914493
        ],
        [
         "TA1307000130",
         10286,
         11.6725354851254
        ],
        [
         "TA1307000131",
         15863,
         36.115667486183796
        ],
        [
         "TA1307000134",
         26237,
         18.062565588037238
        ],
        [
         "TA1307000136",
         18944,
         16.311848958333357
        ],
        [
         "TA1307000138",
         11519,
         15.07058627774402
        ],
        [
         "TA1307000139",
         7601,
         18.492972415910177
        ],
        [
         "TA1307000140",
         5918,
         19.868170553114787
        ],
        [
         "TA1307000142",
         22842,
         16.679705513235835
        ],
        [
         "TA1307000143",
         5831,
         19.03402503858686
        ],
        [
         "TA1307000144",
         4643,
         15.672309569961952
        ],
        [
         "TA1307000149",
         5347,
         17.86814724767781
        ],
        [
         "TA1307000150",
         19591,
         21.24832065744477
        ],
        [
         "TA1307000151",
         23677,
         15.594229280173423
        ],
        [
         "TA1307000153",
         2472,
         18.716053128371087
        ],
        [
         "TA1307000156",
         5120,
         16.849423828124998
        ],
        [
         "TA1307000158",
         5450,
         16.664972477064214
        ],
        [
         "TA1307000159",
         3941,
         24.203996447602144
        ],
        [
         "TA1307000160",
         1122,
         39.70778371954842
        ],
        [
         "TA1307000161",
         575,
         36.78527536231883
        ],
        [
         "TA1307000163",
         11313,
         14.676138071245475
        ],
        [
         "TA1307000164",
         6699,
         17.51354679802958
        ],
        [
         "TA1307000166",
         11902,
         15.683114882652761
        ],
        [
         "TA1308000001",
         35704,
         29.26679036895961
        ],
        [
         "TA1308000002",
         1840,
         29.56442934782609
        ],
        [
         "TA1308000005",
         6630,
         18.912254901960768
        ],
        [
         "TA1308000006",
         5188,
         16.50723464405037
        ],
        [
         "TA1308000007",
         823,
         72.69515998379912
        ],
        [
         "TA1308000009",
         12423,
         34.35680458289733
        ],
        [
         "TA1308000012",
         19289,
         34.79800577185613
        ],
        [
         "TA1308000013",
         1703,
         35.78071051086318
        ],
        [
         "TA1308000014",
         1150,
         16.986202898550726
        ],
        [
         "TA1308000019",
         14225,
         15.477572349150563
        ],
        [
         "TA1308000021",
         6251,
         18.41963952434277
        ],
        [
         "TA1308000022",
         14166,
         19.621642194926824
        ],
        [
         "TA1308000023",
         769,
         31.970329432162973
        ],
        [
         "TA1308000026",
         1921,
         27.33816588582335
        ],
        [
         "TA1308000029",
         12587,
         23.44335028203702
        ],
        [
         "TA1308000031",
         5340,
         18.79415730337078
        ],
        [
         "TA1308000035",
         2535,
         36.17733727810652
        ],
        [
         "TA1308000036",
         3964,
         24.100121930709697
        ],
        [
         "TA1308000038",
         1718,
         59.70520954598369
        ],
        [
         "TA1308000043",
         1771,
         21.78916807829852
        ],
        [
         "TA1308000045",
         2556,
         16.25048904538342
        ],
        [
         "TA1308000046",
         3231,
         20.059300526152892
        ],
        [
         "TA1308000047",
         3344,
         18.450627990430622
        ],
        [
         "TA1308000049",
         25550,
         15.331628832354857
        ],
        [
         "TA1308000050",
         41604,
         15.84666338172612
        ],
        [
         "TA1309000001",
         7918,
         16.496760545592306
        ],
        [
         "TA1309000002",
         11539,
         43.35386804171361
        ],
        [
         "TA1309000003",
         776,
         20.062457044673536
        ],
        [
         "TA1309000004",
         11770,
         16.564524214103653
        ],
        [
         "TA1309000006",
         11035,
         15.89266425011329
        ],
        [
         "TA1309000007",
         13027,
         15.568448862618677
        ],
        [
         "TA1309000008",
         9608,
         18.613126214265897
        ],
        [
         "TA1309000010",
         16977,
         24.584009738666026
        ],
        [
         "TA1309000011",
         7085,
         14.578863796753721
        ],
        [
         "TA1309000012",
         3303,
         16.558199616510237
        ],
        [
         "TA1309000014",
         8961,
         16.752198415355423
        ],
        [
         "TA1309000015",
         2718,
         16.7165869511896
        ],
        [
         "TA1309000018",
         3501,
         16.18276682852519
        ],
        [
         "TA1309000019",
         24157,
         20.962226269818334
        ],
        [
         "TA1309000021",
         3206,
         17.500696610521945
        ],
        [
         "TA1309000023",
         15998,
         15.433854231778993
        ],
        [
         "TA1309000024",
         21818,
         16.823903810309535
        ],
        [
         "TA1309000025",
         21438,
         17.73837500388723
        ],
        [
         "TA1309000026",
         5765,
         18.65460537727668
        ],
        [
         "TA1309000027",
         8780,
         16.180229688686413
        ],
        [
         "TA1309000029",
         5405,
         17.74310514955289
        ],
        [
         "TA1309000030",
         9701,
         16.3769405215957
        ],
        [
         "TA1309000032",
         2999,
         17.5847338001556
        ],
        [
         "TA1309000033",
         17076,
         14.758587100804249
        ],
        [
         "TA1309000035",
         11835,
         18.87701591325163
        ],
        [
         "TA1309000036",
         14192,
         16.17585494175122
        ],
        [
         "TA1309000037",
         11412,
         17.765241266503093
        ],
        [
         "TA1309000039",
         21897,
         25.022650743633083
        ],
        [
         "TA1309000041",
         6044,
         19.61969170527244
        ],
        [
         "TA1309000042",
         11117,
         15.142382537255237
        ],
        [
         "TA1309000043",
         7636,
         15.217107560677498
        ],
        [
         "TA1309000049",
         21414,
         25.548449612403047
        ],
        [
         "TA1309000050",
         3269,
         22.749291322524716
        ],
        [
         "TA1309000051",
         106,
         43.879716981132084
        ],
        [
         "TA1309000053",
         1063,
         34.08491690185012
        ],
        [
         "TA1309000055",
         5298,
         14.849178935447336
        ],
        [
         "TA1309000058",
         23151,
         16.224520179113952
        ],
        [
         "TA1309000059",
         8546,
         13.522562212341054
        ],
        [
         "TA1309000061",
         18951,
         14.713296571860758
        ],
        [
         "TA1309000063",
         6013,
         22.145287987138964
        ],
        [
         "TA1309000064",
         9646,
         13.527707512613164
        ],
        [
         "TA1309000066",
         11891,
         15.298993636643951
        ],
        [
         "TA1309000067",
         1071,
         23.32732648615001
        ],
        [
         "Throop/Hastings Mobile Station",
         1,
         0.05
        ],
        [
         "WL-008",
         7846,
         17.38735661483559
        ],
        [
         "WL-011",
         8546,
         15.583362586785222
        ],
        [
         "WL-012",
         20052,
         14.05965406609483
        ]
       ],
       "datasetInfos": [
        {
         "name": "_sqldf",
         "schema": {
          "fields": [
           {
            "metadata": {},
            "name": "start_station_id",
            "nullable": true,
            "type": "string"
           },
           {
            "metadata": {},
            "name": "trip_count",
            "nullable": false,
            "type": "long"
           },
           {
            "metadata": {},
            "name": "avg_duration",
            "nullable": true,
            "type": "double"
           }
          ],
          "type": "struct"
         },
         "tableIdentifier": null,
         "typeStr": "pyspark.sql.dataframe.DataFrame"
        }
       ],
       "dbfsResultPath": null,
       "isJsonSchema": true,
       "metadata": {
        "createTempViewForImplicitDf": true,
        "dataframeName": "_sqldf",
        "executionCount": 17
       },
       "overflow": false,
       "plotOptions": {
        "customPlotOptions": {},
        "displayType": "table",
        "pivotAggregation": null,
        "pivotColumns": null,
        "xColumns": null,
        "yColumns": null
       },
       "removedWidgets": [],
       "schema": [
        {
         "metadata": "{}",
         "name": "start_station_id",
         "type": "\"string\""
        },
        {
         "metadata": "{}",
         "name": "trip_count",
         "type": "\"long\""
        },
        {
         "metadata": "{}",
         "name": "avg_duration",
         "type": "\"double\""
        }
       ],
       "type": "table"
      }
     },
     "output_type": "display_data"
    }
   ],
   "source": [
    "\n",
    "\n",
    "%sql\n",
    "--Based on which station is the starting and / or ending station\n",
    "\n",
    "\n",
    "SELECT start_station_id, COUNT(*) AS trip_count, AVG(trip_duration_minutes) AS avg_duration\n",
    "FROM trips_view\n",
    "GROUP BY start_station_id\n",
    "ORDER BY start_station_id;"
   ]
  },
  {
   "cell_type": "markdown",
   "metadata": {
    "application/vnd.databricks.v1+cell": {
     "cellMetadata": {},
     "inputWidgets": {},
     "nuid": "ae521e50-31ee-4237-8608-212781677e28",
     "showTitle": false,
     "tableResultSettingsMap": {},
     "title": ""
    }
   },
   "source": [
    "#Query to group by end station"
   ]
  },
  {
   "cell_type": "code",
   "execution_count": 0,
   "metadata": {
    "application/vnd.databricks.v1+cell": {
     "cellMetadata": {
      "byteLimit": 2048000,
      "implicitDf": true,
      "rowLimit": 10000
     },
     "inputWidgets": {},
     "nuid": "9b6924c7-d78e-4697-9cfb-0eb705513e56",
     "showTitle": false,
     "tableResultSettingsMap": {},
     "title": ""
    }
   },
   "outputs": [
    {
     "output_type": "display_data",
     "data": {
      "text/html": [
       "<style scoped>\n",
       "  .table-result-container {\n",
       "    max-height: 300px;\n",
       "    overflow: auto;\n",
       "  }\n",
       "  table, th, td {\n",
       "    border: 1px solid black;\n",
       "    border-collapse: collapse;\n",
       "  }\n",
       "  th, td {\n",
       "    padding: 5px;\n",
       "  }\n",
       "  th {\n",
       "    text-align: left;\n",
       "  }\n",
       "</style><div class='table-result-container'><table class='table-result'><thead style='background-color: white'><tr><th>end_station_id</th><th>trip_count</th><th>avg_duration</th></tr></thead><tbody><tr><td>13001</td><td>24160</td><td>27.92953228476822</td></tr><tr><td>13006</td><td>9812</td><td>17.163595597227893</td></tr><tr><td>13008</td><td>41766</td><td>37.46783867260459</td></tr><tr><td>13011</td><td>16043</td><td>15.40573978266742</td></tr><tr><td>13016</td><td>29630</td><td>21.88758521768478</td></tr><tr><td>13017</td><td>13740</td><td>13.590043668122277</td></tr><tr><td>13021</td><td>17173</td><td>13.212423571886104</td></tr><tr><td>13022</td><td>81840</td><td>38.4206698028674</td></tr><tr><td>13028</td><td>8233</td><td>13.49276084051987</td></tr><tr><td>13029</td><td>6896</td><td>35.002992072699165</td></tr><tr><td>13033</td><td>18293</td><td>13.948847464421736</td></tr><tr><td>13034</td><td>13203</td><td>28.814385619429938</td></tr><tr><td>13036</td><td>11970</td><td>24.893978000556935</td></tr><tr><td>13037</td><td>3099</td><td>28.435656663439822</td></tr><tr><td>13042</td><td>43435</td><td>34.632170292774546</td></tr><tr><td>13045</td><td>30748</td><td>18.129407874766923</td></tr><tr><td>13050</td><td>20824</td><td>22.2233584645921</td></tr><tr><td>13053</td><td>20795</td><td>16.430036867836822</td></tr><tr><td>13056</td><td>8094</td><td>14.340649452269169</td></tr><tr><td>13058</td><td>11678</td><td>14.843848832562658</td></tr><tr><td>13059</td><td>19983</td><td>14.710734124005423</td></tr><tr><td>13061</td><td>23662</td><td>16.27453018905136</td></tr><tr><td>13063</td><td>14189</td><td>15.786113656118602</td></tr><tr><td>13068</td><td>8974</td><td>22.82950746601292</td></tr><tr><td>13071</td><td>19811</td><td>16.31653374387967</td></tr><tr><td>13073</td><td>4941</td><td>18.127312284962574</td></tr><tr><td>13074</td><td>9308</td><td>19.251717160865212</td></tr><tr><td>13075</td><td>9396</td><td>29.801411948346825</td></tr><tr><td>13080</td><td>1175</td><td>13.488539007092195</td></tr><tr><td>13081</td><td>2320</td><td>21.576479885057473</td></tr><tr><td>13083</td><td>460</td><td>46.81507246376811</td></tr><tr><td>13084</td><td>10286</td><td>23.968006675740487</td></tr><tr><td>13085</td><td>10963</td><td>26.00332177931834</td></tr><tr><td>13089</td><td>2801</td><td>23.676817803165534</td></tr><tr><td>13091</td><td>1778</td><td>22.093382077240335</td></tr><tr><td>13096</td><td>1369</td><td>26.135731677623568</td></tr><tr><td>13099</td><td>3259</td><td>19.96821110770173</td></tr><tr><td>13102</td><td>9552</td><td>24.549227037967594</td></tr><tr><td>13108</td><td>8657</td><td>21.874325208886837</td></tr><tr><td>13109</td><td>8188</td><td>19.919701595831306</td></tr><tr><td>13124</td><td>7657</td><td>37.747353184449956</td></tr><tr><td>13128</td><td>13498</td><td>22.4908122190942</td></tr><tr><td>13132</td><td>11902</td><td>15.145871842267393</td></tr><tr><td>13133</td><td>12489</td><td>18.569491819467792</td></tr><tr><td>13134</td><td>3400</td><td>23.14335294117646</td></tr><tr><td>13135</td><td>5632</td><td>20.14956202651514</td></tr><tr><td>13136</td><td>10810</td><td>15.540781683626262</td></tr><tr><td>13137</td><td>29537</td><td>17.415673561973122</td></tr><tr><td>13138</td><td>6241</td><td>14.54764460823586</td></tr><tr><td>13139</td><td>7050</td><td>13.894550827423181</td></tr><tr><td>13143</td><td>3657</td><td>19.967072281469342</td></tr><tr><td>13144</td><td>5647</td><td>18.14472581311611</td></tr><tr><td>13146</td><td>30949</td><td>20.441302896162505</td></tr><tr><td>13150</td><td>9620</td><td>22.98591822591825</td></tr><tr><td>13154</td><td>13977</td><td>13.09305525744677</td></tr><tr><td>13155</td><td>5182</td><td>15.4694841116686</td></tr><tr><td>13156</td><td>10738</td><td>14.971383559942899</td></tr><tr><td>13157</td><td>11354</td><td>13.514668839175627</td></tr><tr><td>13158</td><td>15181</td><td>14.837879586325014</td></tr><tr><td>13160</td><td>9409</td><td>14.666445247458109</td></tr><tr><td>13162</td><td>1985</td><td>19.459471032745604</td></tr><tr><td>13163</td><td>4758</td><td>20.306599411517453</td></tr><tr><td>13164</td><td>6922</td><td>19.353580371761538</td></tr><tr><td>13165</td><td>1198</td><td>21.784195882025603</td></tr><tr><td>13179</td><td>31875</td><td>19.642362875817</td></tr><tr><td>13191</td><td>15270</td><td>16.05445426762718</td></tr><tr><td>13192</td><td>17480</td><td>15.847884248665144</td></tr><tr><td>13193</td><td>26885</td><td>15.50985245800014</td></tr><tr><td>13194</td><td>10704</td><td>17.571113602391613</td></tr><tr><td>13196</td><td>9681</td><td>14.46545122749026</td></tr><tr><td>13197</td><td>5738</td><td>17.388337980713374</td></tr><tr><td>13206</td><td>6613</td><td>16.497709057916232</td></tr><tr><td>13213</td><td>858</td><td>42.61705516705517</td></tr><tr><td>13215</td><td>3963</td><td>27.188350576162843</td></tr><tr><td>13216</td><td>9774</td><td>10.991562649205374</td></tr><tr><td>13217</td><td>5069</td><td>22.904014598540147</td></tr><tr><td>13221</td><td>15819</td><td>20.585393092694424</td></tr><tr><td>13224</td><td>10570</td><td>17.014222642699462</td></tr><tr><td>13229</td><td>10275</td><td>15.565993511759938</td></tr><tr><td>13235</td><td>18252</td><td>15.688722697056004</td></tr><tr><td>13241</td><td>4871</td><td>20.31669403955383</td></tr><tr><td>13242</td><td>4548</td><td>20.707552770448554</td></tr><tr><td>13243</td><td>12756</td><td>18.462613671997502</td></tr><tr><td>13245</td><td>2576</td><td>26.649864130434796</td></tr><tr><td>13247</td><td>9206</td><td>14.439456151785057</td></tr><tr><td>13248</td><td>7473</td><td>15.57660020518308</td></tr><tr><td>13249</td><td>3029</td><td>18.532100803345436</td></tr><tr><td>13253</td><td>5136</td><td>18.243769470405</td></tr><tr><td>13256</td><td>3993</td><td>27.16728024042073</td></tr><tr><td>13257</td><td>5769</td><td>18.59382330848788</td></tr><tr><td>13258</td><td>4325</td><td>27.53042389210018</td></tr><tr><td>13259</td><td>4100</td><td>19.30231707317073</td></tr><tr><td>13263</td><td>19378</td><td>25.69132521416039</td></tr><tr><td>13265</td><td>18783</td><td>12.688502901559916</td></tr><tr><td>13266</td><td>4515</td><td>21.15682539682541</td></tr><tr><td>13268</td><td>4896</td><td>18.24705201525055</td></tr><tr><td>13269</td><td>6033</td><td>19.56843748273384</td></tr><tr><td>13271</td><td>5172</td><td>18.02381090487237</td></tr><tr><td>13276</td><td>17776</td><td>20.988531353135343</td></tr><tr><td>13277</td><td>16810</td><td>20.35535197303195</td></tr><tr><td>13278</td><td>20420</td><td>18.63803215801503</td></tr><tr><td>13285</td><td>6693</td><td>13.767152248617952</td></tr><tr><td>13288</td><td>6158</td><td>18.370009202121896</td></tr><tr><td>13289</td><td>9756</td><td>18.012040453737853</td></tr><tr><td>13290</td><td>8927</td><td>20.171858780478704</td></tr><tr><td>13292</td><td>4042</td><td>25.38806696354941</td></tr><tr><td>13294</td><td>7214</td><td>16.581120044358197</td></tr><tr><td>13296</td><td>7265</td><td>16.14747189722413</td></tr><tr><td>13300</td><td>43151</td><td>38.26925370597814</td></tr><tr><td>13303</td><td>14156</td><td>18.422058962042005</td></tr><tr><td>13304</td><td>2899</td><td>18.46916752903299</td></tr><tr><td>13307</td><td>2319</td><td>25.442144602558592</td></tr><tr><td>13319</td><td>6976</td><td>19.42826118119266</td></tr><tr><td>13323</td><td>13660</td><td>15.740821132259615</td></tr><tr><td>13325</td><td>20409</td><td>15.393162330344458</td></tr><tr><td>13326</td><td>2466</td><td>16.87941335496079</td></tr><tr><td>13331</td><td>2183</td><td>24.74857993586807</td></tr><tr><td>13332</td><td>16004</td><td>12.280248687828042</td></tr><tr><td>13338</td><td>16418</td><td>22.073189994721258</td></tr><tr><td>13341</td><td>12889</td><td>15.687971655416767</td></tr><tr><td>13345</td><td>2063</td><td>22.563136209403797</td></tr><tr><td>13353</td><td>8743</td><td>14.104123298638912</td></tr><tr><td>13354</td><td>3016</td><td>14.685549292661353</td></tr><tr><td>13379</td><td>12479</td><td>18.122401634746385</td></tr><tr><td>13389</td><td>11619</td><td>20.047235849327272</td></tr><tr><td>13398</td><td>4538</td><td>31.0607646540326</td></tr><tr><td>13409</td><td>10376</td><td>15.998597725520405</td></tr><tr><td>13420</td><td>1224</td><td>47.13444989106753</td></tr><tr><td>13427</td><td>12385</td><td>24.488826537478143</td></tr><tr><td>13430</td><td>24316</td><td>19.918066979218075</td></tr><tr><td>13431</td><td>14613</td><td>41.16505850954626</td></tr><tr><td>13432</td><td>4272</td><td>15.227032615480645</td></tr><tr><td>13434</td><td>6368</td><td>18.58215295226131</td></tr><tr><td>15442</td><td>997</td><td>18.992577733199592</td></tr><tr><td>15443</td><td>1680</td><td>18.89736111111111</td></tr><tr><td>15445</td><td>2632</td><td>20.54796732522794</td></tr><tr><td>15446</td><td>1118</td><td>19.05471079308288</td></tr><tr><td>15449</td><td>266</td><td>27.04962406015038</td></tr><tr><td>15470</td><td>853</td><td>36.295545134818276</td></tr><tr><td>15491</td><td>2064</td><td>49.15302002583979</td></tr><tr><td>15529</td><td>17960</td><td>23.646011507052712</td></tr><tr><td>15530</td><td>19861</td><td>20.561401742107673</td></tr><tr><td>15534</td><td>12958</td><td>24.51072825024435</td></tr><tr><td>15535</td><td>12312</td><td>15.164775557721446</td></tr><tr><td>15539</td><td>11553</td><td>14.460992815718877</td></tr><tr><td>15541</td><td>12832</td><td>50.27021119077302</td></tr><tr><td>15542</td><td>1286</td><td>15.134849663037848</td></tr><tr><td>15544</td><td>26375</td><td>32.48869889415483</td></tr><tr><td>15545</td><td>13310</td><td>33.69464437766085</td></tr><tr><td>15546</td><td>3703</td><td>33.577999819965775</td></tr><tr><td>15550</td><td>6001</td><td>13.930617119368986</td></tr><tr><td>15571</td><td>7363</td><td>33.57878808456701</td></tr><tr><td>15575</td><td>6964</td><td>26.695225445146473</td></tr><tr><td>15578</td><td>6193</td><td>21.682706281285324</td></tr><tr><td>15585</td><td>1014</td><td>31.358004602235365</td></tr><tr><td>15597</td><td>61</td><td>115.3245901639344</td></tr><tr><td>15599</td><td>75</td><td>37.351777777777784</td></tr><tr><td>15615</td><td>1354</td><td>29.145876415558856</td></tr><tr><td>15621</td><td>1907</td><td>26.366037406047898</td></tr><tr><td>15622</td><td>2869</td><td>25.88900894620658</td></tr><tr><td>15623</td><td>2728</td><td>19.099572336265894</td></tr><tr><td>15624</td><td>1071</td><td>24.933146591970115</td></tr><tr><td>15628</td><td>2256</td><td>37.87678043735225</td></tr><tr><td>15631</td><td>2313</td><td>27.960779651246575</td></tr><tr><td>15632</td><td>2851</td><td>24.3345609727581</td></tr><tr><td>15634</td><td>2701</td><td>20.491114402073297</td></tr><tr><td>15640</td><td>1724</td><td>46.589191802010816</td></tr><tr><td>15642</td><td>3544</td><td>30.839964258841242</td></tr><tr><td>15643</td><td>1968</td><td>28.68987974254744</td></tr><tr><td>15644</td><td>1788</td><td>34.45231170768083</td></tr><tr><td>15645</td><td>2357</td><td>28.275441945976514</td></tr><tr><td>15646</td><td>4013</td><td>21.496133399784053</td></tr><tr><td>15648</td><td>3363</td><td>23.199881058578658</td></tr><tr><td>15650</td><td>3794</td><td>24.852798277982778</td></tr><tr><td>15651</td><td>5311</td><td>22.733640871147934</td></tr><tr><td>15652</td><td>1121</td><td>34.47077014570324</td></tr><tr><td>15653</td><td>2690</td><td>30.554275092936813</td></tr><tr><td>15654</td><td>1830</td><td>25.077559198542822</td></tr><tr><td>15655</td><td>4396</td><td>22.716776615104642</td></tr><tr><td>15664</td><td>2043</td><td>21.220060368738785</td></tr><tr><td>15666</td><td>741</td><td>28.111268556005395</td></tr><tr><td>15667</td><td>2202</td><td>40.73250075688766</td></tr><tr><td>15668</td><td>3016</td><td>21.170496242263486</td></tr><tr><td>15682</td><td>359</td><td>144.7952181987</td></tr><tr><td>15685</td><td>470</td><td>93.19865248226952</td></tr><tr><td>15686</td><td>309</td><td>44.60787486515642</td></tr><tr><td>15687</td><td>201</td><td>22.935323383084576</td></tr><tr><td>15689</td><td>713</td><td>37.50516596540439</td></tr><tr><td>15691</td><td>244</td><td>32.538592896174855</td></tr><tr><td>15692</td><td>278</td><td>18.93399280575539</td></tr><tr><td>16010</td><td>1053</td><td>44.68532763532763</td></tr><tr><td>16806</td><td>829</td><td>30.480398069963808</td></tr><tr><td>16903</td><td>130</td><td>569.7303846153845</td></tr><tr><td>16905</td><td>267</td><td>27.008988764044947</td></tr><tr><td>16906</td><td>597</td><td>65.72470686767169</td></tr><tr><td>16907</td><td>252</td><td>49.2425925925926</td></tr><tr><td>16912</td><td>72</td><td>34.961111111111116</td></tr><tr><td>16913</td><td>111</td><td>173.41066066066065</td></tr><tr><td>16915</td><td>164</td><td>46.11128048780487</td></tr><tr><td>16916</td><td>240</td><td>38.70402777777778</td></tr><tr><td>16918</td><td>267</td><td>45.65299625468163</td></tr><tr><td>16920</td><td>553</td><td>36.847076552139846</td></tr><tr><td>16921</td><td>271</td><td>54.903444034440355</td></tr><tr><td>16932</td><td>345</td><td>25.130772946859903</td></tr><tr><td>16933</td><td>291</td><td>18.75475372279496</td></tr><tr><td>16937</td><td>296</td><td>22.701689189189185</td></tr><tr><td>16940</td><td>112</td><td>40.588839285714286</td></tr><tr><td>16943</td><td>90</td><td>67.52222222222224</td></tr><tr><td>16948</td><td>139</td><td>238.75539568345323</td></tr><tr><td>16950</td><td>95</td><td>138.93070175438595</td></tr><tr><td>16953</td><td>104</td><td>113.93205128205126</td></tr><tr><td>16970</td><td>78</td><td>41.2042735042735</td></tr><tr><td>16991</td><td>760</td><td>39.5496052631579</td></tr><tr><td>16994</td><td>384</td><td>29.27478298611111</td></tr><tr><td>17660</td><td>5006</td><td>20.215827673458495</td></tr><tr><td>18003</td><td>9349</td><td>20.33537989802832</td></tr><tr><td>18016</td><td>1115</td><td>32.46128550074738</td></tr><tr><td>18017</td><td>3190</td><td>33.929367816091975</td></tr><tr><td>18022</td><td>527</td><td>38.33209993674889</td></tr><tr><td>18025</td><td>31</td><td>14.023118279569893</td></tr><tr><td>18058</td><td>4829</td><td>17.032632705183943</td></tr><tr><td>18062</td><td>10072</td><td>16.00911272173683</td></tr><tr><td>18067</td><td>7188</td><td>21.57147328881468</td></tr><tr><td>18069</td><td>1790</td><td>16.223975791433897</td></tr><tr><td>20.0</td><td>777</td><td>15.843007293007295</td></tr><tr><td>20101</td><td>94</td><td>64.07499999999999</td></tr><tr><td>20102</td><td>7</td><td>12.114285714285714</td></tr><tr><td>201022</td><td>88</td><td>24.907575757575753</td></tr><tr><td>20103</td><td>240</td><td>100.80881944444444</td></tr><tr><td>20104</td><td>319</td><td>33.61170323928944</td></tr><tr><td>20105</td><td>115</td><td>43.46608695652174</td></tr><tr><td>20106</td><td>457</td><td>40.08971553610504</td></tr><tr><td>20107</td><td>175</td><td>40.516380952380956</td></tr><tr><td>20108</td><td>188</td><td>56.20593971631205</td></tr><tr><td>20109</td><td>91</td><td>47.504761904761914</td></tr><tr><td>20110</td><td>160</td><td>376.75822916666675</td></tr><tr><td>20111</td><td>3</td><td>30.222222222222225</td></tr><tr><td>20112</td><td>99</td><td>133.8478114478114</td></tr><tr><td>20113</td><td>90</td><td>92.06777777777778</td></tr><tr><td>20114</td><td>8</td><td>110.20833333333334</td></tr><tr><td>20116</td><td>170</td><td>245.49637254901958</td></tr><tr><td>20118</td><td>127</td><td>19.69133858267716</td></tr><tr><td>20119</td><td>141</td><td>214.44314420803786</td></tr><tr><td>20120</td><td>109</td><td>37.54969418960245</td></tr><tr><td>20121</td><td>151</td><td>162.2695364238411</td></tr><tr><td>20123</td><td>139</td><td>39.561750599520394</td></tr><tr><td>20124</td><td>90</td><td>39.81944444444444</td></tr><tr><td>20125</td><td>85</td><td>62.4043137254902</td></tr><tr><td>20126</td><td>19</td><td>28.703508771929826</td></tr><tr><td>20127</td><td>90</td><td>41.08777777777778</td></tr><tr><td>20128</td><td>5</td><td>17.566666666666666</td></tr><tr><td>20129</td><td>56</td><td>52.69553571428572</td></tr><tr><td>20130</td><td>80</td><td>39.21458333333334</td></tr><tr><td>20131</td><td>151</td><td>33.94116997792494</td></tr><tr><td>20133</td><td>15</td><td>18.464444444444442</td></tr><tr><td>20134</td><td>24</td><td>17.786111111111115</td></tr><tr><td>20201</td><td>17</td><td>29.22254901960784</td></tr><tr><td>20202</td><td>45</td><td>31.88370370370371</td></tr><tr><td>20203</td><td>220</td><td>116.00492424242427</td></tr><tr><td>20204</td><td>82</td><td>316.164024390244</td></tr><tr><td>20205</td><td>155</td><td>195.44806451612902</td></tr><tr><td>20206</td><td>133</td><td>276.37318295739345</td></tr><tr><td>20207</td><td>147</td><td>42.956462585034004</td></tr><tr><td>20208</td><td>98</td><td>48.964285714285715</td></tr><tr><td>20209</td><td>1</td><td>0.13333333333333333</td></tr><tr><td>20210</td><td>182</td><td>37.52829670329671</td></tr><tr><td>20211</td><td>78</td><td>42.37542735042735</td></tr><tr><td>20212</td><td>58</td><td>63.32499999999999</td></tr><tr><td>20213</td><td>127</td><td>42.16128608923885</td></tr><tr><td>20214</td><td>86</td><td>50.48352713178295</td></tr><tr><td>20215</td><td>62</td><td>124.19489247311829</td></tr><tr><td>20217</td><td>40</td><td>22.975</td></tr><tr><td>20218</td><td>94</td><td>109.12234042553192</td></tr><tr><td>20220</td><td>9</td><td>18.88703703703704</td></tr><tr><td>20221</td><td>37</td><td>44.52747747747748</td></tr><tr><td>20222</td><td>213</td><td>78.86424100156493</td></tr><tr><td>20223</td><td>93</td><td>64.06003584229391</td></tr><tr><td>20224</td><td>370</td><td>87.34630630630632</td></tr><tr><td>20225</td><td>44</td><td>58.021969696969684</td></tr><tr><td>20226</td><td>102</td><td>39.46797385620914</td></tr><tr><td>20227</td><td>79</td><td>66.04430379746836</td></tr><tr><td>20228</td><td>81</td><td>34.1514403292181</td></tr><tr><td>20229</td><td>201</td><td>32.22661691542289</td></tr><tr><td>20230</td><td>149</td><td>215.1451901565995</td></tr><tr><td>20231</td><td>131</td><td>187.9756997455471</td></tr><tr><td>20232</td><td>276</td><td>48.842089371980684</td></tr><tr><td>20233</td><td>77</td><td>55.9991341991342</td></tr><tr><td>20234</td><td>96</td><td>44.62829861111112</td></tr><tr><td>20235</td><td>55</td><td>371.809696969697</td></tr><tr><td>20236</td><td>172</td><td>44.65552325581396</td></tr><tr><td>20237</td><td>71</td><td>149.66455399061033</td></tr><tr><td>20238</td><td>211</td><td>36.455055292259075</td></tr><tr><td>20239</td><td>144</td><td>45.243750000000006</td></tr><tr><td>20240</td><td>1</td><td>10.0</td></tr><tr><td>20242</td><td>138</td><td>190.1536231884058</td></tr><tr><td>20243</td><td>69</td><td>38.97439613526571</td></tr><tr><td>20244</td><td>108</td><td>96.42438271604941</td></tr><tr><td>20245</td><td>113</td><td>34.391002949852506</td></tr><tr><td>20246.0</td><td>1661</td><td>15.4978125627132</td></tr><tr><td>20247.0</td><td>173</td><td>12.158863198458576</td></tr><tr><td>20248.0</td><td>1</td><td>8.983333333333333</td></tr><tr><td>202480.0</td><td>615</td><td>12.066016260162593</td></tr><tr><td>20249.0</td><td>43</td><td>14.304263565891471</td></tr><tr><td>20251.0</td><td>243</td><td>11.816117969821672</td></tr><tr><td>20252.0</td><td>1187</td><td>16.652541420949163</td></tr><tr><td>20253.0</td><td>159</td><td>11.692767295597484</td></tr><tr><td>20254.0</td><td>639</td><td>10.815753781950972</td></tr><tr><td>20255.0</td><td>7</td><td>6.5738095238095235</td></tr><tr><td>20256.0</td><td>527</td><td>13.328083491461097</td></tr><tr><td>20257.0</td><td>367</td><td>12.635013623978201</td></tr><tr><td>20258.0</td><td>1</td><td>28.616666666666667</td></tr><tr><td>20260.0</td><td>19</td><td>18.04035087719298</td></tr><tr><td>21544</td><td>207</td><td>15.282850241545884</td></tr><tr><td>301</td><td>19</td><td>27.15701754385965</td></tr><tr><td>302</td><td>10</td><td>32.16833333333334</td></tr><tr><td>303</td><td>17</td><td>20.778431372549022</td></tr><tr><td>304</td><td>20</td><td>31.185000000000002</td></tr><tr><td>305</td><td>28</td><td>31.02916666666667</td></tr><tr><td>307</td><td>11</td><td>22.5</td></tr><tr><td>308</td><td>18</td><td>16.437037037037037</td></tr><tr><td>309</td><td>13</td><td>15.983333333333336</td></tr><tr><td>310</td><td>30</td><td>14.848888888888888</td></tr><tr><td>312</td><td>124</td><td>18.323118279569893</td></tr><tr><td>313</td><td>36</td><td>15.670370370370373</td></tr><tr><td>314</td><td>93</td><td>21.39175627240143</td></tr><tr><td>316</td><td>94</td><td>21.43244680851064</td></tr><tr><td>317</td><td>68</td><td>20.926470588235293</td></tr><tr><td>318</td><td>65</td><td>26.344615384615388</td></tr><tr><td>319</td><td>24</td><td>24.599305555555556</td></tr><tr><td>320</td><td>34</td><td>26.2</td></tr><tr><td>321</td><td>73</td><td>21.000456621004567</td></tr><tr><td>322</td><td>22</td><td>23.472727272727273</td></tr><tr><td>323</td><td>41</td><td>16.29471544715447</td></tr><tr><td>324</td><td>67</td><td>17.43855721393035</td></tr><tr><td>325</td><td>16</td><td>22.211458333333333</td></tr><tr><td>326</td><td>32</td><td>13.760416666666666</td></tr><tr><td>327</td><td>56</td><td>38.267857142857146</td></tr><tr><td>329.0</td><td>41</td><td>23.454471544715446</td></tr><tr><td>330.0</td><td>19</td><td>38.08596491228071</td></tr><tr><td>331</td><td>18807</td><td>13.929043264032888</td></tr><tr><td>331.0</td><td>31</td><td>7.853225806451612</td></tr><tr><td>332.0</td><td>14</td><td>12.485714285714286</td></tr><tr><td>334.0</td><td>56</td><td>25.473214285714285</td></tr><tr><td>335.0</td><td>29</td><td>20.33505747126437</td></tr><tr><td>337</td><td>10</td><td>31.804999999999996</td></tr><tr><td>338</td><td>6</td><td>36.62777777777778</td></tr><tr><td>339</td><td>15</td><td>15.694444444444441</td></tr><tr><td>340</td><td>5</td><td>18.976666666666667</td></tr><tr><td>341</td><td>16</td><td>24.10104166666667</td></tr><tr><td>342</td><td>1</td><td>2.2666666666666666</td></tr><tr><td>343</td><td>26</td><td>8.36025641025641</td></tr><tr><td>344</td><td>18</td><td>13.431481481481484</td></tr><tr><td>345</td><td>18</td><td>15.389814814814818</td></tr><tr><td>346</td><td>24</td><td>16.234027777777776</td></tr><tr><td>347</td><td>7</td><td>26.014285714285712</td></tr><tr><td>348</td><td>6</td><td>4.7972222222222225</td></tr><tr><td>349</td><td>13</td><td>32.19358974358974</td></tr><tr><td>350</td><td>7</td><td>18.783333333333335</td></tr><tr><td>351</td><td>93</td><td>18.4663082437276</td></tr><tr><td>352</td><td>35</td><td>28.10809523809524</td></tr><tr><td>353</td><td>47</td><td>24.886524822695034</td></tr><tr><td>354</td><td>6</td><td>38.233333333333334</td></tr><tr><td>355</td><td>49</td><td>22.420408163265304</td></tr><tr><td>356</td><td>45</td><td>23.328518518518518</td></tr><tr><td>357</td><td>60</td><td>23.702222222222222</td></tr><tr><td>358</td><td>84</td><td>18.800595238095244</td></tr><tr><td>359</td><td>75</td><td>17.731555555555556</td></tr><tr><td>360</td><td>99</td><td>23.93383838383839</td></tr><tr><td>361</td><td>24</td><td>17.179166666666664</td></tr><tr><td>362.0</td><td>16</td><td>24.207291666666666</td></tr><tr><td>363.0</td><td>14</td><td>17.585714285714282</td></tr><tr><td>364.0</td><td>24</td><td>22.98541666666667</td></tr><tr><td>365.0</td><td>10</td><td>13.74</td></tr><tr><td>366.0</td><td>48</td><td>20.528125000000003</td></tr><tr><td>368.0</td><td>35</td><td>22.96428571428571</td></tr><tr><td>369</td><td>6</td><td>46.56666666666667</td></tr><tr><td>370</td><td>14</td><td>44.64166666666666</td></tr><tr><td>371</td><td>16</td><td>28.007291666666667</td></tr><tr><td>373</td><td>2</td><td>16.291666666666668</td></tr><tr><td>374</td><td>5</td><td>10.693333333333333</td></tr><tr><td>375</td><td>14</td><td>15.63690476190476</td></tr><tr><td>376</td><td>5</td><td>24.153333333333332</td></tr><tr><td>377</td><td>13</td><td>33.28846153846154</td></tr><tr><td>378</td><td>57</td><td>34.63508771929824</td></tr><tr><td>379</td><td>27</td><td>17.492592592592594</td></tr><tr><td>380</td><td>2</td><td>48.71666666666667</td></tr><tr><td>381</td><td>7</td><td>22.890476190476193</td></tr><tr><td>382</td><td>31</td><td>7.80752688172043</td></tr><tr><td>383</td><td>7</td><td>43.966666666666676</td></tr><tr><td>384</td><td>33</td><td>15.16060606060606</td></tr><tr><td>385</td><td>12</td><td>15.090277777777777</td></tr><tr><td>386</td><td>22</td><td>24.861363636363638</td></tr><tr><td>387</td><td>16</td><td>11.077083333333333</td></tr><tr><td>388</td><td>11</td><td>67.93939393939394</td></tr><tr><td>389</td><td>12</td><td>20.03055555555556</td></tr><tr><td>390</td><td>2</td><td>1.0666666666666667</td></tr><tr><td>393</td><td>43</td><td>23.001937984496127</td></tr><tr><td>394</td><td>13</td><td>47.28974358974359</td></tr><tr><td>396</td><td>56</td><td>17.644345238095237</td></tr><tr><td>397</td><td>56</td><td>36.265773809523814</td></tr><tr><td>398</td><td>146</td><td>21.201712328767123</td></tr><tr><td>399</td><td>13</td><td>29.734615384615385</td></tr><tr><td>400</td><td>25</td><td>36.52066666666666</td></tr><tr><td>402</td><td>10</td><td>13.673333333333336</td></tr><tr><td>403</td><td>5</td><td>24.66</td></tr><tr><td>404</td><td>8</td><td>31.022916666666664</td></tr><tr><td>406</td><td>8</td><td>46.02291666666666</td></tr><tr><td>407</td><td>19</td><td>32.7219298245614</td></tr><tr><td>414</td><td>7</td><td>4.504761904761905</td></tr><tr><td>415</td><td>3</td><td>6.144444444444445</td></tr><tr><td>418</td><td>11</td><td>7.413636363636365</td></tr><tr><td>419</td><td>3</td><td>11.144444444444444</td></tr><tr><td>420</td><td>3</td><td>18.294444444444448</td></tr><tr><td>424</td><td>8</td><td>6.647916666666666</td></tr><tr><td>425</td><td>24</td><td>16.333333333333332</td></tr><tr><td>427</td><td>1</td><td>0.1</td></tr><tr><td>428</td><td>106</td><td>11.617610062893087</td></tr><tr><td>429</td><td>16</td><td>15.652083333333332</td></tr><tr><td>430</td><td>39</td><td>22.44188034188034</td></tr><tr><td>431</td><td>23</td><td>17.80289855072464</td></tr><tr><td>432</td><td>18</td><td>11.038888888888888</td></tr><tr><td>433</td><td>29</td><td>12.543678160919544</td></tr><tr><td>434</td><td>54</td><td>15.49598765432099</td></tr><tr><td>435</td><td>68</td><td>13.372549019607845</td></tr><tr><td>436</td><td>63</td><td>7.778835978835978</td></tr><tr><td>437</td><td>2</td><td>14.316666666666666</td></tr><tr><td>441</td><td>31</td><td>14.349462365591396</td></tr><tr><td>442</td><td>60</td><td>8.177777777777779</td></tr><tr><td>443</td><td>42</td><td>13.29246031746032</td></tr><tr><td>444</td><td>7</td><td>13.385714285714286</td></tr><tr><td>445</td><td>57</td><td>14.20847953216374</td></tr><tr><td>446</td><td>14</td><td>15.773809523809522</td></tr><tr><td>452</td><td>17</td><td>13.980392156862747</td></tr><tr><td>458</td><td>3</td><td>22.666666666666668</td></tr><tr><td>460</td><td>1</td><td>14.366666666666667</td></tr><tr><td>462</td><td>8</td><td>12.441666666666666</td></tr><tr><td>464</td><td>8</td><td>18.591666666666665</td></tr><tr><td>466</td><td>1</td><td>36.983333333333334</td></tr><tr><td>471</td><td>23</td><td>15.494927536231888</td></tr><tr><td>472</td><td>53</td><td>14.918867924528309</td></tr><tr><td>473</td><td>57</td><td>23.05409356725146</td></tr><tr><td>474</td><td>1</td><td>1.0833333333333333</td></tr><tr><td>475</td><td>15</td><td>38.84777777777777</td></tr><tr><td>514</td><td>604</td><td>15.566307947019869</td></tr><tr><td>515</td><td>1959</td><td>15.826773864216431</td></tr><tr><td>517</td><td>879</td><td>16.35669321198332</td></tr><tr><td>518</td><td>782</td><td>47.6186274509804</td></tr><tr><td>519</td><td>407</td><td>37.46990171990172</td></tr><tr><td>520</td><td>2915</td><td>23.130777587192686</td></tr><tr><td>523</td><td>2266</td><td>25.44655781112092</td></tr><tr><td>525</td><td>1935</td><td>35.79850990525409</td></tr><tr><td>527</td><td>758</td><td>23.362620932277913</td></tr><tr><td>528</td><td>244</td><td>40.61372950819672</td></tr><tr><td>530</td><td>113</td><td>43.96504424778762</td></tr><tr><td>534</td><td>114</td><td>110.04605263157893</td></tr><tr><td>535</td><td>153</td><td>166.59684095860567</td></tr><tr><td>536</td><td>72</td><td>36.18657407407407</td></tr><tr><td>537</td><td>81</td><td>53.93106995884774</td></tr><tr><td>540</td><td>151</td><td>102.11479028697573</td></tr><tr><td>543</td><td>65</td><td>26.35282051282051</td></tr><tr><td>545</td><td>134</td><td>44.79962686567165</td></tr><tr><td>546</td><td>475</td><td>65.98007017543857</td></tr><tr><td>549</td><td>357</td><td>20.81928104575163</td></tr><tr><td>553</td><td>83</td><td>24.36305220883534</td></tr><tr><td>554</td><td>93</td><td>28.39014336917562</td></tr><tr><td>556</td><td>68</td><td>47.840441176470584</td></tr><tr><td>557</td><td>78</td><td>27.85512820512821</td></tr><tr><td>559</td><td>129</td><td>28.893669250645992</td></tr><tr><td>560</td><td>66</td><td>29.229040404040404</td></tr><tr><td>561</td><td>165</td><td>47.67222222222222</td></tr><tr><td>562</td><td>52</td><td>175.1266025641026</td></tr><tr><td>564</td><td>38</td><td>105.49473684210525</td></tr><tr><td>567</td><td>115</td><td>36.311304347826095</td></tr><tr><td>569</td><td>57</td><td>24.73421052631579</td></tr><tr><td>570</td><td>130</td><td>69.82628205128204</td></tr><tr><td>571</td><td>141</td><td>29.404137115839237</td></tr><tr><td>572</td><td>41</td><td>502.0215447154472</td></tr><tr><td>573</td><td>191</td><td>28.280715532286212</td></tr><tr><td>574</td><td>135</td><td>67.43061728395061</td></tr><tr><td>575</td><td>141</td><td>24.633451536643022</td></tr><tr><td>576</td><td>154</td><td>275.54935064935074</td></tr><tr><td>577</td><td>138</td><td>84.64335748792271</td></tr><tr><td>579</td><td>307</td><td>74.3759500542888</td></tr><tr><td>580</td><td>193</td><td>46.52495682210708</td></tr><tr><td>582</td><td>82</td><td>52.39065040650406</td></tr><tr><td>583</td><td>172</td><td>259.76230620155036</td></tr><tr><td>584</td><td>173</td><td>39.861657032755296</td></tr><tr><td>585</td><td>201</td><td>153.27180762852402</td></tr><tr><td>586</td><td>78</td><td>56.809188034188026</td></tr><tr><td>587</td><td>56</td><td>367.3214285714285</td></tr><tr><td>588</td><td>99</td><td>41.34141414141414</td></tr><tr><td>590</td><td>359</td><td>42.85970287836582</td></tr><tr><td>592</td><td>518</td><td>39.26759974259974</td></tr><tr><td>593</td><td>50</td><td>26.321000000000005</td></tr><tr><td>594</td><td>311</td><td>60.301822079314036</td></tr><tr><td>595</td><td>227</td><td>54.79456681350954</td></tr><tr><td>596</td><td>6048</td><td>27.70342537477955</td></tr><tr><td>598</td><td>958</td><td>24.70847251217814</td></tr><tr><td>599</td><td>929</td><td>25.683369214208827</td></tr><tr><td>600</td><td>700</td><td>74.2904285714286</td></tr><tr><td>604</td><td>5384</td><td>21.977724120851924</td></tr><tr><td>605</td><td>2845</td><td>31.905711775043947</td></tr><tr><td>620</td><td>10614</td><td>12.890437158469952</td></tr><tr><td>623</td><td>17848</td><td>36.99170215150156</td></tr><tr><td>624</td><td>7263</td><td>25.305007113681214</td></tr><tr><td>631</td><td>1370</td><td>68.27462287104625</td></tr><tr><td>632</td><td>22082</td><td>17.223692751260426</td></tr><tr><td>636</td><td>9722</td><td>11.972174792566694</td></tr><tr><td>637</td><td>7008</td><td>17.090185026636238</td></tr><tr><td>638</td><td>12897</td><td>14.590018350520785</td></tr><tr><td>639</td><td>9235</td><td>32.25739577693558</td></tr><tr><td>642</td><td>138</td><td>39.03925120772948</td></tr><tr><td>643</td><td>2279</td><td>20.678360391984803</td></tr><tr><td>644</td><td>4705</td><td>22.660722635494153</td></tr><tr><td>646</td><td>151</td><td>37.054525386313465</td></tr><tr><td>647</td><td>45</td><td>27.865185185185187</td></tr><tr><td>649</td><td>131</td><td>107.66768447837148</td></tr><tr><td>650</td><td>96</td><td>120.74392361111113</td></tr><tr><td>651</td><td>90</td><td>65.83999999999999</td></tr><tr><td>652</td><td>86</td><td>41.340310077519376</td></tr><tr><td>653</td><td>467</td><td>45.766666666666666</td></tr><tr><td>654</td><td>5045</td><td>16.247809712586722</td></tr><tr><td>655</td><td>2107</td><td>20.389653535832934</td></tr><tr><td>657</td><td>5383</td><td>16.144222552480034</td></tr><tr><td>658</td><td>3999</td><td>20.383545886471612</td></tr><tr><td>660</td><td>4016</td><td>24.970825033200533</td></tr><tr><td>661</td><td>1354</td><td>29.712616937469246</td></tr><tr><td>662</td><td>578</td><td>39.89625144175318</td></tr><tr><td>665</td><td>33</td><td>22.80808080808081</td></tr><tr><td>DIVVY 001</td><td>83</td><td>1.875100401606425</td></tr><tr><td>DIVVY CASSETTE REPAIR MOBILE STATION</td><td>4</td><td>38.40416666666667</td></tr><tr><td>E002</td><td>3718</td><td>26.836457772996233</td></tr><tr><td>E006</td><td>1307</td><td>26.8687324662076</td></tr><tr><td>E007</td><td>1120</td><td>31.346904761904756</td></tr><tr><td>E008</td><td>4246</td><td>37.71019390799181</td></tr><tr><td>E011</td><td>424</td><td>33.21474056603773</td></tr><tr><td>E014</td><td>797</td><td>127.11093684650776</td></tr><tr><td>Hastings WH 2</td><td>1</td><td>0.65</td></tr><tr><td>Hubbard Bike-checking (LBS-WH-TEST)</td><td>468</td><td>3750.461146723647</td></tr><tr><td>KA1503000001</td><td>129</td><td>155.64224806201545</td></tr><tr><td>KA1503000002</td><td>1656</td><td>42.75344202898552</td></tr><tr><td>KA1503000003</td><td>118</td><td>50.469632768361585</td></tr><tr><td>KA1503000004</td><td>3339</td><td>76.30672356993105</td></tr><tr><td>KA1503000005</td><td>1446</td><td>57.69651913324115</td></tr><tr><td>KA1503000007</td><td>7138</td><td>29.292304100121388</td></tr><tr><td>KA1503000009</td><td>344</td><td>46.19646317829458</td></tr><tr><td>KA1503000010</td><td>112</td><td>30.020833333333332</td></tr><tr><td>KA1503000011</td><td>72</td><td>149.26319444444445</td></tr><tr><td>KA1503000012</td><td>15656</td><td>21.71991249361266</td></tr><tr><td>KA1503000013</td><td>258</td><td>23.61963824289406</td></tr><tr><td>KA1503000014</td><td>16738</td><td>12.292414466085164</td></tr><tr><td>KA1503000015</td><td>10550</td><td>28.07660347551344</td></tr><tr><td>KA1503000018</td><td>367</td><td>38.38978201634878</td></tr><tr><td>KA1503000019</td><td>335</td><td>32.70402985074626</td></tr><tr><td>KA1503000020</td><td>469</td><td>39.005223880597015</td></tr><tr><td>KA1503000021</td><td>497</td><td>52.190509725016774</td></tr><tr><td>KA1503000022</td><td>5503</td><td>17.799158035011203</td></tr><tr><td>KA1503000023</td><td>354</td><td>83.88474576271186</td></tr><tr><td>KA1503000024</td><td>188</td><td>77.78776595744681</td></tr><tr><td>KA1503000025</td><td>161</td><td>21.845134575569357</td></tr><tr><td>KA1503000027</td><td>915</td><td>31.19888888888889</td></tr><tr><td>KA1503000028</td><td>191</td><td>136.84354275741708</td></tr><tr><td>KA1503000029</td><td>1227</td><td>81.3127003531649</td></tr><tr><td>KA1503000030</td><td>555</td><td>80.66426426426428</td></tr><tr><td>KA1503000031</td><td>280</td><td>31.745238095238093</td></tr><tr><td>KA1503000032</td><td>551</td><td>78.62961282516639</td></tr><tr><td>KA1503000033</td><td>509</td><td>39.30343811394891</td></tr><tr><td>KA1503000034</td><td>5466</td><td>20.125045737285042</td></tr><tr><td>KA1503000038</td><td>2987</td><td>14.873964959267946</td></tr><tr><td>KA1503000040</td><td>1260</td><td>21.385634920634924</td></tr><tr><td>KA1503000041</td><td>19927</td><td>21.72968585336481</td></tr><tr><td>KA1503000043</td><td>31960</td><td>11.078573216520674</td></tr><tr><td>KA1503000044</td><td>9509</td><td>21.87354085603112</td></tr><tr><td>KA1503000045</td><td>416</td><td>51.6207532051282</td></tr><tr><td>KA1503000046</td><td>882</td><td>29.24693877551022</td></tr><tr><td>KA1503000047</td><td>160</td><td>28.8003125</td></tr><tr><td>KA1503000049</td><td>258</td><td>45.760465116279065</td></tr><tr><td>KA1503000051</td><td>621</td><td>18.283387010198606</td></tr><tr><td>KA1503000052</td><td>5600</td><td>15.076488095238087</td></tr><tr><td>KA1503000053</td><td>388</td><td>137.53290378006875</td></tr><tr><td>KA1503000054</td><td>790</td><td>34.28609704641351</td></tr><tr><td>KA1503000055</td><td>152</td><td>257.89846491228076</td></tr><tr><td>KA1503000059</td><td>6498</td><td>27.027505899251043</td></tr><tr><td>KA1503000064</td><td>19411</td><td>32.867715041299576</td></tr><tr><td>KA1503000065</td><td>1595</td><td>45.59260188087776</td></tr><tr><td>KA1503000066</td><td>723</td><td>31.680544029506684</td></tr><tr><td>KA1503000068</td><td>704</td><td>44.705374053030305</td></tr><tr><td>KA1503000069</td><td>1141</td><td>26.232047911189017</td></tr><tr><td>KA1503000070</td><td>3667</td><td>19.75390419052812</td></tr><tr><td>KA1503000071</td><td>15903</td><td>13.049562975539208</td></tr><tr><td>KA1503000072</td><td>8231</td><td>15.403355201879064</td></tr><tr><td>KA1503000073</td><td>306</td><td>109.33398692810457</td></tr><tr><td>KA1503000074</td><td>5133</td><td>45.624978894733424</td></tr><tr><td>KA1503000075</td><td>750</td><td>22.927355555555554</td></tr><tr><td>KA1504000076</td><td>12240</td><td>11.711123366013082</td></tr><tr><td>KA1504000078</td><td>2385</td><td>22.93519916142557</td></tr><tr><td>KA1504000079</td><td>11828</td><td>13.230546161650318</td></tr><tr><td>KA1504000080</td><td>2742</td><td>26.98395939703379</td></tr><tr><td>KA1504000082</td><td>173</td><td>35.63073217726397</td></tr><tr><td>KA1504000086</td><td>164</td><td>67.08465447154471</td></tr><tr><td>KA1504000090</td><td>2975</td><td>25.19291316526611</td></tr><tr><td>KA1504000091</td><td>264</td><td>31.801957070707072</td></tr><tr><td>KA1504000093</td><td>2687</td><td>19.297183972211887</td></tr><tr><td>KA1504000096</td><td>1083</td><td>26.345737149892273</td></tr><tr><td>KA1504000097</td><td>1227</td><td>28.64380603096984</td></tr><tr><td>KA150400009X</td><td>1800</td><td>22.346249999999987</td></tr><tr><td>KA1504000101</td><td>1380</td><td>25.249541062801914</td></tr><tr><td>KA1504000102</td><td>581</td><td>82.69698795180723</td></tr><tr><td>KA1504000103</td><td>6686</td><td>22.243812942466832</td></tr><tr><td>KA1504000104</td><td>9770</td><td>14.366180484476292</td></tr><tr><td>KA1504000106</td><td>659</td><td>60.17610015174508</td></tr><tr><td>KA1504000109</td><td>1097</td><td>37.60674567000915</td></tr><tr><td>KA1504000110</td><td>360</td><td>34.650231481481484</td></tr><tr><td>KA1504000113</td><td>366</td><td>88.31607468123862</td></tr><tr><td>KA1504000114</td><td>790</td><td>27.704177215189876</td></tr><tr><td>KA1504000116</td><td>7295</td><td>15.530737948366461</td></tr><tr><td>KA1504000117</td><td>2141</td><td>17.86732056671338</td></tr><tr><td>KA1504000126</td><td>1164</td><td>25.64470217640321</td></tr><tr><td>KA1504000127</td><td>1649</td><td>21.244521932484343</td></tr><tr><td>KA1504000128</td><td>1111</td><td>35.06914191419142</td></tr><tr><td>KA1504000129</td><td>1325</td><td>25.812691823899364</td></tr><tr><td>KA1504000130</td><td>692</td><td>30.61794315992293</td></tr><tr><td>KA1504000133</td><td>20225</td><td>20.064369180057696</td></tr><tr><td>KA1504000134</td><td>13632</td><td>19.34333431142409</td></tr><tr><td>KA1504000135</td><td>35843</td><td>14.370463781863512</td></tr><tr><td>KA1504000139</td><td>1265</td><td>37.721133069828745</td></tr><tr><td>KA1504000140</td><td>3617</td><td>19.673039351211866</td></tr><tr><td>KA1504000141</td><td>458</td><td>28.65105531295487</td></tr><tr><td>KA1504000142</td><td>765</td><td>21.85971677559913</td></tr><tr><td>KA1504000143</td><td>2539</td><td>19.966069318629383</td></tr><tr><td>KA1504000146</td><td>10312</td><td>20.305926752004137</td></tr><tr><td>KA1504000147</td><td>1804</td><td>19.817729120473018</td></tr><tr><td>KA1504000148</td><td>3111</td><td>20.831576127718844</td></tr><tr><td>KA1504000149</td><td>3845</td><td>22.541564802774158</td></tr><tr><td>KA1504000151</td><td>7274</td><td>19.314093575291</td></tr><tr><td>KA1504000152</td><td>16114</td><td>32.67825183070625</td></tr><tr><td>KA1504000155</td><td>978</td><td>22.724829584185418</td></tr><tr><td>KA1504000156</td><td>2610</td><td>19.44141762452107</td></tr><tr><td>KA1504000158</td><td>2485</td><td>18.55531187122737</td></tr><tr><td>KA1504000159</td><td>2165</td><td>34.97297151655118</td></tr><tr><td>KA1504000160</td><td>2008</td><td>31.85145252324038</td></tr><tr><td>KA1504000161</td><td>710</td><td>54.650046948356795</td></tr><tr><td>KA1504000162</td><td>2393</td><td>15.875372614570285</td></tr><tr><td>KA1504000164</td><td>801</td><td>31.68841032043279</td></tr><tr><td>KA1504000167</td><td>950</td><td>27.68161403508772</td></tr><tr><td>KA1504000168</td><td>96</td><td>23.17934027777778</td></tr><tr><td>KA1504000171</td><td>8231</td><td>27.941199935204263</td></tr><tr><td>KA1504000175</td><td>4118</td><td>25.377221952404085</td></tr><tr><td>KA17018054</td><td>2846</td><td>16.356248535956897</td></tr><tr><td>KA17018068</td><td>3918</td><td>19.928632805853333</td></tr><tr><td>KA1706005007</td><td>6533</td><td>22.499650492372055</td></tr><tr><td>KA1706005015</td><td>642</td><td>24.266562824506742</td></tr><tr><td>KP1705001026</td><td>14082</td><td>17.41577664157551</td></tr><tr><td>LF-005</td><td>52641</td><td>28.277717305269068</td></tr><tr><td>LP-</td><td>14514</td><td>29.779370492857485</td></tr><tr><td>Lincoln Ave & Roscoe St - Charging</td><td>3</td><td>0.5222222222222223</td></tr><tr><td>Pawel Bialowas - Test- PBSC charging station</td><td>1</td><td>2.5833333333333335</td></tr><tr><td>RN-</td><td>16523</td><td>14.943141883031718</td></tr><tr><td>RP-001</td><td>1212</td><td>30.15064631463146</td></tr><tr><td>RP-002</td><td>963</td><td>65.14972308757355</td></tr><tr><td>RP-004</td><td>611</td><td>21.609001636661205</td></tr><tr><td>RP-005</td><td>1513</td><td>25.602445472571052</td></tr><tr><td>RP-006</td><td>704</td><td>20.093181818181815</td></tr><tr><td>RP-007</td><td>740</td><td>34.43009009009008</td></tr><tr><td>RP-008</td><td>2089</td><td>18.64436732088718</td></tr><tr><td>RP-009</td><td>4636</td><td>29.90131938452687</td></tr><tr><td>SL-005</td><td>28236</td><td>28.38731406714837</td></tr><tr><td>SL-006</td><td>2763</td><td>26.173531185909034</td></tr><tr><td>SL-007</td><td>8801</td><td>29.75045070635912</td></tr><tr><td>SL-008</td><td>18737</td><td>17.890833644660308</td></tr><tr><td>SL-009</td><td>6208</td><td>17.97680412371133</td></tr><tr><td>SL-010</td><td>6938</td><td>18.186165561641207</td></tr><tr><td>SL-011</td><td>12156</td><td>23.08369255237471</td></tr><tr><td>SL-012</td><td>9072</td><td>19.746364271017047</td></tr><tr><td>SL-013</td><td>3140</td><td>27.96990976645435</td></tr><tr><td>TA1305000001</td><td>3830</td><td>25.906066144473456</td></tr><tr><td>TA1305000002</td><td>22724</td><td>23.174946458956754</td></tr><tr><td>TA1305000003</td><td>25155</td><td>26.20760882528322</td></tr><tr><td>TA1305000004</td><td>4086</td><td>30.93495676293033</td></tr><tr><td>TA1305000005</td><td>8740</td><td>18.21066742944318</td></tr><tr><td>TA1305000006</td><td>17166</td><td>17.85377296205681</td></tr><tr><td>TA1305000009</td><td>5359</td><td>53.63463021708036</td></tr><tr><td>TA1305000010</td><td>7790</td><td>33.63386606760804</td></tr><tr><td>TA1305000011</td><td>24818</td><td>29.956289118113272</td></tr><tr><td>TA1305000014</td><td>24128</td><td>17.68235659814324</td></tr><tr><td>TA1305000017</td><td>4485</td><td>13.96964325529543</td></tr><tr><td>TA1305000020</td><td>11056</td><td>15.255741980221893</td></tr><tr><td>TA1305000022</td><td>16997</td><td>13.122432390029617</td></tr><tr><td>TA1305000025</td><td>16198</td><td>18.104964604683694</td></tr><tr><td>TA1305000029</td><td>19436</td><td>25.78096659120533</td></tr><tr><td>TA1305000030</td><td>15257</td><td>18.73356710580936</td></tr><tr><td>TA1305000032</td><td>24003</td><td>15.491708675304523</td></tr><tr><td>TA1305000034</td><td>11161</td><td>16.017556670549247</td></tr><tr><td>TA1305000035</td><td>8181</td><td>27.92930570834863</td></tr><tr><td>TA1305000037</td><td>9549</td><td>18.329858274862985</td></tr><tr><td>TA1305000039</td><td>8209</td><td>16.09970763795836</td></tr><tr><td>TA1305000041</td><td>20930</td><td>18.81027950310562</td></tr><tr><td>TA1306000002</td><td>4842</td><td>18.77112419110561</td></tr><tr><td>TA1306000003</td><td>22891</td><td>12.904120251044779</td></tr><tr><td>TA1306000006</td><td>4963</td><td>13.765659211498441</td></tr><tr><td>TA1306000007</td><td>5763</td><td>15.113314824454859</td></tr><tr><td>TA1306000008</td><td>7663</td><td>18.0371895254252</td></tr><tr><td>TA1306000009</td><td>15119</td><td>13.724528738673182</td></tr><tr><td>TA1306000010</td><td>18138</td><td>17.889418164442976</td></tr><tr><td>TA1306000011</td><td>8079</td><td>14.873105169781725</td></tr><tr><td>TA1306000012</td><td>29038</td><td>13.396052873246552</td></tr><tr><td>TA1306000013</td><td>26400</td><td>24.125864267676793</td></tr><tr><td>TA1306000014</td><td>18222</td><td>13.814237368748365</td></tr><tr><td>TA1306000015</td><td>20291</td><td>16.377609120628165</td></tr><tr><td>TA1306000016</td><td>17649</td><td>12.185358943849486</td></tr><tr><td>TA1306000025</td><td>4715</td><td>13.407341816896427</td></tr><tr><td>TA1306000026</td><td>14746</td><td>13.320629323206296</td></tr><tr><td>TA1306000029</td><td>20697</td><td>30.073645939025013</td></tr><tr><td>TA1306000032</td><td>13545</td><td>14.111378122308366</td></tr><tr><td>TA1307000001</td><td>13566</td><td>16.114785738856945</td></tr><tr><td>TA1307000005</td><td>2948</td><td>21.224276345544986</td></tr><tr><td>TA1307000006</td><td>12725</td><td>14.8654158480681</td></tr><tr><td>TA1307000038</td><td>16695</td><td>15.125431765997837</td></tr><tr><td>TA1307000039</td><td>38767</td><td>16.638906802177146</td></tr><tr><td>TA1307000041</td><td>21936</td><td>24.432321298322446</td></tr><tr><td>TA1307000044</td><td>3101</td><td>20.96295818553155</td></tr><tr><td>TA1307000048</td><td>10463</td><td>40.691555959093925</td></tr><tr><td>TA1307000052</td><td>17834</td><td>15.102237299540223</td></tr><tr><td>TA1307000061</td><td>10842</td><td>24.782610834409383</td></tr><tr><td>TA1307000062</td><td>12437</td><td>12.18262442711264</td></tr><tr><td>TA1307000064</td><td>15830</td><td>14.493064855759098</td></tr><tr><td>TA1307000066</td><td>634</td><td>25.980389064143004</td></tr><tr><td>TA1307000070</td><td>7125</td><td>16.108640935672508</td></tr><tr><td>TA1307000107</td><td>15095</td><td>17.28351330462624</td></tr><tr><td>TA1307000111</td><td>14872</td><td>16.362641204948897</td></tr><tr><td>TA1307000113</td><td>12744</td><td>14.344042948315535</td></tr><tr><td>TA1307000115</td><td>6867</td><td>14.89441774671133</td></tr><tr><td>TA1307000117</td><td>31900</td><td>28.311660919540213</td></tr><tr><td>TA1307000119</td><td>6766</td><td>24.185345846881486</td></tr><tr><td>TA1307000120</td><td>26629</td><td>14.873088237134949</td></tr><tr><td>TA1307000121</td><td>9929</td><td>10.494692315439625</td></tr><tr><td>TA1307000124</td><td>13730</td><td>20.555558387958246</td></tr><tr><td>TA1307000126</td><td>23106</td><td>21.557293199457575</td></tr><tr><td>TA1307000127</td><td>16283</td><td>16.744625273802953</td></tr><tr><td>TA1307000128</td><td>23425</td><td>17.263405905371748</td></tr><tr><td>TA1307000129</td><td>4172</td><td>17.01077021412592</td></tr><tr><td>TA1307000130</td><td>10396</td><td>11.134891624983972</td></tr><tr><td>TA1307000131</td><td>15948</td><td>32.770523994649245</td></tr><tr><td>TA1307000134</td><td>26135</td><td>16.31962374848543</td></tr><tr><td>TA1307000136</td><td>19126</td><td>16.04545993237829</td></tr><tr><td>TA1307000138</td><td>11830</td><td>16.654856297548612</td></tr><tr><td>TA1307000139</td><td>7218</td><td>17.89829823589175</td></tr><tr><td>TA1307000140</td><td>6162</td><td>18.384277290922853</td></tr><tr><td>TA1307000142</td><td>23110</td><td>17.319855762296257</td></tr><tr><td>TA1307000143</td><td>5400</td><td>20.742435185185204</td></tr><tr><td>TA1307000144</td><td>4682</td><td>17.712177844226126</td></tr><tr><td>TA1307000149</td><td>5571</td><td>16.308586130557064</td></tr><tr><td>TA1307000150</td><td>19609</td><td>23.122005201693078</td></tr><tr><td>TA1307000151</td><td>23686</td><td>14.823216949534167</td></tr><tr><td>TA1307000153</td><td>2524</td><td>18.68318806127838</td></tr><tr><td>TA1307000156</td><td>5305</td><td>17.852639019792647</td></tr><tr><td>TA1307000158</td><td>5258</td><td>16.857997337390653</td></tr><tr><td>TA1307000159</td><td>4205</td><td>27.894986127625835</td></tr><tr><td>TA1307000160</td><td>914</td><td>38.148760029175776</td></tr><tr><td>TA1307000161</td><td>661</td><td>18.893393847705497</td></tr><tr><td>TA1307000163</td><td>11568</td><td>15.890975103734453</td></tr><tr><td>TA1307000164</td><td>6468</td><td>19.635482374768106</td></tr><tr><td>TA1307000166</td><td>11586</td><td>16.563008516025096</td></tr><tr><td>TA1308000001</td><td>36192</td><td>32.177349506336625</td></tr><tr><td>TA1308000002</td><td>1832</td><td>26.04610625909752</td></tr><tr><td>TA1308000005</td><td>6566</td><td>18.792260635597522</td></tr><tr><td>TA1308000006</td><td>5381</td><td>22.18098866381715</td></tr><tr><td>TA1308000007</td><td>819</td><td>45.61648351648351</td></tr><tr><td>TA1308000009</td><td>12352</td><td>34.53979922279793</td></tr><tr><td>TA1308000012</td><td>18896</td><td>33.43855489697992</td></tr><tr><td>TA1308000013</td><td>1682</td><td>26.203131193024177</td></tr><tr><td>TA1308000014</td><td>1060</td><td>23.540566037735847</td></tr><tr><td>TA1308000019</td><td>14302</td><td>15.832618981028318</td></tr><tr><td>TA1308000021</td><td>6173</td><td>18.049605810248952</td></tr><tr><td>TA1308000022</td><td>13821</td><td>22.568172828787112</td></tr><tr><td>TA1308000023</td><td>720</td><td>27.45263888888889</td></tr><tr><td>TA1308000026</td><td>2186</td><td>29.147941445562665</td></tr><tr><td>TA1308000029</td><td>11893</td><td>26.091413716752157</td></tr><tr><td>TA1308000031</td><td>6107</td><td>23.1769035532995</td></tr><tr><td>TA1308000035</td><td>2549</td><td>36.89548842683408</td></tr><tr><td>TA1308000036</td><td>3745</td><td>17.853453493546958</td></tr><tr><td>TA1308000038</td><td>1734</td><td>47.32881584006151</td></tr><tr><td>TA1308000043</td><td>1864</td><td>22.94492131616596</td></tr><tr><td>TA1308000045</td><td>2475</td><td>15.313252525252526</td></tr><tr><td>TA1308000046</td><td>3319</td><td>20.97200964145827</td></tr><tr><td>TA1308000047</td><td>3230</td><td>15.949437564499497</td></tr><tr><td>TA1308000049</td><td>25602</td><td>15.598363409108652</td></tr><tr><td>TA1308000050</td><td>41947</td><td>15.446017593630007</td></tr><tr><td>TA1309000001</td><td>7969</td><td>16.099198979378407</td></tr><tr><td>TA1309000002</td><td>11190</td><td>33.09018170985999</td></tr><tr><td>TA1309000003</td><td>888</td><td>33.283765015015014</td></tr><tr><td>TA1309000004</td><td>11431</td><td>13.479962382993612</td></tr><tr><td>TA1309000006</td><td>10667</td><td>15.30479985000469</td></tr><tr><td>TA1309000007</td><td>12409</td><td>17.91216724420452</td></tr><tr><td>TA1309000008</td><td>9586</td><td>20.738596216704913</td></tr><tr><td>TA1309000010</td><td>17056</td><td>24.960416666666674</td></tr><tr><td>TA1309000011</td><td>7168</td><td>12.45574079241071</td></tr><tr><td>TA1309000012</td><td>2985</td><td>18.079558905639313</td></tr><tr><td>TA1309000014</td><td>8840</td><td>18.824187405731504</td></tr><tr><td>TA1309000015</td><td>2620</td><td>18.454681933842256</td></tr><tr><td>TA1309000018</td><td>3670</td><td>17.38689827429609</td></tr><tr><td>TA1309000019</td><td>24079</td><td>20.92850616719963</td></tr><tr><td>TA1309000021</td><td>3113</td><td>18.985437412999243</td></tr><tr><td>TA1309000023</td><td>15823</td><td>13.954823147738528</td></tr><tr><td>TA1309000024</td><td>21284</td><td>18.88501613105306</td></tr><tr><td>TA1309000025</td><td>21813</td><td>16.81199514051255</td></tr><tr><td>TA1309000026</td><td>5925</td><td>19.375369901547103</td></tr><tr><td>TA1309000027</td><td>8335</td><td>18.535516896620653</td></tr><tr><td>TA1309000029</td><td>5471</td><td>18.245765551696834</td></tr><tr><td>TA1309000030</td><td>10456</td><td>18.087879367508286</td></tr><tr><td>TA1309000032</td><td>3157</td><td>17.500496251715774</td></tr><tr><td>TA1309000033</td><td>17214</td><td>14.570435885519508</td></tr><tr><td>TA1309000035</td><td>11958</td><td>21.94300189552323</td></tr><tr><td>TA1309000036</td><td>14732</td><td>16.68379038827044</td></tr><tr><td>TA1309000037</td><td>11654</td><td>18.744844402494117</td></tr><tr><td>TA1309000039</td><td>21841</td><td>23.9023457411901</td></tr><tr><td>TA1309000041</td><td>6068</td><td>21.888996923753016</td></tr><tr><td>TA1309000042</td><td>11311</td><td>14.215206436212542</td></tr><tr><td>TA1309000043</td><td>7150</td><td>16.457480186480183</td></tr><tr><td>TA1309000049</td><td>21776</td><td>26.416012276512333</td></tr><tr><td>TA1309000050</td><td>3264</td><td>18.122079248366006</td></tr><tr><td>TA1309000051</td><td>114</td><td>49.981871345029234</td></tr><tr><td>TA1309000053</td><td>1110</td><td>27.640045045045042</td></tr><tr><td>TA1309000055</td><td>5494</td><td>14.494290741414872</td></tr><tr><td>TA1309000058</td><td>23463</td><td>14.794309480174462</td></tr><tr><td>TA1309000059</td><td>8627</td><td>14.584024960395675</td></tr><tr><td>TA1309000061</td><td>18745</td><td>15.841985418333774</td></tr><tr><td>TA1309000063</td><td>6064</td><td>20.339127088830246</td></tr><tr><td>TA1309000064</td><td>9482</td><td>14.029323982282227</td></tr><tr><td>TA1309000066</td><td>11681</td><td>13.913062523185799</td></tr><tr><td>TA1309000067</td><td>1049</td><td>26.851970130282815</td></tr><tr><td>Throop/Hastings Mobile Station</td><td>1</td><td>0.05</td></tr><tr><td>WL-008</td><td>8214</td><td>15.563355247139029</td></tr><tr><td>WL-011</td><td>8126</td><td>15.22503896956272</td></tr><tr><td>WL-012</td><td>19968</td><td>13.26976746127138</td></tr></tbody></table></div>"
      ]
     },
     "metadata": {
      "application/vnd.databricks.v1+output": {
       "addedWidgets": {},
       "aggData": [],
       "aggError": "",
       "aggOverflow": false,
       "aggSchema": [],
       "aggSeriesLimitReached": false,
       "aggType": "",
       "arguments": {},
       "columnCustomDisplayInfos": {},
       "data": [
        [
         "13001",
         24160,
         27.92953228476822
        ],
        [
         "13006",
         9812,
         17.163595597227893
        ],
        [
         "13008",
         41766,
         37.46783867260459
        ],
        [
         "13011",
         16043,
         15.40573978266742
        ],
        [
         "13016",
         29630,
         21.88758521768478
        ],
        [
         "13017",
         13740,
         13.590043668122277
        ],
        [
         "13021",
         17173,
         13.212423571886104
        ],
        [
         "13022",
         81840,
         38.4206698028674
        ],
        [
         "13028",
         8233,
         13.49276084051987
        ],
        [
         "13029",
         6896,
         35.002992072699165
        ],
        [
         "13033",
         18293,
         13.948847464421736
        ],
        [
         "13034",
         13203,
         28.814385619429938
        ],
        [
         "13036",
         11970,
         24.893978000556935
        ],
        [
         "13037",
         3099,
         28.435656663439822
        ],
        [
         "13042",
         43435,
         34.632170292774546
        ],
        [
         "13045",
         30748,
         18.129407874766923
        ],
        [
         "13050",
         20824,
         22.2233584645921
        ],
        [
         "13053",
         20795,
         16.430036867836822
        ],
        [
         "13056",
         8094,
         14.340649452269169
        ],
        [
         "13058",
         11678,
         14.843848832562658
        ],
        [
         "13059",
         19983,
         14.710734124005423
        ],
        [
         "13061",
         23662,
         16.27453018905136
        ],
        [
         "13063",
         14189,
         15.786113656118602
        ],
        [
         "13068",
         8974,
         22.82950746601292
        ],
        [
         "13071",
         19811,
         16.31653374387967
        ],
        [
         "13073",
         4941,
         18.127312284962574
        ],
        [
         "13074",
         9308,
         19.251717160865212
        ],
        [
         "13075",
         9396,
         29.801411948346825
        ],
        [
         "13080",
         1175,
         13.488539007092195
        ],
        [
         "13081",
         2320,
         21.576479885057473
        ],
        [
         "13083",
         460,
         46.81507246376811
        ],
        [
         "13084",
         10286,
         23.968006675740487
        ],
        [
         "13085",
         10963,
         26.00332177931834
        ],
        [
         "13089",
         2801,
         23.676817803165534
        ],
        [
         "13091",
         1778,
         22.093382077240335
        ],
        [
         "13096",
         1369,
         26.135731677623568
        ],
        [
         "13099",
         3259,
         19.96821110770173
        ],
        [
         "13102",
         9552,
         24.549227037967594
        ],
        [
         "13108",
         8657,
         21.874325208886837
        ],
        [
         "13109",
         8188,
         19.919701595831306
        ],
        [
         "13124",
         7657,
         37.747353184449956
        ],
        [
         "13128",
         13498,
         22.4908122190942
        ],
        [
         "13132",
         11902,
         15.145871842267393
        ],
        [
         "13133",
         12489,
         18.569491819467792
        ],
        [
         "13134",
         3400,
         23.14335294117646
        ],
        [
         "13135",
         5632,
         20.14956202651514
        ],
        [
         "13136",
         10810,
         15.540781683626262
        ],
        [
         "13137",
         29537,
         17.415673561973122
        ],
        [
         "13138",
         6241,
         14.54764460823586
        ],
        [
         "13139",
         7050,
         13.894550827423181
        ],
        [
         "13143",
         3657,
         19.967072281469342
        ],
        [
         "13144",
         5647,
         18.14472581311611
        ],
        [
         "13146",
         30949,
         20.441302896162505
        ],
        [
         "13150",
         9620,
         22.98591822591825
        ],
        [
         "13154",
         13977,
         13.09305525744677
        ],
        [
         "13155",
         5182,
         15.4694841116686
        ],
        [
         "13156",
         10738,
         14.971383559942899
        ],
        [
         "13157",
         11354,
         13.514668839175627
        ],
        [
         "13158",
         15181,
         14.837879586325014
        ],
        [
         "13160",
         9409,
         14.666445247458109
        ],
        [
         "13162",
         1985,
         19.459471032745604
        ],
        [
         "13163",
         4758,
         20.306599411517453
        ],
        [
         "13164",
         6922,
         19.353580371761538
        ],
        [
         "13165",
         1198,
         21.784195882025603
        ],
        [
         "13179",
         31875,
         19.642362875817
        ],
        [
         "13191",
         15270,
         16.05445426762718
        ],
        [
         "13192",
         17480,
         15.847884248665144
        ],
        [
         "13193",
         26885,
         15.50985245800014
        ],
        [
         "13194",
         10704,
         17.571113602391613
        ],
        [
         "13196",
         9681,
         14.46545122749026
        ],
        [
         "13197",
         5738,
         17.388337980713374
        ],
        [
         "13206",
         6613,
         16.497709057916232
        ],
        [
         "13213",
         858,
         42.61705516705517
        ],
        [
         "13215",
         3963,
         27.188350576162843
        ],
        [
         "13216",
         9774,
         10.991562649205374
        ],
        [
         "13217",
         5069,
         22.904014598540147
        ],
        [
         "13221",
         15819,
         20.585393092694424
        ],
        [
         "13224",
         10570,
         17.014222642699462
        ],
        [
         "13229",
         10275,
         15.565993511759938
        ],
        [
         "13235",
         18252,
         15.688722697056004
        ],
        [
         "13241",
         4871,
         20.31669403955383
        ],
        [
         "13242",
         4548,
         20.707552770448554
        ],
        [
         "13243",
         12756,
         18.462613671997502
        ],
        [
         "13245",
         2576,
         26.649864130434796
        ],
        [
         "13247",
         9206,
         14.439456151785057
        ],
        [
         "13248",
         7473,
         15.57660020518308
        ],
        [
         "13249",
         3029,
         18.532100803345436
        ],
        [
         "13253",
         5136,
         18.243769470405
        ],
        [
         "13256",
         3993,
         27.16728024042073
        ],
        [
         "13257",
         5769,
         18.59382330848788
        ],
        [
         "13258",
         4325,
         27.53042389210018
        ],
        [
         "13259",
         4100,
         19.30231707317073
        ],
        [
         "13263",
         19378,
         25.69132521416039
        ],
        [
         "13265",
         18783,
         12.688502901559916
        ],
        [
         "13266",
         4515,
         21.15682539682541
        ],
        [
         "13268",
         4896,
         18.24705201525055
        ],
        [
         "13269",
         6033,
         19.56843748273384
        ],
        [
         "13271",
         5172,
         18.02381090487237
        ],
        [
         "13276",
         17776,
         20.988531353135343
        ],
        [
         "13277",
         16810,
         20.35535197303195
        ],
        [
         "13278",
         20420,
         18.63803215801503
        ],
        [
         "13285",
         6693,
         13.767152248617952
        ],
        [
         "13288",
         6158,
         18.370009202121896
        ],
        [
         "13289",
         9756,
         18.012040453737853
        ],
        [
         "13290",
         8927,
         20.171858780478704
        ],
        [
         "13292",
         4042,
         25.38806696354941
        ],
        [
         "13294",
         7214,
         16.581120044358197
        ],
        [
         "13296",
         7265,
         16.14747189722413
        ],
        [
         "13300",
         43151,
         38.26925370597814
        ],
        [
         "13303",
         14156,
         18.422058962042005
        ],
        [
         "13304",
         2899,
         18.46916752903299
        ],
        [
         "13307",
         2319,
         25.442144602558592
        ],
        [
         "13319",
         6976,
         19.42826118119266
        ],
        [
         "13323",
         13660,
         15.740821132259615
        ],
        [
         "13325",
         20409,
         15.393162330344458
        ],
        [
         "13326",
         2466,
         16.87941335496079
        ],
        [
         "13331",
         2183,
         24.74857993586807
        ],
        [
         "13332",
         16004,
         12.280248687828042
        ],
        [
         "13338",
         16418,
         22.073189994721258
        ],
        [
         "13341",
         12889,
         15.687971655416767
        ],
        [
         "13345",
         2063,
         22.563136209403797
        ],
        [
         "13353",
         8743,
         14.104123298638912
        ],
        [
         "13354",
         3016,
         14.685549292661353
        ],
        [
         "13379",
         12479,
         18.122401634746385
        ],
        [
         "13389",
         11619,
         20.047235849327272
        ],
        [
         "13398",
         4538,
         31.0607646540326
        ],
        [
         "13409",
         10376,
         15.998597725520405
        ],
        [
         "13420",
         1224,
         47.13444989106753
        ],
        [
         "13427",
         12385,
         24.488826537478143
        ],
        [
         "13430",
         24316,
         19.918066979218075
        ],
        [
         "13431",
         14613,
         41.16505850954626
        ],
        [
         "13432",
         4272,
         15.227032615480645
        ],
        [
         "13434",
         6368,
         18.58215295226131
        ],
        [
         "15442",
         997,
         18.992577733199592
        ],
        [
         "15443",
         1680,
         18.89736111111111
        ],
        [
         "15445",
         2632,
         20.54796732522794
        ],
        [
         "15446",
         1118,
         19.05471079308288
        ],
        [
         "15449",
         266,
         27.04962406015038
        ],
        [
         "15470",
         853,
         36.295545134818276
        ],
        [
         "15491",
         2064,
         49.15302002583979
        ],
        [
         "15529",
         17960,
         23.646011507052712
        ],
        [
         "15530",
         19861,
         20.561401742107673
        ],
        [
         "15534",
         12958,
         24.51072825024435
        ],
        [
         "15535",
         12312,
         15.164775557721446
        ],
        [
         "15539",
         11553,
         14.460992815718877
        ],
        [
         "15541",
         12832,
         50.27021119077302
        ],
        [
         "15542",
         1286,
         15.134849663037848
        ],
        [
         "15544",
         26375,
         32.48869889415483
        ],
        [
         "15545",
         13310,
         33.69464437766085
        ],
        [
         "15546",
         3703,
         33.577999819965775
        ],
        [
         "15550",
         6001,
         13.930617119368986
        ],
        [
         "15571",
         7363,
         33.57878808456701
        ],
        [
         "15575",
         6964,
         26.695225445146473
        ],
        [
         "15578",
         6193,
         21.682706281285324
        ],
        [
         "15585",
         1014,
         31.358004602235365
        ],
        [
         "15597",
         61,
         115.3245901639344
        ],
        [
         "15599",
         75,
         37.351777777777784
        ],
        [
         "15615",
         1354,
         29.145876415558856
        ],
        [
         "15621",
         1907,
         26.366037406047898
        ],
        [
         "15622",
         2869,
         25.88900894620658
        ],
        [
         "15623",
         2728,
         19.099572336265894
        ],
        [
         "15624",
         1071,
         24.933146591970115
        ],
        [
         "15628",
         2256,
         37.87678043735225
        ],
        [
         "15631",
         2313,
         27.960779651246575
        ],
        [
         "15632",
         2851,
         24.3345609727581
        ],
        [
         "15634",
         2701,
         20.491114402073297
        ],
        [
         "15640",
         1724,
         46.589191802010816
        ],
        [
         "15642",
         3544,
         30.839964258841242
        ],
        [
         "15643",
         1968,
         28.68987974254744
        ],
        [
         "15644",
         1788,
         34.45231170768083
        ],
        [
         "15645",
         2357,
         28.275441945976514
        ],
        [
         "15646",
         4013,
         21.496133399784053
        ],
        [
         "15648",
         3363,
         23.199881058578658
        ],
        [
         "15650",
         3794,
         24.852798277982778
        ],
        [
         "15651",
         5311,
         22.733640871147934
        ],
        [
         "15652",
         1121,
         34.47077014570324
        ],
        [
         "15653",
         2690,
         30.554275092936813
        ],
        [
         "15654",
         1830,
         25.077559198542822
        ],
        [
         "15655",
         4396,
         22.716776615104642
        ],
        [
         "15664",
         2043,
         21.220060368738785
        ],
        [
         "15666",
         741,
         28.111268556005395
        ],
        [
         "15667",
         2202,
         40.73250075688766
        ],
        [
         "15668",
         3016,
         21.170496242263486
        ],
        [
         "15682",
         359,
         144.7952181987
        ],
        [
         "15685",
         470,
         93.19865248226952
        ],
        [
         "15686",
         309,
         44.60787486515642
        ],
        [
         "15687",
         201,
         22.935323383084576
        ],
        [
         "15689",
         713,
         37.50516596540439
        ],
        [
         "15691",
         244,
         32.538592896174855
        ],
        [
         "15692",
         278,
         18.93399280575539
        ],
        [
         "16010",
         1053,
         44.68532763532763
        ],
        [
         "16806",
         829,
         30.480398069963808
        ],
        [
         "16903",
         130,
         569.7303846153845
        ],
        [
         "16905",
         267,
         27.008988764044947
        ],
        [
         "16906",
         597,
         65.72470686767169
        ],
        [
         "16907",
         252,
         49.2425925925926
        ],
        [
         "16912",
         72,
         34.961111111111116
        ],
        [
         "16913",
         111,
         173.41066066066065
        ],
        [
         "16915",
         164,
         46.11128048780487
        ],
        [
         "16916",
         240,
         38.70402777777778
        ],
        [
         "16918",
         267,
         45.65299625468163
        ],
        [
         "16920",
         553,
         36.847076552139846
        ],
        [
         "16921",
         271,
         54.903444034440355
        ],
        [
         "16932",
         345,
         25.130772946859903
        ],
        [
         "16933",
         291,
         18.75475372279496
        ],
        [
         "16937",
         296,
         22.701689189189185
        ],
        [
         "16940",
         112,
         40.588839285714286
        ],
        [
         "16943",
         90,
         67.52222222222224
        ],
        [
         "16948",
         139,
         238.75539568345323
        ],
        [
         "16950",
         95,
         138.93070175438595
        ],
        [
         "16953",
         104,
         113.93205128205126
        ],
        [
         "16970",
         78,
         41.2042735042735
        ],
        [
         "16991",
         760,
         39.5496052631579
        ],
        [
         "16994",
         384,
         29.27478298611111
        ],
        [
         "17660",
         5006,
         20.215827673458495
        ],
        [
         "18003",
         9349,
         20.33537989802832
        ],
        [
         "18016",
         1115,
         32.46128550074738
        ],
        [
         "18017",
         3190,
         33.929367816091975
        ],
        [
         "18022",
         527,
         38.33209993674889
        ],
        [
         "18025",
         31,
         14.023118279569893
        ],
        [
         "18058",
         4829,
         17.032632705183943
        ],
        [
         "18062",
         10072,
         16.00911272173683
        ],
        [
         "18067",
         7188,
         21.57147328881468
        ],
        [
         "18069",
         1790,
         16.223975791433897
        ],
        [
         "20.0",
         777,
         15.843007293007295
        ],
        [
         "20101",
         94,
         64.07499999999999
        ],
        [
         "20102",
         7,
         12.114285714285714
        ],
        [
         "201022",
         88,
         24.907575757575753
        ],
        [
         "20103",
         240,
         100.80881944444444
        ],
        [
         "20104",
         319,
         33.61170323928944
        ],
        [
         "20105",
         115,
         43.46608695652174
        ],
        [
         "20106",
         457,
         40.08971553610504
        ],
        [
         "20107",
         175,
         40.516380952380956
        ],
        [
         "20108",
         188,
         56.20593971631205
        ],
        [
         "20109",
         91,
         47.504761904761914
        ],
        [
         "20110",
         160,
         376.75822916666675
        ],
        [
         "20111",
         3,
         30.222222222222225
        ],
        [
         "20112",
         99,
         133.8478114478114
        ],
        [
         "20113",
         90,
         92.06777777777778
        ],
        [
         "20114",
         8,
         110.20833333333334
        ],
        [
         "20116",
         170,
         245.49637254901958
        ],
        [
         "20118",
         127,
         19.69133858267716
        ],
        [
         "20119",
         141,
         214.44314420803786
        ],
        [
         "20120",
         109,
         37.54969418960245
        ],
        [
         "20121",
         151,
         162.2695364238411
        ],
        [
         "20123",
         139,
         39.561750599520394
        ],
        [
         "20124",
         90,
         39.81944444444444
        ],
        [
         "20125",
         85,
         62.4043137254902
        ],
        [
         "20126",
         19,
         28.703508771929826
        ],
        [
         "20127",
         90,
         41.08777777777778
        ],
        [
         "20128",
         5,
         17.566666666666666
        ],
        [
         "20129",
         56,
         52.69553571428572
        ],
        [
         "20130",
         80,
         39.21458333333334
        ],
        [
         "20131",
         151,
         33.94116997792494
        ],
        [
         "20133",
         15,
         18.464444444444442
        ],
        [
         "20134",
         24,
         17.786111111111115
        ],
        [
         "20201",
         17,
         29.22254901960784
        ],
        [
         "20202",
         45,
         31.88370370370371
        ],
        [
         "20203",
         220,
         116.00492424242427
        ],
        [
         "20204",
         82,
         316.164024390244
        ],
        [
         "20205",
         155,
         195.44806451612902
        ],
        [
         "20206",
         133,
         276.37318295739345
        ],
        [
         "20207",
         147,
         42.956462585034004
        ],
        [
         "20208",
         98,
         48.964285714285715
        ],
        [
         "20209",
         1,
         0.13333333333333333
        ],
        [
         "20210",
         182,
         37.52829670329671
        ],
        [
         "20211",
         78,
         42.37542735042735
        ],
        [
         "20212",
         58,
         63.32499999999999
        ],
        [
         "20213",
         127,
         42.16128608923885
        ],
        [
         "20214",
         86,
         50.48352713178295
        ],
        [
         "20215",
         62,
         124.19489247311829
        ],
        [
         "20217",
         40,
         22.975
        ],
        [
         "20218",
         94,
         109.12234042553192
        ],
        [
         "20220",
         9,
         18.88703703703704
        ],
        [
         "20221",
         37,
         44.52747747747748
        ],
        [
         "20222",
         213,
         78.86424100156493
        ],
        [
         "20223",
         93,
         64.06003584229391
        ],
        [
         "20224",
         370,
         87.34630630630632
        ],
        [
         "20225",
         44,
         58.021969696969684
        ],
        [
         "20226",
         102,
         39.46797385620914
        ],
        [
         "20227",
         79,
         66.04430379746836
        ],
        [
         "20228",
         81,
         34.1514403292181
        ],
        [
         "20229",
         201,
         32.22661691542289
        ],
        [
         "20230",
         149,
         215.1451901565995
        ],
        [
         "20231",
         131,
         187.9756997455471
        ],
        [
         "20232",
         276,
         48.842089371980684
        ],
        [
         "20233",
         77,
         55.9991341991342
        ],
        [
         "20234",
         96,
         44.62829861111112
        ],
        [
         "20235",
         55,
         371.809696969697
        ],
        [
         "20236",
         172,
         44.65552325581396
        ],
        [
         "20237",
         71,
         149.66455399061033
        ],
        [
         "20238",
         211,
         36.455055292259075
        ],
        [
         "20239",
         144,
         45.243750000000006
        ],
        [
         "20240",
         1,
         10.0
        ],
        [
         "20242",
         138,
         190.1536231884058
        ],
        [
         "20243",
         69,
         38.97439613526571
        ],
        [
         "20244",
         108,
         96.42438271604941
        ],
        [
         "20245",
         113,
         34.391002949852506
        ],
        [
         "20246.0",
         1661,
         15.4978125627132
        ],
        [
         "20247.0",
         173,
         12.158863198458576
        ],
        [
         "20248.0",
         1,
         8.983333333333333
        ],
        [
         "202480.0",
         615,
         12.066016260162593
        ],
        [
         "20249.0",
         43,
         14.304263565891471
        ],
        [
         "20251.0",
         243,
         11.816117969821672
        ],
        [
         "20252.0",
         1187,
         16.652541420949163
        ],
        [
         "20253.0",
         159,
         11.692767295597484
        ],
        [
         "20254.0",
         639,
         10.815753781950972
        ],
        [
         "20255.0",
         7,
         6.5738095238095235
        ],
        [
         "20256.0",
         527,
         13.328083491461097
        ],
        [
         "20257.0",
         367,
         12.635013623978201
        ],
        [
         "20258.0",
         1,
         28.616666666666667
        ],
        [
         "20260.0",
         19,
         18.04035087719298
        ],
        [
         "21544",
         207,
         15.282850241545884
        ],
        [
         "301",
         19,
         27.15701754385965
        ],
        [
         "302",
         10,
         32.16833333333334
        ],
        [
         "303",
         17,
         20.778431372549022
        ],
        [
         "304",
         20,
         31.185000000000002
        ],
        [
         "305",
         28,
         31.02916666666667
        ],
        [
         "307",
         11,
         22.5
        ],
        [
         "308",
         18,
         16.437037037037037
        ],
        [
         "309",
         13,
         15.983333333333336
        ],
        [
         "310",
         30,
         14.848888888888888
        ],
        [
         "312",
         124,
         18.323118279569893
        ],
        [
         "313",
         36,
         15.670370370370373
        ],
        [
         "314",
         93,
         21.39175627240143
        ],
        [
         "316",
         94,
         21.43244680851064
        ],
        [
         "317",
         68,
         20.926470588235293
        ],
        [
         "318",
         65,
         26.344615384615388
        ],
        [
         "319",
         24,
         24.599305555555556
        ],
        [
         "320",
         34,
         26.2
        ],
        [
         "321",
         73,
         21.000456621004567
        ],
        [
         "322",
         22,
         23.472727272727273
        ],
        [
         "323",
         41,
         16.29471544715447
        ],
        [
         "324",
         67,
         17.43855721393035
        ],
        [
         "325",
         16,
         22.211458333333333
        ],
        [
         "326",
         32,
         13.760416666666666
        ],
        [
         "327",
         56,
         38.267857142857146
        ],
        [
         "329.0",
         41,
         23.454471544715446
        ],
        [
         "330.0",
         19,
         38.08596491228071
        ],
        [
         "331",
         18807,
         13.929043264032888
        ],
        [
         "331.0",
         31,
         7.853225806451612
        ],
        [
         "332.0",
         14,
         12.485714285714286
        ],
        [
         "334.0",
         56,
         25.473214285714285
        ],
        [
         "335.0",
         29,
         20.33505747126437
        ],
        [
         "337",
         10,
         31.804999999999996
        ],
        [
         "338",
         6,
         36.62777777777778
        ],
        [
         "339",
         15,
         15.694444444444441
        ],
        [
         "340",
         5,
         18.976666666666667
        ],
        [
         "341",
         16,
         24.10104166666667
        ],
        [
         "342",
         1,
         2.2666666666666666
        ],
        [
         "343",
         26,
         8.36025641025641
        ],
        [
         "344",
         18,
         13.431481481481484
        ],
        [
         "345",
         18,
         15.389814814814818
        ],
        [
         "346",
         24,
         16.234027777777776
        ],
        [
         "347",
         7,
         26.014285714285712
        ],
        [
         "348",
         6,
         4.7972222222222225
        ],
        [
         "349",
         13,
         32.19358974358974
        ],
        [
         "350",
         7,
         18.783333333333335
        ],
        [
         "351",
         93,
         18.4663082437276
        ],
        [
         "352",
         35,
         28.10809523809524
        ],
        [
         "353",
         47,
         24.886524822695034
        ],
        [
         "354",
         6,
         38.233333333333334
        ],
        [
         "355",
         49,
         22.420408163265304
        ],
        [
         "356",
         45,
         23.328518518518518
        ],
        [
         "357",
         60,
         23.702222222222222
        ],
        [
         "358",
         84,
         18.800595238095244
        ],
        [
         "359",
         75,
         17.731555555555556
        ],
        [
         "360",
         99,
         23.93383838383839
        ],
        [
         "361",
         24,
         17.179166666666664
        ],
        [
         "362.0",
         16,
         24.207291666666666
        ],
        [
         "363.0",
         14,
         17.585714285714282
        ],
        [
         "364.0",
         24,
         22.98541666666667
        ],
        [
         "365.0",
         10,
         13.74
        ],
        [
         "366.0",
         48,
         20.528125000000003
        ],
        [
         "368.0",
         35,
         22.96428571428571
        ],
        [
         "369",
         6,
         46.56666666666667
        ],
        [
         "370",
         14,
         44.64166666666666
        ],
        [
         "371",
         16,
         28.007291666666667
        ],
        [
         "373",
         2,
         16.291666666666668
        ],
        [
         "374",
         5,
         10.693333333333333
        ],
        [
         "375",
         14,
         15.63690476190476
        ],
        [
         "376",
         5,
         24.153333333333332
        ],
        [
         "377",
         13,
         33.28846153846154
        ],
        [
         "378",
         57,
         34.63508771929824
        ],
        [
         "379",
         27,
         17.492592592592594
        ],
        [
         "380",
         2,
         48.71666666666667
        ],
        [
         "381",
         7,
         22.890476190476193
        ],
        [
         "382",
         31,
         7.80752688172043
        ],
        [
         "383",
         7,
         43.966666666666676
        ],
        [
         "384",
         33,
         15.16060606060606
        ],
        [
         "385",
         12,
         15.090277777777777
        ],
        [
         "386",
         22,
         24.861363636363638
        ],
        [
         "387",
         16,
         11.077083333333333
        ],
        [
         "388",
         11,
         67.93939393939394
        ],
        [
         "389",
         12,
         20.03055555555556
        ],
        [
         "390",
         2,
         1.0666666666666667
        ],
        [
         "393",
         43,
         23.001937984496127
        ],
        [
         "394",
         13,
         47.28974358974359
        ],
        [
         "396",
         56,
         17.644345238095237
        ],
        [
         "397",
         56,
         36.265773809523814
        ],
        [
         "398",
         146,
         21.201712328767123
        ],
        [
         "399",
         13,
         29.734615384615385
        ],
        [
         "400",
         25,
         36.52066666666666
        ],
        [
         "402",
         10,
         13.673333333333336
        ],
        [
         "403",
         5,
         24.66
        ],
        [
         "404",
         8,
         31.022916666666664
        ],
        [
         "406",
         8,
         46.02291666666666
        ],
        [
         "407",
         19,
         32.7219298245614
        ],
        [
         "414",
         7,
         4.504761904761905
        ],
        [
         "415",
         3,
         6.144444444444445
        ],
        [
         "418",
         11,
         7.413636363636365
        ],
        [
         "419",
         3,
         11.144444444444444
        ],
        [
         "420",
         3,
         18.294444444444448
        ],
        [
         "424",
         8,
         6.647916666666666
        ],
        [
         "425",
         24,
         16.333333333333332
        ],
        [
         "427",
         1,
         0.1
        ],
        [
         "428",
         106,
         11.617610062893087
        ],
        [
         "429",
         16,
         15.652083333333332
        ],
        [
         "430",
         39,
         22.44188034188034
        ],
        [
         "431",
         23,
         17.80289855072464
        ],
        [
         "432",
         18,
         11.038888888888888
        ],
        [
         "433",
         29,
         12.543678160919544
        ],
        [
         "434",
         54,
         15.49598765432099
        ],
        [
         "435",
         68,
         13.372549019607845
        ],
        [
         "436",
         63,
         7.778835978835978
        ],
        [
         "437",
         2,
         14.316666666666666
        ],
        [
         "441",
         31,
         14.349462365591396
        ],
        [
         "442",
         60,
         8.177777777777779
        ],
        [
         "443",
         42,
         13.29246031746032
        ],
        [
         "444",
         7,
         13.385714285714286
        ],
        [
         "445",
         57,
         14.20847953216374
        ],
        [
         "446",
         14,
         15.773809523809522
        ],
        [
         "452",
         17,
         13.980392156862747
        ],
        [
         "458",
         3,
         22.666666666666668
        ],
        [
         "460",
         1,
         14.366666666666667
        ],
        [
         "462",
         8,
         12.441666666666666
        ],
        [
         "464",
         8,
         18.591666666666665
        ],
        [
         "466",
         1,
         36.983333333333334
        ],
        [
         "471",
         23,
         15.494927536231888
        ],
        [
         "472",
         53,
         14.918867924528309
        ],
        [
         "473",
         57,
         23.05409356725146
        ],
        [
         "474",
         1,
         1.0833333333333333
        ],
        [
         "475",
         15,
         38.84777777777777
        ],
        [
         "514",
         604,
         15.566307947019869
        ],
        [
         "515",
         1959,
         15.826773864216431
        ],
        [
         "517",
         879,
         16.35669321198332
        ],
        [
         "518",
         782,
         47.6186274509804
        ],
        [
         "519",
         407,
         37.46990171990172
        ],
        [
         "520",
         2915,
         23.130777587192686
        ],
        [
         "523",
         2266,
         25.44655781112092
        ],
        [
         "525",
         1935,
         35.79850990525409
        ],
        [
         "527",
         758,
         23.362620932277913
        ],
        [
         "528",
         244,
         40.61372950819672
        ],
        [
         "530",
         113,
         43.96504424778762
        ],
        [
         "534",
         114,
         110.04605263157893
        ],
        [
         "535",
         153,
         166.59684095860567
        ],
        [
         "536",
         72,
         36.18657407407407
        ],
        [
         "537",
         81,
         53.93106995884774
        ],
        [
         "540",
         151,
         102.11479028697573
        ],
        [
         "543",
         65,
         26.35282051282051
        ],
        [
         "545",
         134,
         44.79962686567165
        ],
        [
         "546",
         475,
         65.98007017543857
        ],
        [
         "549",
         357,
         20.81928104575163
        ],
        [
         "553",
         83,
         24.36305220883534
        ],
        [
         "554",
         93,
         28.39014336917562
        ],
        [
         "556",
         68,
         47.840441176470584
        ],
        [
         "557",
         78,
         27.85512820512821
        ],
        [
         "559",
         129,
         28.893669250645992
        ],
        [
         "560",
         66,
         29.229040404040404
        ],
        [
         "561",
         165,
         47.67222222222222
        ],
        [
         "562",
         52,
         175.1266025641026
        ],
        [
         "564",
         38,
         105.49473684210525
        ],
        [
         "567",
         115,
         36.311304347826095
        ],
        [
         "569",
         57,
         24.73421052631579
        ],
        [
         "570",
         130,
         69.82628205128204
        ],
        [
         "571",
         141,
         29.404137115839237
        ],
        [
         "572",
         41,
         502.0215447154472
        ],
        [
         "573",
         191,
         28.280715532286212
        ],
        [
         "574",
         135,
         67.43061728395061
        ],
        [
         "575",
         141,
         24.633451536643022
        ],
        [
         "576",
         154,
         275.54935064935074
        ],
        [
         "577",
         138,
         84.64335748792271
        ],
        [
         "579",
         307,
         74.3759500542888
        ],
        [
         "580",
         193,
         46.52495682210708
        ],
        [
         "582",
         82,
         52.39065040650406
        ],
        [
         "583",
         172,
         259.76230620155036
        ],
        [
         "584",
         173,
         39.861657032755296
        ],
        [
         "585",
         201,
         153.27180762852402
        ],
        [
         "586",
         78,
         56.809188034188026
        ],
        [
         "587",
         56,
         367.3214285714285
        ],
        [
         "588",
         99,
         41.34141414141414
        ],
        [
         "590",
         359,
         42.85970287836582
        ],
        [
         "592",
         518,
         39.26759974259974
        ],
        [
         "593",
         50,
         26.321000000000005
        ],
        [
         "594",
         311,
         60.301822079314036
        ],
        [
         "595",
         227,
         54.79456681350954
        ],
        [
         "596",
         6048,
         27.70342537477955
        ],
        [
         "598",
         958,
         24.70847251217814
        ],
        [
         "599",
         929,
         25.683369214208827
        ],
        [
         "600",
         700,
         74.2904285714286
        ],
        [
         "604",
         5384,
         21.977724120851924
        ],
        [
         "605",
         2845,
         31.905711775043947
        ],
        [
         "620",
         10614,
         12.890437158469952
        ],
        [
         "623",
         17848,
         36.99170215150156
        ],
        [
         "624",
         7263,
         25.305007113681214
        ],
        [
         "631",
         1370,
         68.27462287104625
        ],
        [
         "632",
         22082,
         17.223692751260426
        ],
        [
         "636",
         9722,
         11.972174792566694
        ],
        [
         "637",
         7008,
         17.090185026636238
        ],
        [
         "638",
         12897,
         14.590018350520785
        ],
        [
         "639",
         9235,
         32.25739577693558
        ],
        [
         "642",
         138,
         39.03925120772948
        ],
        [
         "643",
         2279,
         20.678360391984803
        ],
        [
         "644",
         4705,
         22.660722635494153
        ],
        [
         "646",
         151,
         37.054525386313465
        ],
        [
         "647",
         45,
         27.865185185185187
        ],
        [
         "649",
         131,
         107.66768447837148
        ],
        [
         "650",
         96,
         120.74392361111113
        ],
        [
         "651",
         90,
         65.83999999999999
        ],
        [
         "652",
         86,
         41.340310077519376
        ],
        [
         "653",
         467,
         45.766666666666666
        ],
        [
         "654",
         5045,
         16.247809712586722
        ],
        [
         "655",
         2107,
         20.389653535832934
        ],
        [
         "657",
         5383,
         16.144222552480034
        ],
        [
         "658",
         3999,
         20.383545886471612
        ],
        [
         "660",
         4016,
         24.970825033200533
        ],
        [
         "661",
         1354,
         29.712616937469246
        ],
        [
         "662",
         578,
         39.89625144175318
        ],
        [
         "665",
         33,
         22.80808080808081
        ],
        [
         "DIVVY 001",
         83,
         1.875100401606425
        ],
        [
         "DIVVY CASSETTE REPAIR MOBILE STATION",
         4,
         38.40416666666667
        ],
        [
         "E002",
         3718,
         26.836457772996233
        ],
        [
         "E006",
         1307,
         26.8687324662076
        ],
        [
         "E007",
         1120,
         31.346904761904756
        ],
        [
         "E008",
         4246,
         37.71019390799181
        ],
        [
         "E011",
         424,
         33.21474056603773
        ],
        [
         "E014",
         797,
         127.11093684650776
        ],
        [
         "Hastings WH 2",
         1,
         0.65
        ],
        [
         "Hubbard Bike-checking (LBS-WH-TEST)",
         468,
         3750.461146723647
        ],
        [
         "KA1503000001",
         129,
         155.64224806201545
        ],
        [
         "KA1503000002",
         1656,
         42.75344202898552
        ],
        [
         "KA1503000003",
         118,
         50.469632768361585
        ],
        [
         "KA1503000004",
         3339,
         76.30672356993105
        ],
        [
         "KA1503000005",
         1446,
         57.69651913324115
        ],
        [
         "KA1503000007",
         7138,
         29.292304100121388
        ],
        [
         "KA1503000009",
         344,
         46.19646317829458
        ],
        [
         "KA1503000010",
         112,
         30.020833333333332
        ],
        [
         "KA1503000011",
         72,
         149.26319444444445
        ],
        [
         "KA1503000012",
         15656,
         21.71991249361266
        ],
        [
         "KA1503000013",
         258,
         23.61963824289406
        ],
        [
         "KA1503000014",
         16738,
         12.292414466085164
        ],
        [
         "KA1503000015",
         10550,
         28.07660347551344
        ],
        [
         "KA1503000018",
         367,
         38.38978201634878
        ],
        [
         "KA1503000019",
         335,
         32.70402985074626
        ],
        [
         "KA1503000020",
         469,
         39.005223880597015
        ],
        [
         "KA1503000021",
         497,
         52.190509725016774
        ],
        [
         "KA1503000022",
         5503,
         17.799158035011203
        ],
        [
         "KA1503000023",
         354,
         83.88474576271186
        ],
        [
         "KA1503000024",
         188,
         77.78776595744681
        ],
        [
         "KA1503000025",
         161,
         21.845134575569357
        ],
        [
         "KA1503000027",
         915,
         31.19888888888889
        ],
        [
         "KA1503000028",
         191,
         136.84354275741708
        ],
        [
         "KA1503000029",
         1227,
         81.3127003531649
        ],
        [
         "KA1503000030",
         555,
         80.66426426426428
        ],
        [
         "KA1503000031",
         280,
         31.745238095238093
        ],
        [
         "KA1503000032",
         551,
         78.62961282516639
        ],
        [
         "KA1503000033",
         509,
         39.30343811394891
        ],
        [
         "KA1503000034",
         5466,
         20.125045737285042
        ],
        [
         "KA1503000038",
         2987,
         14.873964959267946
        ],
        [
         "KA1503000040",
         1260,
         21.385634920634924
        ],
        [
         "KA1503000041",
         19927,
         21.72968585336481
        ],
        [
         "KA1503000043",
         31960,
         11.078573216520674
        ],
        [
         "KA1503000044",
         9509,
         21.87354085603112
        ],
        [
         "KA1503000045",
         416,
         51.6207532051282
        ],
        [
         "KA1503000046",
         882,
         29.24693877551022
        ],
        [
         "KA1503000047",
         160,
         28.8003125
        ],
        [
         "KA1503000049",
         258,
         45.760465116279065
        ],
        [
         "KA1503000051",
         621,
         18.283387010198606
        ],
        [
         "KA1503000052",
         5600,
         15.076488095238087
        ],
        [
         "KA1503000053",
         388,
         137.53290378006875
        ],
        [
         "KA1503000054",
         790,
         34.28609704641351
        ],
        [
         "KA1503000055",
         152,
         257.89846491228076
        ],
        [
         "KA1503000059",
         6498,
         27.027505899251043
        ],
        [
         "KA1503000064",
         19411,
         32.867715041299576
        ],
        [
         "KA1503000065",
         1595,
         45.59260188087776
        ],
        [
         "KA1503000066",
         723,
         31.680544029506684
        ],
        [
         "KA1503000068",
         704,
         44.705374053030305
        ],
        [
         "KA1503000069",
         1141,
         26.232047911189017
        ],
        [
         "KA1503000070",
         3667,
         19.75390419052812
        ],
        [
         "KA1503000071",
         15903,
         13.049562975539208
        ],
        [
         "KA1503000072",
         8231,
         15.403355201879064
        ],
        [
         "KA1503000073",
         306,
         109.33398692810457
        ],
        [
         "KA1503000074",
         5133,
         45.624978894733424
        ],
        [
         "KA1503000075",
         750,
         22.927355555555554
        ],
        [
         "KA1504000076",
         12240,
         11.711123366013082
        ],
        [
         "KA1504000078",
         2385,
         22.93519916142557
        ],
        [
         "KA1504000079",
         11828,
         13.230546161650318
        ],
        [
         "KA1504000080",
         2742,
         26.98395939703379
        ],
        [
         "KA1504000082",
         173,
         35.63073217726397
        ],
        [
         "KA1504000086",
         164,
         67.08465447154471
        ],
        [
         "KA1504000090",
         2975,
         25.19291316526611
        ],
        [
         "KA1504000091",
         264,
         31.801957070707072
        ],
        [
         "KA1504000093",
         2687,
         19.297183972211887
        ],
        [
         "KA1504000096",
         1083,
         26.345737149892273
        ],
        [
         "KA1504000097",
         1227,
         28.64380603096984
        ],
        [
         "KA150400009X",
         1800,
         22.346249999999987
        ],
        [
         "KA1504000101",
         1380,
         25.249541062801914
        ],
        [
         "KA1504000102",
         581,
         82.69698795180723
        ],
        [
         "KA1504000103",
         6686,
         22.243812942466832
        ],
        [
         "KA1504000104",
         9770,
         14.366180484476292
        ],
        [
         "KA1504000106",
         659,
         60.17610015174508
        ],
        [
         "KA1504000109",
         1097,
         37.60674567000915
        ],
        [
         "KA1504000110",
         360,
         34.650231481481484
        ],
        [
         "KA1504000113",
         366,
         88.31607468123862
        ],
        [
         "KA1504000114",
         790,
         27.704177215189876
        ],
        [
         "KA1504000116",
         7295,
         15.530737948366461
        ],
        [
         "KA1504000117",
         2141,
         17.86732056671338
        ],
        [
         "KA1504000126",
         1164,
         25.64470217640321
        ],
        [
         "KA1504000127",
         1649,
         21.244521932484343
        ],
        [
         "KA1504000128",
         1111,
         35.06914191419142
        ],
        [
         "KA1504000129",
         1325,
         25.812691823899364
        ],
        [
         "KA1504000130",
         692,
         30.61794315992293
        ],
        [
         "KA1504000133",
         20225,
         20.064369180057696
        ],
        [
         "KA1504000134",
         13632,
         19.34333431142409
        ],
        [
         "KA1504000135",
         35843,
         14.370463781863512
        ],
        [
         "KA1504000139",
         1265,
         37.721133069828745
        ],
        [
         "KA1504000140",
         3617,
         19.673039351211866
        ],
        [
         "KA1504000141",
         458,
         28.65105531295487
        ],
        [
         "KA1504000142",
         765,
         21.85971677559913
        ],
        [
         "KA1504000143",
         2539,
         19.966069318629383
        ],
        [
         "KA1504000146",
         10312,
         20.305926752004137
        ],
        [
         "KA1504000147",
         1804,
         19.817729120473018
        ],
        [
         "KA1504000148",
         3111,
         20.831576127718844
        ],
        [
         "KA1504000149",
         3845,
         22.541564802774158
        ],
        [
         "KA1504000151",
         7274,
         19.314093575291
        ],
        [
         "KA1504000152",
         16114,
         32.67825183070625
        ],
        [
         "KA1504000155",
         978,
         22.724829584185418
        ],
        [
         "KA1504000156",
         2610,
         19.44141762452107
        ],
        [
         "KA1504000158",
         2485,
         18.55531187122737
        ],
        [
         "KA1504000159",
         2165,
         34.97297151655118
        ],
        [
         "KA1504000160",
         2008,
         31.85145252324038
        ],
        [
         "KA1504000161",
         710,
         54.650046948356795
        ],
        [
         "KA1504000162",
         2393,
         15.875372614570285
        ],
        [
         "KA1504000164",
         801,
         31.68841032043279
        ],
        [
         "KA1504000167",
         950,
         27.68161403508772
        ],
        [
         "KA1504000168",
         96,
         23.17934027777778
        ],
        [
         "KA1504000171",
         8231,
         27.941199935204263
        ],
        [
         "KA1504000175",
         4118,
         25.377221952404085
        ],
        [
         "KA17018054",
         2846,
         16.356248535956897
        ],
        [
         "KA17018068",
         3918,
         19.928632805853333
        ],
        [
         "KA1706005007",
         6533,
         22.499650492372055
        ],
        [
         "KA1706005015",
         642,
         24.266562824506742
        ],
        [
         "KP1705001026",
         14082,
         17.41577664157551
        ],
        [
         "LF-005",
         52641,
         28.277717305269068
        ],
        [
         "LP-",
         14514,
         29.779370492857485
        ],
        [
         "Lincoln Ave & Roscoe St - Charging",
         3,
         0.5222222222222223
        ],
        [
         "Pawel Bialowas - Test- PBSC charging station",
         1,
         2.5833333333333335
        ],
        [
         "RN-",
         16523,
         14.943141883031718
        ],
        [
         "RP-001",
         1212,
         30.15064631463146
        ],
        [
         "RP-002",
         963,
         65.14972308757355
        ],
        [
         "RP-004",
         611,
         21.609001636661205
        ],
        [
         "RP-005",
         1513,
         25.602445472571052
        ],
        [
         "RP-006",
         704,
         20.093181818181815
        ],
        [
         "RP-007",
         740,
         34.43009009009008
        ],
        [
         "RP-008",
         2089,
         18.64436732088718
        ],
        [
         "RP-009",
         4636,
         29.90131938452687
        ],
        [
         "SL-005",
         28236,
         28.38731406714837
        ],
        [
         "SL-006",
         2763,
         26.173531185909034
        ],
        [
         "SL-007",
         8801,
         29.75045070635912
        ],
        [
         "SL-008",
         18737,
         17.890833644660308
        ],
        [
         "SL-009",
         6208,
         17.97680412371133
        ],
        [
         "SL-010",
         6938,
         18.186165561641207
        ],
        [
         "SL-011",
         12156,
         23.08369255237471
        ],
        [
         "SL-012",
         9072,
         19.746364271017047
        ],
        [
         "SL-013",
         3140,
         27.96990976645435
        ],
        [
         "TA1305000001",
         3830,
         25.906066144473456
        ],
        [
         "TA1305000002",
         22724,
         23.174946458956754
        ],
        [
         "TA1305000003",
         25155,
         26.20760882528322
        ],
        [
         "TA1305000004",
         4086,
         30.93495676293033
        ],
        [
         "TA1305000005",
         8740,
         18.21066742944318
        ],
        [
         "TA1305000006",
         17166,
         17.85377296205681
        ],
        [
         "TA1305000009",
         5359,
         53.63463021708036
        ],
        [
         "TA1305000010",
         7790,
         33.63386606760804
        ],
        [
         "TA1305000011",
         24818,
         29.956289118113272
        ],
        [
         "TA1305000014",
         24128,
         17.68235659814324
        ],
        [
         "TA1305000017",
         4485,
         13.96964325529543
        ],
        [
         "TA1305000020",
         11056,
         15.255741980221893
        ],
        [
         "TA1305000022",
         16997,
         13.122432390029617
        ],
        [
         "TA1305000025",
         16198,
         18.104964604683694
        ],
        [
         "TA1305000029",
         19436,
         25.78096659120533
        ],
        [
         "TA1305000030",
         15257,
         18.73356710580936
        ],
        [
         "TA1305000032",
         24003,
         15.491708675304523
        ],
        [
         "TA1305000034",
         11161,
         16.017556670549247
        ],
        [
         "TA1305000035",
         8181,
         27.92930570834863
        ],
        [
         "TA1305000037",
         9549,
         18.329858274862985
        ],
        [
         "TA1305000039",
         8209,
         16.09970763795836
        ],
        [
         "TA1305000041",
         20930,
         18.81027950310562
        ],
        [
         "TA1306000002",
         4842,
         18.77112419110561
        ],
        [
         "TA1306000003",
         22891,
         12.904120251044779
        ],
        [
         "TA1306000006",
         4963,
         13.765659211498441
        ],
        [
         "TA1306000007",
         5763,
         15.113314824454859
        ],
        [
         "TA1306000008",
         7663,
         18.0371895254252
        ],
        [
         "TA1306000009",
         15119,
         13.724528738673182
        ],
        [
         "TA1306000010",
         18138,
         17.889418164442976
        ],
        [
         "TA1306000011",
         8079,
         14.873105169781725
        ],
        [
         "TA1306000012",
         29038,
         13.396052873246552
        ],
        [
         "TA1306000013",
         26400,
         24.125864267676793
        ],
        [
         "TA1306000014",
         18222,
         13.814237368748365
        ],
        [
         "TA1306000015",
         20291,
         16.377609120628165
        ],
        [
         "TA1306000016",
         17649,
         12.185358943849486
        ],
        [
         "TA1306000025",
         4715,
         13.407341816896427
        ],
        [
         "TA1306000026",
         14746,
         13.320629323206296
        ],
        [
         "TA1306000029",
         20697,
         30.073645939025013
        ],
        [
         "TA1306000032",
         13545,
         14.111378122308366
        ],
        [
         "TA1307000001",
         13566,
         16.114785738856945
        ],
        [
         "TA1307000005",
         2948,
         21.224276345544986
        ],
        [
         "TA1307000006",
         12725,
         14.8654158480681
        ],
        [
         "TA1307000038",
         16695,
         15.125431765997837
        ],
        [
         "TA1307000039",
         38767,
         16.638906802177146
        ],
        [
         "TA1307000041",
         21936,
         24.432321298322446
        ],
        [
         "TA1307000044",
         3101,
         20.96295818553155
        ],
        [
         "TA1307000048",
         10463,
         40.691555959093925
        ],
        [
         "TA1307000052",
         17834,
         15.102237299540223
        ],
        [
         "TA1307000061",
         10842,
         24.782610834409383
        ],
        [
         "TA1307000062",
         12437,
         12.18262442711264
        ],
        [
         "TA1307000064",
         15830,
         14.493064855759098
        ],
        [
         "TA1307000066",
         634,
         25.980389064143004
        ],
        [
         "TA1307000070",
         7125,
         16.108640935672508
        ],
        [
         "TA1307000107",
         15095,
         17.28351330462624
        ],
        [
         "TA1307000111",
         14872,
         16.362641204948897
        ],
        [
         "TA1307000113",
         12744,
         14.344042948315535
        ],
        [
         "TA1307000115",
         6867,
         14.89441774671133
        ],
        [
         "TA1307000117",
         31900,
         28.311660919540213
        ],
        [
         "TA1307000119",
         6766,
         24.185345846881486
        ],
        [
         "TA1307000120",
         26629,
         14.873088237134949
        ],
        [
         "TA1307000121",
         9929,
         10.494692315439625
        ],
        [
         "TA1307000124",
         13730,
         20.555558387958246
        ],
        [
         "TA1307000126",
         23106,
         21.557293199457575
        ],
        [
         "TA1307000127",
         16283,
         16.744625273802953
        ],
        [
         "TA1307000128",
         23425,
         17.263405905371748
        ],
        [
         "TA1307000129",
         4172,
         17.01077021412592
        ],
        [
         "TA1307000130",
         10396,
         11.134891624983972
        ],
        [
         "TA1307000131",
         15948,
         32.770523994649245
        ],
        [
         "TA1307000134",
         26135,
         16.31962374848543
        ],
        [
         "TA1307000136",
         19126,
         16.04545993237829
        ],
        [
         "TA1307000138",
         11830,
         16.654856297548612
        ],
        [
         "TA1307000139",
         7218,
         17.89829823589175
        ],
        [
         "TA1307000140",
         6162,
         18.384277290922853
        ],
        [
         "TA1307000142",
         23110,
         17.319855762296257
        ],
        [
         "TA1307000143",
         5400,
         20.742435185185204
        ],
        [
         "TA1307000144",
         4682,
         17.712177844226126
        ],
        [
         "TA1307000149",
         5571,
         16.308586130557064
        ],
        [
         "TA1307000150",
         19609,
         23.122005201693078
        ],
        [
         "TA1307000151",
         23686,
         14.823216949534167
        ],
        [
         "TA1307000153",
         2524,
         18.68318806127838
        ],
        [
         "TA1307000156",
         5305,
         17.852639019792647
        ],
        [
         "TA1307000158",
         5258,
         16.857997337390653
        ],
        [
         "TA1307000159",
         4205,
         27.894986127625835
        ],
        [
         "TA1307000160",
         914,
         38.148760029175776
        ],
        [
         "TA1307000161",
         661,
         18.893393847705497
        ],
        [
         "TA1307000163",
         11568,
         15.890975103734453
        ],
        [
         "TA1307000164",
         6468,
         19.635482374768106
        ],
        [
         "TA1307000166",
         11586,
         16.563008516025096
        ],
        [
         "TA1308000001",
         36192,
         32.177349506336625
        ],
        [
         "TA1308000002",
         1832,
         26.04610625909752
        ],
        [
         "TA1308000005",
         6566,
         18.792260635597522
        ],
        [
         "TA1308000006",
         5381,
         22.18098866381715
        ],
        [
         "TA1308000007",
         819,
         45.61648351648351
        ],
        [
         "TA1308000009",
         12352,
         34.53979922279793
        ],
        [
         "TA1308000012",
         18896,
         33.43855489697992
        ],
        [
         "TA1308000013",
         1682,
         26.203131193024177
        ],
        [
         "TA1308000014",
         1060,
         23.540566037735847
        ],
        [
         "TA1308000019",
         14302,
         15.832618981028318
        ],
        [
         "TA1308000021",
         6173,
         18.049605810248952
        ],
        [
         "TA1308000022",
         13821,
         22.568172828787112
        ],
        [
         "TA1308000023",
         720,
         27.45263888888889
        ],
        [
         "TA1308000026",
         2186,
         29.147941445562665
        ],
        [
         "TA1308000029",
         11893,
         26.091413716752157
        ],
        [
         "TA1308000031",
         6107,
         23.1769035532995
        ],
        [
         "TA1308000035",
         2549,
         36.89548842683408
        ],
        [
         "TA1308000036",
         3745,
         17.853453493546958
        ],
        [
         "TA1308000038",
         1734,
         47.32881584006151
        ],
        [
         "TA1308000043",
         1864,
         22.94492131616596
        ],
        [
         "TA1308000045",
         2475,
         15.313252525252526
        ],
        [
         "TA1308000046",
         3319,
         20.97200964145827
        ],
        [
         "TA1308000047",
         3230,
         15.949437564499497
        ],
        [
         "TA1308000049",
         25602,
         15.598363409108652
        ],
        [
         "TA1308000050",
         41947,
         15.446017593630007
        ],
        [
         "TA1309000001",
         7969,
         16.099198979378407
        ],
        [
         "TA1309000002",
         11190,
         33.09018170985999
        ],
        [
         "TA1309000003",
         888,
         33.283765015015014
        ],
        [
         "TA1309000004",
         11431,
         13.479962382993612
        ],
        [
         "TA1309000006",
         10667,
         15.30479985000469
        ],
        [
         "TA1309000007",
         12409,
         17.91216724420452
        ],
        [
         "TA1309000008",
         9586,
         20.738596216704913
        ],
        [
         "TA1309000010",
         17056,
         24.960416666666674
        ],
        [
         "TA1309000011",
         7168,
         12.45574079241071
        ],
        [
         "TA1309000012",
         2985,
         18.079558905639313
        ],
        [
         "TA1309000014",
         8840,
         18.824187405731504
        ],
        [
         "TA1309000015",
         2620,
         18.454681933842256
        ],
        [
         "TA1309000018",
         3670,
         17.38689827429609
        ],
        [
         "TA1309000019",
         24079,
         20.92850616719963
        ],
        [
         "TA1309000021",
         3113,
         18.985437412999243
        ],
        [
         "TA1309000023",
         15823,
         13.954823147738528
        ],
        [
         "TA1309000024",
         21284,
         18.88501613105306
        ],
        [
         "TA1309000025",
         21813,
         16.81199514051255
        ],
        [
         "TA1309000026",
         5925,
         19.375369901547103
        ],
        [
         "TA1309000027",
         8335,
         18.535516896620653
        ],
        [
         "TA1309000029",
         5471,
         18.245765551696834
        ],
        [
         "TA1309000030",
         10456,
         18.087879367508286
        ],
        [
         "TA1309000032",
         3157,
         17.500496251715774
        ],
        [
         "TA1309000033",
         17214,
         14.570435885519508
        ],
        [
         "TA1309000035",
         11958,
         21.94300189552323
        ],
        [
         "TA1309000036",
         14732,
         16.68379038827044
        ],
        [
         "TA1309000037",
         11654,
         18.744844402494117
        ],
        [
         "TA1309000039",
         21841,
         23.9023457411901
        ],
        [
         "TA1309000041",
         6068,
         21.888996923753016
        ],
        [
         "TA1309000042",
         11311,
         14.215206436212542
        ],
        [
         "TA1309000043",
         7150,
         16.457480186480183
        ],
        [
         "TA1309000049",
         21776,
         26.416012276512333
        ],
        [
         "TA1309000050",
         3264,
         18.122079248366006
        ],
        [
         "TA1309000051",
         114,
         49.981871345029234
        ],
        [
         "TA1309000053",
         1110,
         27.640045045045042
        ],
        [
         "TA1309000055",
         5494,
         14.494290741414872
        ],
        [
         "TA1309000058",
         23463,
         14.794309480174462
        ],
        [
         "TA1309000059",
         8627,
         14.584024960395675
        ],
        [
         "TA1309000061",
         18745,
         15.841985418333774
        ],
        [
         "TA1309000063",
         6064,
         20.339127088830246
        ],
        [
         "TA1309000064",
         9482,
         14.029323982282227
        ],
        [
         "TA1309000066",
         11681,
         13.913062523185799
        ],
        [
         "TA1309000067",
         1049,
         26.851970130282815
        ],
        [
         "Throop/Hastings Mobile Station",
         1,
         0.05
        ],
        [
         "WL-008",
         8214,
         15.563355247139029
        ],
        [
         "WL-011",
         8126,
         15.22503896956272
        ],
        [
         "WL-012",
         19968,
         13.26976746127138
        ]
       ],
       "datasetInfos": [
        {
         "name": "_sqldf",
         "schema": {
          "fields": [
           {
            "metadata": {},
            "name": "end_station_id",
            "nullable": true,
            "type": "string"
           },
           {
            "metadata": {},
            "name": "trip_count",
            "nullable": false,
            "type": "long"
           },
           {
            "metadata": {},
            "name": "avg_duration",
            "nullable": true,
            "type": "double"
           }
          ],
          "type": "struct"
         },
         "tableIdentifier": null,
         "typeStr": "pyspark.sql.dataframe.DataFrame"
        }
       ],
       "dbfsResultPath": null,
       "isJsonSchema": true,
       "metadata": {
        "createTempViewForImplicitDf": true,
        "dataframeName": "_sqldf",
        "executionCount": 18
       },
       "overflow": false,
       "plotOptions": {
        "customPlotOptions": {},
        "displayType": "table",
        "pivotAggregation": null,
        "pivotColumns": null,
        "xColumns": null,
        "yColumns": null
       },
       "removedWidgets": [],
       "schema": [
        {
         "metadata": "{}",
         "name": "end_station_id",
         "type": "\"string\""
        },
        {
         "metadata": "{}",
         "name": "trip_count",
         "type": "\"long\""
        },
        {
         "metadata": "{}",
         "name": "avg_duration",
         "type": "\"double\""
        }
       ],
       "type": "table"
      }
     },
     "output_type": "display_data"
    }
   ],
   "source": [
    "\n",
    "%sql\n",
    "\n",
    "\n",
    "SELECT end_station_id, COUNT(*) AS trip_count, AVG(trip_duration_minutes) AS avg_duration\n",
    "FROM trips_view\n",
    "GROUP BY end_station_id\n",
    "ORDER BY end_station_id;"
   ]
  },
  {
   "cell_type": "markdown",
   "metadata": {
    "application/vnd.databricks.v1+cell": {
     "cellMetadata": {},
     "inputWidgets": {},
     "nuid": "6f8dfbac-8917-40c0-86b2-73ad144cb863",
     "showTitle": false,
     "tableResultSettingsMap": {},
     "title": ""
    }
   },
   "source": [
    "#Based on age of the rider at time of the ride"
   ]
  },
  {
   "cell_type": "code",
   "execution_count": 0,
   "metadata": {
    "application/vnd.databricks.v1+cell": {
     "cellMetadata": {
      "byteLimit": 2048000,
      "rowLimit": 10000
     },
     "inputWidgets": {},
     "nuid": "62b3b349-fac5-4cf7-9414-3e19b7072d3e",
     "showTitle": false,
     "tableResultSettingsMap": {},
     "title": ""
    }
   },
   "outputs": [
    {
     "output_type": "stream",
     "name": "stdout",
     "output_type": "stream",
     "text": [
      "+---------+-------+------------------+\n|age_group|  trips|      avg_duration|\n+---------+-------+------------------+\n|      20s|1541344| 21.86783813347302|\n|      30s|1353770| 21.94270623271809|\n|      40s| 728898|21.413515471300634|\n| Under 20| 595304| 21.95564171134957|\n|      50s| 284199|21.321180287990707|\n|      60+|  81406| 21.46569356067118|\n+---------+-------+------------------+\n\n"
     ]
    }
   ],
   "source": [
    "\n",
    "\n",
    "from pyspark.sql.functions import datediff, floor\n",
    "from pyspark.sql.functions import count\n",
    "#selects, where it only creates a table of rider id and birthday (to join on trips later)\n",
    "riders_birthdays_df = spark.read.format(\"delta\").load(\"/delta/riders_dim\").select(\"rider_id\", \"birthday\")\n",
    "\n",
    "# Load trips\n",
    "trips_df = spark.read.format(\"delta\").load(\"/delta/trips_dim\")\n",
    "\n",
    "# Join only with rider_id and birthday included\n",
    "trips_with_birthday = trips_df.join(riders_birthdays_df, \"rider_id\", \"left\")\n",
    "\n",
    "# Assuming 'birthday' and 'start_time' are timestamps/dates\n",
    "trips_with_ages = trips_with_birthday.withColumn(\"age_at_ride\",\n",
    "               (datediff(\"started_at\", \"birthday\") / 365.25).cast(\"int\"))\n",
    "\n",
    "from pyspark.sql.functions import when, count, avg\n",
    "\n",
    "#creates age buckets\n",
    "trips_with_age_groups = trips_with_ages.withColumn(\n",
    "    \"age_group\",\n",
    "    when(col(\"age_at_ride\") < 20, \"Under 20\")\n",
    "    .when(col(\"age_at_ride\").between(20, 29), \"20s\")\n",
    "    .when(col(\"age_at_ride\").between(30, 39), \"30s\")\n",
    "    .when(col(\"age_at_ride\").between(40, 49), \"40s\")\n",
    "    .when(col(\"age_at_ride\").between(50, 59), \"50s\")\n",
    "    .otherwise(\"60+\")\n",
    ")\n",
    "\n",
    "#query for count and duration average by age group\n",
    "trips_with_age_groups.groupBy(\"age_group\").agg(\n",
    "    count(\"*\").alias(\"trips\"),\n",
    "    avg(\"trip_duration_minutes\").alias(\"avg_duration\")\n",
    ").orderBy(\"trips\", ascending=False).show()\n",
    "\n"
   ]
  },
  {
   "cell_type": "markdown",
   "metadata": {
    "application/vnd.databricks.v1+cell": {
     "cellMetadata": {},
     "inputWidgets": {},
     "nuid": "ab617a4f-ad50-45a5-9c94-cbf9ab1e137a",
     "showTitle": false,
     "tableResultSettingsMap": {},
     "title": ""
    }
   },
   "source": [
    "#Based on whether the rider is a member or a casual rider"
   ]
  },
  {
   "cell_type": "code",
   "execution_count": 0,
   "metadata": {
    "application/vnd.databricks.v1+cell": {
     "cellMetadata": {
      "byteLimit": 2048000,
      "rowLimit": 10000
     },
     "inputWidgets": {},
     "nuid": "f4e18241-cc2d-4a42-a3ba-cdf0b28b62c9",
     "showTitle": false,
     "tableResultSettingsMap": {},
     "title": ""
    }
   },
   "outputs": [
    {
     "output_type": "stream",
     "name": "stdout",
     "output_type": "stream",
     "text": [
      "+---------+-------+------------------+\n|is_member|  trips|      avg_duration|\n+---------+-------+------------------+\n|    False| 918615|21.323787622308135|\n|     True|3666306| 21.90442686726103|\n+---------+-------+------------------+\n\n"
     ]
    }
   ],
   "source": [
    "\n",
    "# # Assuming 'is_member' is a boolean in riders\n",
    "#selects, where it only creates a table of rider id and birthday (to join on trips later)\n",
    "riders_memberships_df = spark.read.format(\"delta\").load(\"/delta/riders_dim\").select(\"rider_id\", \"is_member\")\n",
    "\n",
    "# Load trips\n",
    "trips_df = spark.read.format(\"delta\").load(\"/delta/trips_dim\")\n",
    "\n",
    "# Join only with rider_id and birthdate included\n",
    "trips_with_memberships = trips_df.join(riders_memberships_df, \"rider_id\", \"left\")\n",
    "\n",
    "trips_with_memberships.groupBy(\"is_member\").agg(\n",
    "    count(\"*\").alias(\"trips\"),\n",
    "    avg(\"trip_duration_minutes\").alias(\"avg_duration\")\n",
    ").show()"
   ]
  },
  {
   "cell_type": "code",
   "execution_count": 0,
   "metadata": {
    "application/vnd.databricks.v1+cell": {
     "cellMetadata": {
      "byteLimit": 2048000,
      "rowLimit": 10000
     },
     "inputWidgets": {},
     "nuid": "2a83a8b4-f375-4d47-b4e6-e6567fd8ef3a",
     "showTitle": false,
     "tableResultSettingsMap": {},
     "title": ""
    }
   },
   "outputs": [],
   "source": [
    "payments_df = spark.read.format(\"delta\").load(\"/delta/payments_dim\")\n",
    "payments_df.createOrReplaceTempView(\"payments_view\")"
   ]
  },
  {
   "cell_type": "markdown",
   "metadata": {
    "application/vnd.databricks.v1+cell": {
     "cellMetadata": {},
     "inputWidgets": {},
     "nuid": "d58bf8eb-2e7c-4008-9251-806e0fb8542a",
     "showTitle": false,
     "tableResultSettingsMap": {},
     "title": ""
    }
   },
   "source": [
    "#Analyze how much money is spent\n",
    "#Per month"
   ]
  },
  {
   "cell_type": "code",
   "execution_count": 0,
   "metadata": {
    "application/vnd.databricks.v1+cell": {
     "cellMetadata": {
      "byteLimit": 2048000,
      "implicitDf": true,
      "rowLimit": 10000
     },
     "inputWidgets": {},
     "nuid": "e3c7b89b-d312-4b77-a876-c4d4c5bef626",
     "showTitle": false,
     "tableResultSettingsMap": {
      "0": {
       "dataGridStateBlob": "{\"version\":1,\"tableState\":{\"columnPinning\":{\"left\":[\"#row_number#\"],\"right\":[]},\"columnSizing\":{},\"columnVisibility\":{}},\"settings\":{\"columns\":{}},\"syncTimestamp\":1756844792461}",
       "filterBlob": null,
       "queryPlanFiltersBlob": null,
       "tableResultIndex": 0
      }
     },
     "title": ""
    }
   },
   "outputs": [
    {
     "output_type": "display_data",
     "data": {
      "text/html": [
       "<style scoped>\n",
       "  .table-result-container {\n",
       "    max-height: 300px;\n",
       "    overflow: auto;\n",
       "  }\n",
       "  table, th, td {\n",
       "    border: 1px solid black;\n",
       "    border-collapse: collapse;\n",
       "  }\n",
       "  th, td {\n",
       "    padding: 5px;\n",
       "  }\n",
       "  th {\n",
       "    text-align: left;\n",
       "  }\n",
       "</style><div class='table-result-container'><table class='table-result'><thead style='background-color: white'><tr><th>month</th><th>payment_amt</th></tr></thead><tbody><tr><td>null</td><td>7870587.150000028</td></tr><tr><td>1</td><td>1329161.9999999988</td></tr><tr><td>2</td><td>1360419.1400000025</td></tr><tr><td>3</td><td>781150.5399999997</td></tr><tr><td>4</td><td>803825.5499999997</td></tr><tr><td>5</td><td>826727.5200000003</td></tr><tr><td>6</td><td>851521.8599999989</td></tr><tr><td>7</td><td>875447.1600000017</td></tr><tr><td>8</td><td>901677.3099999999</td></tr><tr><td>9</td><td>926569.8700000012</td></tr><tr><td>10</td><td>954021.630000001</td></tr><tr><td>11</td><td>976061.0499999993</td></tr><tr><td>12</td><td>999934.4699999997</td></tr></tbody></table></div>"
      ]
     },
     "metadata": {
      "application/vnd.databricks.v1+output": {
       "addedWidgets": {},
       "aggData": [],
       "aggError": "",
       "aggOverflow": false,
       "aggSchema": [],
       "aggSeriesLimitReached": false,
       "aggType": "",
       "arguments": {},
       "columnCustomDisplayInfos": {},
       "data": [
        [
         null,
         7870587.150000028
        ],
        [
         1,
         1329161.9999999988
        ],
        [
         2,
         1360419.1400000025
        ],
        [
         3,
         781150.5399999997
        ],
        [
         4,
         803825.5499999997
        ],
        [
         5,
         826727.5200000003
        ],
        [
         6,
         851521.8599999989
        ],
        [
         7,
         875447.1600000017
        ],
        [
         8,
         901677.3099999999
        ],
        [
         9,
         926569.8700000012
        ],
        [
         10,
         954021.630000001
        ],
        [
         11,
         976061.0499999993
        ],
        [
         12,
         999934.4699999997
        ]
       ],
       "datasetInfos": [
        {
         "name": "_sqldf",
         "schema": {
          "fields": [
           {
            "metadata": {},
            "name": "month",
            "nullable": true,
            "type": "integer"
           },
           {
            "metadata": {},
            "name": "payment_amt",
            "nullable": true,
            "type": "double"
           }
          ],
          "type": "struct"
         },
         "tableIdentifier": null,
         "typeStr": "pyspark.sql.dataframe.DataFrame"
        }
       ],
       "dbfsResultPath": null,
       "isJsonSchema": true,
       "metadata": {
        "createTempViewForImplicitDf": true,
        "dataframeName": "_sqldf",
        "executionCount": 23
       },
       "overflow": false,
       "plotOptions": {
        "customPlotOptions": {},
        "displayType": "table",
        "pivotAggregation": null,
        "pivotColumns": null,
        "xColumns": null,
        "yColumns": null
       },
       "removedWidgets": [],
       "schema": [
        {
         "metadata": "{}",
         "name": "month",
         "type": "\"integer\""
        },
        {
         "metadata": "{}",
         "name": "payment_amt",
         "type": "\"double\""
        }
       ],
       "type": "table"
      }
     },
     "output_type": "display_data"
    }
   ],
   "source": [
    "%sql\n",
    "SELECT  month,SUM(amount) AS payment_amt\n",
    "FROM payments_view\n",
    "GROUP BY month\n",
    "ORDER BY month"
   ]
  },
  {
   "cell_type": "markdown",
   "metadata": {
    "application/vnd.databricks.v1+cell": {
     "cellMetadata": {},
     "inputWidgets": {},
     "nuid": "c7507f9f-cca3-423c-bef9-f70742440f06",
     "showTitle": false,
     "tableResultSettingsMap": {},
     "title": ""
    }
   },
   "source": [
    "#Per quarter"
   ]
  },
  {
   "cell_type": "markdown",
   "metadata": {
    "application/vnd.databricks.v1+cell": {
     "cellMetadata": {},
     "inputWidgets": {},
     "nuid": "43823077-b72a-4235-ab1e-0e08eac6e8e3",
     "showTitle": false,
     "tableResultSettingsMap": {},
     "title": ""
    }
   },
   "source": [
    "Analyze how much money is spent\n",
    "Per month, quarter, year"
   ]
  },
  {
   "cell_type": "code",
   "execution_count": 0,
   "metadata": {
    "application/vnd.databricks.v1+cell": {
     "cellMetadata": {
      "byteLimit": 2048000,
      "implicitDf": true,
      "rowLimit": 10000
     },
     "inputWidgets": {},
     "nuid": "75bf4652-5242-4f6d-a0ca-bfdb13b86e0d",
     "showTitle": false,
     "tableResultSettingsMap": {},
     "title": ""
    }
   },
   "outputs": [
    {
     "output_type": "display_data",
     "data": {
      "text/html": [
       "<style scoped>\n",
       "  .table-result-container {\n",
       "    max-height: 300px;\n",
       "    overflow: auto;\n",
       "  }\n",
       "  table, th, td {\n",
       "    border: 1px solid black;\n",
       "    border-collapse: collapse;\n",
       "  }\n",
       "  th, td {\n",
       "    padding: 5px;\n",
       "  }\n",
       "  th {\n",
       "    text-align: left;\n",
       "  }\n",
       "</style><div class='table-result-container'><table class='table-result'><thead style='background-color: white'><tr><th>quarter</th><th>payment_amt</th></tr></thead><tbody><tr><td>null</td><td>7870587.149999959</td></tr><tr><td>1</td><td>3470731.6800000146</td></tr><tr><td>2</td><td>2482074.9300000016</td></tr><tr><td>3</td><td>2703694.339999998</td></tr><tr><td>4</td><td>2930017.1499999953</td></tr></tbody></table></div>"
      ]
     },
     "metadata": {
      "application/vnd.databricks.v1+output": {
       "addedWidgets": {},
       "aggData": [],
       "aggError": "",
       "aggOverflow": false,
       "aggSchema": [],
       "aggSeriesLimitReached": false,
       "aggType": "",
       "arguments": {},
       "columnCustomDisplayInfos": {},
       "data": [
        [
         null,
         7870587.149999959
        ],
        [
         1,
         3470731.6800000146
        ],
        [
         2,
         2482074.9300000016
        ],
        [
         3,
         2703694.339999998
        ],
        [
         4,
         2930017.1499999953
        ]
       ],
       "datasetInfos": [
        {
         "name": "_sqldf",
         "schema": {
          "fields": [
           {
            "metadata": {},
            "name": "quarter",
            "nullable": true,
            "type": "integer"
           },
           {
            "metadata": {},
            "name": "payment_amt",
            "nullable": true,
            "type": "double"
           }
          ],
          "type": "struct"
         },
         "tableIdentifier": null,
         "typeStr": "pyspark.sql.dataframe.DataFrame"
        }
       ],
       "dbfsResultPath": null,
       "isJsonSchema": true,
       "metadata": {
        "createTempViewForImplicitDf": true,
        "dataframeName": "_sqldf",
        "executionCount": 24
       },
       "overflow": false,
       "plotOptions": {
        "customPlotOptions": {},
        "displayType": "table",
        "pivotAggregation": null,
        "pivotColumns": null,
        "xColumns": null,
        "yColumns": null
       },
       "removedWidgets": [],
       "schema": [
        {
         "metadata": "{}",
         "name": "quarter",
         "type": "\"integer\""
        },
        {
         "metadata": "{}",
         "name": "payment_amt",
         "type": "\"double\""
        }
       ],
       "type": "table"
      }
     },
     "output_type": "display_data"
    }
   ],
   "source": [
    "%sql\n",
    "SELECT  quarter,SUM(amount) AS payment_amt\n",
    "FROM payments_view\n",
    "GROUP BY quarter\n",
    "ORDER BY quarter"
   ]
  },
  {
   "cell_type": "markdown",
   "metadata": {
    "application/vnd.databricks.v1+cell": {
     "cellMetadata": {},
     "inputWidgets": {},
     "nuid": "1f1aeda2-9e32-4aec-911a-993a6c2620b6",
     "showTitle": false,
     "tableResultSettingsMap": {},
     "title": ""
    }
   },
   "source": [
    "#per year"
   ]
  },
  {
   "cell_type": "code",
   "execution_count": 0,
   "metadata": {
    "application/vnd.databricks.v1+cell": {
     "cellMetadata": {
      "byteLimit": 2048000,
      "implicitDf": true,
      "rowLimit": 10000
     },
     "inputWidgets": {},
     "nuid": "a1c406fb-86e5-40e7-83ec-e22464507199",
     "showTitle": false,
     "tableResultSettingsMap": {},
     "title": ""
    }
   },
   "outputs": [
    {
     "output_type": "display_data",
     "data": {
      "text/html": [
       "<style scoped>\n",
       "  .table-result-container {\n",
       "    max-height: 300px;\n",
       "    overflow: auto;\n",
       "  }\n",
       "  table, th, td {\n",
       "    border: 1px solid black;\n",
       "    border-collapse: collapse;\n",
       "  }\n",
       "  th, td {\n",
       "    padding: 5px;\n",
       "  }\n",
       "  th {\n",
       "    text-align: left;\n",
       "  }\n",
       "</style><div class='table-result-container'><table class='table-result'><thead style='background-color: white'><tr><th>year</th><th>payment_amt</th></tr></thead><tbody><tr><td>null</td><td>7870587.150000028</td></tr><tr><td>2020</td><td>4315449.400000006</td></tr><tr><td>2021</td><td>6081098.249999958</td></tr><tr><td>2022</td><td>1189970.4499999986</td></tr></tbody></table></div>"
      ]
     },
     "metadata": {
      "application/vnd.databricks.v1+output": {
       "addedWidgets": {},
       "aggData": [],
       "aggError": "",
       "aggOverflow": false,
       "aggSchema": [],
       "aggSeriesLimitReached": false,
       "aggType": "",
       "arguments": {},
       "columnCustomDisplayInfos": {},
       "data": [
        [
         null,
         7870587.150000028
        ],
        [
         2020,
         4315449.400000006
        ],
        [
         2021,
         6081098.249999958
        ],
        [
         2022,
         1189970.4499999986
        ]
       ],
       "datasetInfos": [
        {
         "name": "_sqldf",
         "schema": {
          "fields": [
           {
            "metadata": {},
            "name": "year",
            "nullable": true,
            "type": "integer"
           },
           {
            "metadata": {},
            "name": "payment_amt",
            "nullable": true,
            "type": "double"
           }
          ],
          "type": "struct"
         },
         "tableIdentifier": null,
         "typeStr": "pyspark.sql.dataframe.DataFrame"
        }
       ],
       "dbfsResultPath": null,
       "isJsonSchema": true,
       "metadata": {
        "createTempViewForImplicitDf": true,
        "dataframeName": "_sqldf",
        "executionCount": 25
       },
       "overflow": false,
       "plotOptions": {
        "customPlotOptions": {},
        "displayType": "table",
        "pivotAggregation": null,
        "pivotColumns": null,
        "xColumns": null,
        "yColumns": null
       },
       "removedWidgets": [],
       "schema": [
        {
         "metadata": "{}",
         "name": "year",
         "type": "\"integer\""
        },
        {
         "metadata": "{}",
         "name": "payment_amt",
         "type": "\"double\""
        }
       ],
       "type": "table"
      }
     },
     "output_type": "display_data"
    }
   ],
   "source": [
    "%sql\n",
    "SELECT  year,SUM(amount) AS payment_amt\n",
    "FROM payments_view\n",
    "GROUP BY year\n",
    "ORDER BY year\n"
   ]
  },
  {
   "cell_type": "markdown",
   "metadata": {
    "application/vnd.databricks.v1+cell": {
     "cellMetadata": {},
     "inputWidgets": {},
     "nuid": "286c53ec-4248-444d-8275-4edcdc705e3d",
     "showTitle": false,
     "tableResultSettingsMap": {},
     "title": ""
    }
   },
   "source": [
    "#By Age group, can total up total amount spent"
   ]
  },
  {
   "cell_type": "code",
   "execution_count": 0,
   "metadata": {
    "application/vnd.databricks.v1+cell": {
     "cellMetadata": {
      "byteLimit": 2048000,
      "rowLimit": 10000
     },
     "inputWidgets": {},
     "nuid": "8985e843-ada8-48fe-814e-e5b3a6212cfc",
     "showTitle": false,
     "tableResultSettingsMap": {},
     "title": ""
    }
   },
   "outputs": [],
   "source": [
    "from pyspark.sql.functions import datediff, floor\n",
    "from pyspark.sql.functions import count, sum, round\n",
    "#selects, where it only creates a table of rider id and birthday (to join on trips later)\n",
    "riders_birthdays_df = spark.read.format(\"delta\").load(\"/delta/riders_dim\").select(\"rider_id\", \"birthday\")\n",
    "\n",
    "# Load payments\n",
    "payments_df = spark.read.format(\"delta\").load(\"/delta/payments_dim\")\n",
    "\n",
    "# Join only with rider_id and birthday included\n",
    "payments_with_birthday = riders_birthdays_df.join(payments_df, \\\n",
    "                riders_birthdays_df.rider_id  == payments_df.account_number , \"left\")\n",
    "\n",
    "# Assuming 'birthday' and 'start_time' are timestamps/dates\n",
    "payments_with_ages = payments_with_birthday.withColumn(\"age_at_ride\",\n",
    "               (datediff(\"date\", \"birthday\") / 365.25).cast(\"int\"))\n",
    "\n",
    "\n",
    "\n",
    "from pyspark.sql.functions import when, count, avg\n",
    "\n",
    "#creates age buckets\n",
    "payments_with_age_groups = payments_with_ages.withColumn(\n",
    "    \"age_group\",\n",
    "    when(col(\"age_at_ride\") < 20, \"Under 20\")\n",
    "    .when(col(\"age_at_ride\").between(20, 29), \"20s\")\n",
    "    .when(col(\"age_at_ride\").between(30, 39), \"30s\")\n",
    "    .when(col(\"age_at_ride\").between(40, 49), \"40s\")\n",
    "    .when(col(\"age_at_ride\").between(50, 59), \"50s\")\n",
    "    .otherwise(\"60+\")\n",
    ")\n",
    "\n"
   ]
  },
  {
   "cell_type": "markdown",
   "metadata": {
    "application/vnd.databricks.v1+cell": {
     "cellMetadata": {},
     "inputWidgets": {},
     "nuid": "ad4c09ae-837f-40eb-83e2-199282621292",
     "showTitle": false,
     "tableResultSettingsMap": {},
     "title": ""
    }
   },
   "source": [
    "#in case they were asking for total amount spent per member, ordered by age\n"
   ]
  },
  {
   "cell_type": "code",
   "execution_count": 0,
   "metadata": {
    "application/vnd.databricks.v1+cell": {
     "cellMetadata": {
      "byteLimit": 2048000,
      "rowLimit": 10000
     },
     "inputWidgets": {},
     "nuid": "c118b760-9ae6-4bf2-87e8-f9862bd6a6fd",
     "showTitle": false,
     "tableResultSettingsMap": {},
     "title": ""
    }
   },
   "outputs": [
    {
     "output_type": "stream",
     "name": "stdout",
     "output_type": "stream",
     "text": [
      "+-----------+------------------+\n|age_at_ride|      amount_spent|\n+-----------+------------------+\n|       NULL|              NULL|\n|          7|            946.84|\n|          8| 5601.849999999999|\n|          9|16281.889999999998|\n|         10|35732.130000000005|\n|         11| 67595.26000000001|\n|         12|         117477.69|\n|         13|196032.96000000002|\n|         14|         309318.64|\n|         15|464579.09999999986|\n|         16|         569652.99|\n|         17| 569586.3000000009|\n|         18|         587365.28|\n|         19| 607406.4500000005|\n|         20| 627883.9600000002|\n|         21| 642158.6200000006|\n|         22|         658136.13|\n|         23| 658877.2400000015|\n|         24| 664448.7700000001|\n|         25| 656714.3499999999|\n+-----------+------------------+\nonly showing top 20 rows\n"
     ]
    }
   ],
   "source": [
    "\n",
    "#query for sum \n",
    "payments_with_by_member_ordered_by_age = payments_with_ages.groupBy(\"age_at_ride\").agg(\n",
    "    sum(\"amount\").alias(\"amount_spent\")\n",
    ").orderBy(\"age_at_ride\", ascending=True).show()"
   ]
  },
  {
   "cell_type": "markdown",
   "metadata": {
    "application/vnd.databricks.v1+cell": {
     "cellMetadata": {},
     "inputWidgets": {},
     "nuid": "d2ccab0f-33eb-427b-a145-d0504ac801c3",
     "showTitle": false,
     "tableResultSettingsMap": {},
     "title": ""
    }
   },
   "source": [
    "#EXTRA CREDIT - Analyze how much money is spent per member\n",
    "Based on how many rides the rider averages per month (average amount spent per member, on a ride)\n"
   ]
  },
  {
   "cell_type": "code",
   "execution_count": 0,
   "metadata": {
    "application/vnd.databricks.v1+cell": {
     "cellMetadata": {
      "byteLimit": 2048000,
      "rowLimit": 10000
     },
     "inputWidgets": {},
     "nuid": "b2a9de77-5647-4933-8b43-e6cc737a272a",
     "showTitle": false,
     "tableResultSettingsMap": {},
     "title": ""
    }
   },
   "outputs": [
    {
     "output_type": "stream",
     "name": "stdout",
     "output_type": "stream",
     "text": [
      "+--------------+---------------------+\n|account_number|avg_ride_spend_amount|\n+--------------+---------------------+\n|          NULL|                 NULL|\n|         43637|                 3.02|\n|         63104|                 3.02|\n|         26436|                 3.04|\n|          9438|                 3.07|\n|         59753|                 3.13|\n|         68947|                 3.15|\n|         18703|                 3.17|\n|         26633|                 3.18|\n|         70563|                 3.19|\n|         14096|                 3.25|\n|          9000|                 3.25|\n|         61615|                 3.25|\n|         62159|                 3.28|\n|         21040|                 3.29|\n|         64084|                  3.3|\n|         59169|                 3.31|\n|          2133|                 3.39|\n|         22753|                 3.46|\n|         28443|                 3.48|\n+--------------+---------------------+\nonly showing top 20 rows\n"
     ]
    }
   ],
   "source": [
    "#query for average per rider \n",
    "payments_with_by_member_ordered_by_age = payments_with_ages.groupBy(\"account_number\").agg(\n",
    "    avg(\"amount\").alias(\"avg_ride_spend_amount\")\n",
    ").orderBy(\"avg_ride_spend_amount\", ascending=True).show()"
   ]
  },
  {
   "cell_type": "markdown",
   "metadata": {
    "application/vnd.databricks.v1+cell": {
     "cellMetadata": {},
     "inputWidgets": {},
     "nuid": "764d1b9b-ce2e-4f00-80c7-0e4d0025fa84",
     "showTitle": false,
     "tableResultSettingsMap": {},
     "title": ""
    }
   },
   "source": [
    "#Based on how many minutes the rider spends on a bike per month (average amount a member spends per month, and include average minutes per month)"
   ]
  },
  {
   "cell_type": "code",
   "execution_count": 0,
   "metadata": {
    "application/vnd.databricks.v1+cell": {
     "cellMetadata": {
      "byteLimit": 2048000,
      "rowLimit": 10000
     },
     "inputWidgets": {},
     "nuid": "e91bfbcb-576b-425a-b8ed-95a327432a4b",
     "showTitle": true,
     "tableResultSettingsMap": {},
     "title": ""
    }
   },
   "outputs": [
    {
     "output_type": "stream",
     "name": "stdout",
     "output_type": "stream",
     "text": [
      "+--------------+-----------------+-------------------+\n|account_number|monthly_avg_spend|monthly_avg_minutes|\n+--------------+-----------------+-------------------+\n|         45273|            801.0|             1287.0|\n|         31518|           2509.0|             3859.0|\n|          4821|          3791.67|             5810.0|\n|         13610|           3528.0|            10604.0|\n|         55321|          1551.84|             1321.0|\n|         19132|          10205.1|            41800.0|\n|         70962|           1098.0|             2808.0|\n|         16504|            915.0|             1362.0|\n|         39581|          5072.52|             6013.0|\n|         23097|          1246.42|             1552.0|\n|         53616|          2714.58|             4188.0|\n|         75007|           9716.0|            16795.0|\n|         54816|           9882.0|            26385.0|\n|         55445|           2772.0|             4619.0|\n|         23459|           3357.0|             7723.0|\n|          1159|           4203.0|             7491.0|\n|         64612|            552.0|             1065.0|\n|         18333|          4195.13|             4546.0|\n|         52800|            898.8|             1018.0|\n|         39659|           1611.0|             2911.0|\n+--------------+-----------------+-------------------+\nonly showing top 20 rows\n"
     ]
    }
   ],
   "source": [
    "# select out the trips\n",
    "trips_with_minutes_df = spark.read.format(\"delta\").load(\"/delta/trips_dim\").select(\"rider_id\", \"trip_duration_minutes\")\n",
    "\n",
    "# Join the new payments table on trips to get the minutes\n",
    "payments_with_trip_minutes = payments_df.join(trips_with_minutes_df, \\\n",
    "                payments_df.account_number  == trips_with_minutes_df.rider_id , \"left\")\n",
    "                \n",
    "                \n",
    "#query for sum per month for members\n",
    "payments_with_monthly_sum = payments_with_trip_minutes.groupBy(\"account_number\",\"year\",\"month\").agg(\n",
    "    sum(\"amount\").alias(\"monthly_spend\"), sum(\"trip_duration_minutes\").alias(\"monthly_minutes\")\n",
    ")\n",
    "\n",
    "#query for average per month per member\n",
    "payments_with_monthly_average = payments_with_monthly_sum.groupBy(\"account_number\").agg(\n",
    "    round(avg(\"monthly_spend\"),2).alias(\"monthly_avg_spend\"), round(avg(\"monthly_minutes\")).alias(\"monthly_avg_minutes\")\n",
    ").show()\n",
    "\n"
   ]
  },
  {
   "cell_type": "code",
   "execution_count": 0,
   "metadata": {
    "application/vnd.databricks.v1+cell": {
     "cellMetadata": {},
     "inputWidgets": {},
     "nuid": "2fdfd868-7fbb-45c2-9dac-c04760320102",
     "showTitle": false,
     "tableResultSettingsMap": {},
     "title": ""
    }
   },
   "outputs": [],
   "source": []
  }
 ],
 "metadata": {
  "application/vnd.databricks.v1+notebook": {
   "computePreferences": null,
   "dashboards": [],
   "environmentMetadata": {
    "base_environment": "",
    "environment_version": "3"
   },
   "inputWidgetPreferences": null,
   "language": "python",
   "notebookMetadata": {
    "mostRecentlyExecutedCommandWithImplicitDF": {
     "commandId": 7055803159512472,
     "dataframes": [
      "_sqldf"
     ]
    },
    "pythonIndentUnit": 4
   },
   "notebookName": "Azure data lakehouse project code",
   "widgets": {}
  },
  "language_info": {
   "name": "python"
  }
 },
 "nbformat": 4,
 "nbformat_minor": 0
}